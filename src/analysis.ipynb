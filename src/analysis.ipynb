{
 "cells": [
  {
   "cell_type": "markdown",
   "metadata": {},
   "source": [
    "dane są pozmieniane ale nie są przygotowane do treningu (poprzerzucać wartości kolumn do meczy bo jest teraz wiersz z emczem-kursami na niego i wynikiem meczu i statystyk po tym meczu)"
   ]
  },
  {
   "cell_type": "markdown",
   "metadata": {},
   "source": [
    "# 1. Initial setup"
   ]
  },
  {
   "cell_type": "markdown",
   "metadata": {},
   "source": [
    "Import of libraries, global parameters."
   ]
  },
  {
   "cell_type": "code",
   "execution_count": 231,
   "metadata": {},
   "outputs": [],
   "source": [
    "import pandas as pd\n",
    "import numpy as np\n",
    "import seaborn as sns\n",
    "import matplotlib.pyplot as plt\n",
    "import os"
   ]
  },
  {
   "cell_type": "code",
   "execution_count": 232,
   "metadata": {},
   "outputs": [],
   "source": [
    "df1 = pd.read_csv(r\"..\\data\\extracted_data\\20_21_final.csv\")\n",
    "df2 = pd.read_csv(r\"..\\data\\extracted_data\\21_22_final.csv\")\n",
    "df3 = pd.read_csv(r\"..\\data\\extracted_data\\22_23_final.csv\")\n",
    "df4 = pd.read_csv(r\"..\\data\\extracted_data\\23_24_final.csv\")\n",
    "\n",
    "df_list = [df1, df2, df3, df4]"
   ]
  },
  {
   "cell_type": "code",
   "execution_count": 233,
   "metadata": {},
   "outputs": [],
   "source": [
    "joined_df = pd.concat(df_list, ignore_index=True)"
   ]
  },
  {
   "cell_type": "markdown",
   "metadata": {},
   "source": [
    "# 2. Data exploration"
   ]
  },
  {
   "cell_type": "markdown",
   "metadata": {},
   "source": [
    "## General overview"
   ]
  },
  {
   "cell_type": "markdown",
   "metadata": {},
   "source": [
    "In this chapter, we take an initial look at the football match data that forms the foundation of our analysis. We'll explore the structure of the dataset, review the types of information it contains, and highlight key statistics. This overview sets the stage for deeper analytical work in the following chapters by helping us understand the basic characteristics and quality of the data."
   ]
  },
  {
   "cell_type": "markdown",
   "metadata": {},
   "source": [
    "Leagues in the collected dataset"
   ]
  },
  {
   "cell_type": "code",
   "execution_count": 234,
   "metadata": {},
   "outputs": [
    {
     "name": "stdout",
     "output_type": "stream",
     "text": [
      "Tipico Bundesliga:  192\n",
      "PKO BP Ekstraklasa:  1158\n",
      "Eredivisie:  1224\n",
      "Jupiler League:  1302\n",
      "LaLiga:  1520\n",
      "Ligue 1:  1446\n",
      "Premier Liga:  960\n",
      "Premiership:  912\n",
      "Primeira Liga:  306\n",
      "Serie A:  1520\n",
      "Super League:  768\n",
      "Super Lig:  1522\n",
      "Bundesliga:  576\n",
      "Liga Portugal:  918\n"
     ]
    }
   ],
   "source": [
    "for league in joined_df['league'].unique():\n",
    "    print(f\"{league}: \" , joined_df.loc[joined_df['league'] == league].shape[0])"
   ]
  },
  {
   "cell_type": "code",
   "execution_count": 235,
   "metadata": {},
   "outputs": [
    {
     "name": "stdout",
     "output_type": "stream",
     "text": [
      "Tipico Bundesliga:  192\n",
      "PKO BP Ekstraklasa:  240\n",
      "Eredivisie:  306\n",
      "Jupiler League:  330\n",
      "LaLiga:  380\n",
      "Ligue 1:  380\n",
      "Premier Liga:  240\n",
      "Premiership:  228\n",
      "Primeira Liga:  306\n",
      "Serie A:  380\n",
      "Super League:  180\n",
      "Super Lig:  420\n",
      "==============\n",
      "Bundesliga:  192\n",
      "PKO BP Ekstraklasa:  306\n",
      "Eredivisie:  306\n",
      "Jupiler League:  330\n",
      "LaLiga:  380\n",
      "Ligue 1:  380\n",
      "Premier Liga:  240\n",
      "Premiership:  228\n",
      "Liga Portugal:  306\n",
      "Serie A:  380\n",
      "Super League:  180\n",
      "Super Lig:  380\n",
      "==============\n",
      "Bundesliga:  192\n",
      "PKO BP Ekstraklasa:  306\n",
      "Eredivisie:  306\n",
      "Jupiler League:  330\n",
      "LaLiga:  380\n",
      "Ligue 1:  380\n",
      "Premier Liga:  240\n",
      "Premiership:  228\n",
      "Liga Portugal:  306\n",
      "Serie A:  380\n",
      "Super League:  180\n",
      "Super Lig:  342\n",
      "==============\n",
      "Bundesliga:  192\n",
      "PKO BP Ekstraklasa:  306\n",
      "Eredivisie:  306\n",
      "Jupiler League:  312\n",
      "LaLiga:  380\n",
      "Ligue 1:  306\n",
      "Premier Liga:  240\n",
      "Premiership:  228\n",
      "Liga Portugal:  306\n",
      "Serie A:  380\n",
      "Super League:  228\n",
      "Super Lig:  380\n",
      "==============\n"
     ]
    }
   ],
   "source": [
    "for df in df_list:\n",
    "    for league in df['league'].unique():\n",
    "        print(f\"{league}: \" , df.loc[df['league'] == league].shape[0])\n",
    "    print('==============')"
   ]
  },
  {
   "cell_type": "markdown",
   "metadata": {},
   "source": [
    "We can observe an issue with *Tipico Bundesliga* and *Bundesliga*. In the 2021–22 season, the Austrian Bundesliga underwent a name change. Since the German Bundesliga data was not available on the Flashscore website (and is therefore missing from our dataframe), we simply updated the naming to reflect the correct league."
   ]
  },
  {
   "cell_type": "code",
   "execution_count": 236,
   "metadata": {},
   "outputs": [],
   "source": [
    "for _df in df_list:\n",
    "    _df.loc[_df['league'] == 'Bundesliga', 'league'] = 'Tipico Bundesliga'"
   ]
  },
  {
   "cell_type": "markdown",
   "metadata": {},
   "source": [
    "non-numeric columns include:\n",
    "-\t match_id\n",
    "-\t date\n",
    "-\t league\n",
    "-\t team_X\n",
    "-    possession (due to % symbol at the end)\n",
    "-\t team_X_formation\n",
    "-\t team_X_line_Y\n",
    "\n",
    "Note X represents 1 and 2, Y ranges from 1 to 5"
   ]
  },
  {
   "cell_type": "code",
   "execution_count": 237,
   "metadata": {},
   "outputs": [
    {
     "name": "stdout",
     "output_type": "stream",
     "text": [
      "\t match_id\n",
      "\t date\n",
      "\t league\n",
      "\t team_1\n",
      "\t team_2\n",
      "\t possession_1\n",
      "\t possession_2\n",
      "\t team_1_formation\n",
      "\t team_2_formation\n",
      "\t team_1_line_1\n",
      "\t team_1_line_2\n",
      "\t team_1_line_3\n",
      "\t team_2_line_1\n",
      "\t team_2_line_2\n",
      "\t team_2_line_3\n",
      "\t team_2_line_4\n",
      "\t team_1_line_4\n",
      "\t team_1_line_5\n",
      "\t team_2_line_5\n"
     ]
    }
   ],
   "source": [
    "for col in joined_df.columns:\n",
    "    if joined_df[col].dtype != float: \n",
    "        print('\\t', col)"
   ]
  },
  {
   "cell_type": "code",
   "execution_count": 238,
   "metadata": {},
   "outputs": [
    {
     "name": "stdout",
     "output_type": "stream",
     "text": [
      "Total matches:     14324\n",
      "Home wins:         6142\n",
      "Draws:             3667\n",
      "Away wins:         4515\n"
     ]
    }
   ],
   "source": [
    "home_wins = ((joined_df['goals_1'] > joined_df['goals_2'])).sum()\n",
    "draws = ((joined_df['goals_1'] == joined_df['goals_2'])).sum()\n",
    "away_wins = ((joined_df['goals_1'] < joined_df['goals_2'])).sum()\n",
    "\n",
    "total_matches = len(joined_df)\n",
    "\n",
    "print(f\"Total matches:     {total_matches}\")\n",
    "print(f\"Home wins:         {home_wins}\")\n",
    "print(f\"Draws:             {draws}\")\n",
    "print(f\"Away wins:         {away_wins}\")\n"
   ]
  },
  {
   "cell_type": "markdown",
   "metadata": {},
   "source": [
    "We have access to standard match statistics:"
   ]
  },
  {
   "cell_type": "code",
   "execution_count": 101,
   "metadata": {},
   "outputs": [
    {
     "data": {
      "text/plain": [
       "Index(['match_id', 'date', 'league', 'turn', 'goals_1', 'goals_2', 'winner',\n",
       "       'possession_1', 'possession_2', 'goal_chances_1', 'goal_chances_2',\n",
       "       'shots_on_target_1', 'shots_on_target_2', 'shots_off_target_1',\n",
       "       'shots_off_target_2', 'blocked_shots_1', 'blocked_shots_2',\n",
       "       'offsides_1', 'offsides_2', 'goalkeeper_saves_1', 'goalkeeper_saves_2',\n",
       "       'fouls_1', 'fouls_2', 'attacks_1', 'attacks_2', 'dangerous_attacks_1',\n",
       "       'dangerous_attacks_2', 'red_cards_1', 'red_cards_2', 'free_kicks_1',\n",
       "       'free_kicks_2', 'throw_ins_1', 'throw_ins_2', 'expected_goals_1',\n",
       "       'expected_goals_2'],\n",
       "      dtype='object')"
      ]
     },
     "execution_count": 101,
     "metadata": {},
     "output_type": "execute_result"
    }
   ],
   "source": [
    "joined_df[[col for col in joined_df.columns if not (col.startswith('bet_') or col.startswith('team_'))]].columns"
   ]
  },
  {
   "cell_type": "code",
   "execution_count": 102,
   "metadata": {},
   "outputs": [
    {
     "data": {
      "text/html": [
       "<div>\n",
       "<style scoped>\n",
       "    .dataframe tbody tr th:only-of-type {\n",
       "        vertical-align: middle;\n",
       "    }\n",
       "\n",
       "    .dataframe tbody tr th {\n",
       "        vertical-align: top;\n",
       "    }\n",
       "\n",
       "    .dataframe thead th {\n",
       "        text-align: right;\n",
       "    }\n",
       "</style>\n",
       "<table border=\"1\" class=\"dataframe\">\n",
       "  <thead>\n",
       "    <tr style=\"text-align: right;\">\n",
       "      <th></th>\n",
       "      <th>turn</th>\n",
       "      <th>goals_1</th>\n",
       "      <th>goals_2</th>\n",
       "      <th>winner</th>\n",
       "      <th>goal_chances_1</th>\n",
       "      <th>goal_chances_2</th>\n",
       "      <th>shots_on_target_1</th>\n",
       "      <th>shots_on_target_2</th>\n",
       "      <th>shots_off_target_1</th>\n",
       "      <th>shots_off_target_2</th>\n",
       "      <th>...</th>\n",
       "      <th>dangerous_attacks_1</th>\n",
       "      <th>dangerous_attacks_2</th>\n",
       "      <th>red_cards_1</th>\n",
       "      <th>red_cards_2</th>\n",
       "      <th>free_kicks_1</th>\n",
       "      <th>free_kicks_2</th>\n",
       "      <th>throw_ins_1</th>\n",
       "      <th>throw_ins_2</th>\n",
       "      <th>expected_goals_1</th>\n",
       "      <th>expected_goals_2</th>\n",
       "    </tr>\n",
       "  </thead>\n",
       "  <tbody>\n",
       "    <tr>\n",
       "      <th>count</th>\n",
       "      <td>14324.000000</td>\n",
       "      <td>14324.000000</td>\n",
       "      <td>14324.000000</td>\n",
       "      <td>14324.000000</td>\n",
       "      <td>14287.000000</td>\n",
       "      <td>14287.000000</td>\n",
       "      <td>14287.000000</td>\n",
       "      <td>14287.000000</td>\n",
       "      <td>14287.000000</td>\n",
       "      <td>14287.000000</td>\n",
       "      <td>...</td>\n",
       "      <td>10906.000000</td>\n",
       "      <td>10906.000000</td>\n",
       "      <td>2923.000000</td>\n",
       "      <td>2923.000000</td>\n",
       "      <td>10509.000000</td>\n",
       "      <td>10509.000000</td>\n",
       "      <td>9102.000000</td>\n",
       "      <td>9102.000000</td>\n",
       "      <td>4116.000000</td>\n",
       "      <td>4116.000000</td>\n",
       "    </tr>\n",
       "    <tr>\n",
       "      <th>mean</th>\n",
       "      <td>18.315415</td>\n",
       "      <td>1.520874</td>\n",
       "      <td>1.250349</td>\n",
       "      <td>1.059201</td>\n",
       "      <td>13.359768</td>\n",
       "      <td>11.302863</td>\n",
       "      <td>4.782740</td>\n",
       "      <td>4.014349</td>\n",
       "      <td>5.734514</td>\n",
       "      <td>4.893610</td>\n",
       "      <td>...</td>\n",
       "      <td>54.254814</td>\n",
       "      <td>47.550981</td>\n",
       "      <td>0.544646</td>\n",
       "      <td>0.614779</td>\n",
       "      <td>13.886002</td>\n",
       "      <td>13.957846</td>\n",
       "      <td>20.980773</td>\n",
       "      <td>20.074160</td>\n",
       "      <td>1.461672</td>\n",
       "      <td>1.166973</td>\n",
       "    </tr>\n",
       "    <tr>\n",
       "      <th>std</th>\n",
       "      <td>10.485262</td>\n",
       "      <td>1.294642</td>\n",
       "      <td>1.166758</td>\n",
       "      <td>0.753488</td>\n",
       "      <td>5.404322</td>\n",
       "      <td>4.886064</td>\n",
       "      <td>2.592508</td>\n",
       "      <td>2.375414</td>\n",
       "      <td>3.157227</td>\n",
       "      <td>2.845062</td>\n",
       "      <td>...</td>\n",
       "      <td>20.962863</td>\n",
       "      <td>19.617349</td>\n",
       "      <td>0.567462</td>\n",
       "      <td>0.567860</td>\n",
       "      <td>4.777216</td>\n",
       "      <td>4.715147</td>\n",
       "      <td>6.330300</td>\n",
       "      <td>6.140366</td>\n",
       "      <td>0.862960</td>\n",
       "      <td>0.757460</td>\n",
       "    </tr>\n",
       "    <tr>\n",
       "      <th>min</th>\n",
       "      <td>1.000000</td>\n",
       "      <td>0.000000</td>\n",
       "      <td>0.000000</td>\n",
       "      <td>0.000000</td>\n",
       "      <td>0.000000</td>\n",
       "      <td>0.000000</td>\n",
       "      <td>0.000000</td>\n",
       "      <td>0.000000</td>\n",
       "      <td>0.000000</td>\n",
       "      <td>0.000000</td>\n",
       "      <td>...</td>\n",
       "      <td>0.000000</td>\n",
       "      <td>0.000000</td>\n",
       "      <td>0.000000</td>\n",
       "      <td>0.000000</td>\n",
       "      <td>0.000000</td>\n",
       "      <td>0.000000</td>\n",
       "      <td>0.000000</td>\n",
       "      <td>0.000000</td>\n",
       "      <td>0.000000</td>\n",
       "      <td>0.000000</td>\n",
       "    </tr>\n",
       "    <tr>\n",
       "      <th>25%</th>\n",
       "      <td>9.000000</td>\n",
       "      <td>1.000000</td>\n",
       "      <td>0.000000</td>\n",
       "      <td>0.000000</td>\n",
       "      <td>9.000000</td>\n",
       "      <td>8.000000</td>\n",
       "      <td>3.000000</td>\n",
       "      <td>2.000000</td>\n",
       "      <td>3.000000</td>\n",
       "      <td>3.000000</td>\n",
       "      <td>...</td>\n",
       "      <td>39.000000</td>\n",
       "      <td>33.000000</td>\n",
       "      <td>0.000000</td>\n",
       "      <td>0.000000</td>\n",
       "      <td>11.000000</td>\n",
       "      <td>11.000000</td>\n",
       "      <td>17.000000</td>\n",
       "      <td>16.000000</td>\n",
       "      <td>0.820000</td>\n",
       "      <td>0.600000</td>\n",
       "    </tr>\n",
       "    <tr>\n",
       "      <th>50%</th>\n",
       "      <td>18.000000</td>\n",
       "      <td>1.000000</td>\n",
       "      <td>1.000000</td>\n",
       "      <td>1.000000</td>\n",
       "      <td>13.000000</td>\n",
       "      <td>11.000000</td>\n",
       "      <td>4.000000</td>\n",
       "      <td>4.000000</td>\n",
       "      <td>5.000000</td>\n",
       "      <td>4.000000</td>\n",
       "      <td>...</td>\n",
       "      <td>52.000000</td>\n",
       "      <td>45.000000</td>\n",
       "      <td>1.000000</td>\n",
       "      <td>1.000000</td>\n",
       "      <td>13.000000</td>\n",
       "      <td>14.000000</td>\n",
       "      <td>21.000000</td>\n",
       "      <td>20.000000</td>\n",
       "      <td>1.320000</td>\n",
       "      <td>1.030000</td>\n",
       "    </tr>\n",
       "    <tr>\n",
       "      <th>75%</th>\n",
       "      <td>27.000000</td>\n",
       "      <td>2.000000</td>\n",
       "      <td>2.000000</td>\n",
       "      <td>2.000000</td>\n",
       "      <td>17.000000</td>\n",
       "      <td>14.000000</td>\n",
       "      <td>6.000000</td>\n",
       "      <td>5.000000</td>\n",
       "      <td>7.000000</td>\n",
       "      <td>6.000000</td>\n",
       "      <td>...</td>\n",
       "      <td>67.000000</td>\n",
       "      <td>59.000000</td>\n",
       "      <td>1.000000</td>\n",
       "      <td>1.000000</td>\n",
       "      <td>17.000000</td>\n",
       "      <td>17.000000</td>\n",
       "      <td>25.000000</td>\n",
       "      <td>24.000000</td>\n",
       "      <td>1.940000</td>\n",
       "      <td>1.580000</td>\n",
       "    </tr>\n",
       "    <tr>\n",
       "      <th>max</th>\n",
       "      <td>42.000000</td>\n",
       "      <td>9.000000</td>\n",
       "      <td>13.000000</td>\n",
       "      <td>2.000000</td>\n",
       "      <td>46.000000</td>\n",
       "      <td>45.000000</td>\n",
       "      <td>23.000000</td>\n",
       "      <td>23.000000</td>\n",
       "      <td>29.000000</td>\n",
       "      <td>25.000000</td>\n",
       "      <td>...</td>\n",
       "      <td>163.000000</td>\n",
       "      <td>171.000000</td>\n",
       "      <td>3.000000</td>\n",
       "      <td>3.000000</td>\n",
       "      <td>45.000000</td>\n",
       "      <td>39.000000</td>\n",
       "      <td>51.000000</td>\n",
       "      <td>53.000000</td>\n",
       "      <td>6.410000</td>\n",
       "      <td>5.610000</td>\n",
       "    </tr>\n",
       "  </tbody>\n",
       "</table>\n",
       "<p>8 rows × 30 columns</p>\n",
       "</div>"
      ],
      "text/plain": [
       "               turn       goals_1       goals_2        winner  goal_chances_1  \\\n",
       "count  14324.000000  14324.000000  14324.000000  14324.000000    14287.000000   \n",
       "mean      18.315415      1.520874      1.250349      1.059201       13.359768   \n",
       "std       10.485262      1.294642      1.166758      0.753488        5.404322   \n",
       "min        1.000000      0.000000      0.000000      0.000000        0.000000   \n",
       "25%        9.000000      1.000000      0.000000      0.000000        9.000000   \n",
       "50%       18.000000      1.000000      1.000000      1.000000       13.000000   \n",
       "75%       27.000000      2.000000      2.000000      2.000000       17.000000   \n",
       "max       42.000000      9.000000     13.000000      2.000000       46.000000   \n",
       "\n",
       "       goal_chances_2  shots_on_target_1  shots_on_target_2  \\\n",
       "count    14287.000000       14287.000000       14287.000000   \n",
       "mean        11.302863           4.782740           4.014349   \n",
       "std          4.886064           2.592508           2.375414   \n",
       "min          0.000000           0.000000           0.000000   \n",
       "25%          8.000000           3.000000           2.000000   \n",
       "50%         11.000000           4.000000           4.000000   \n",
       "75%         14.000000           6.000000           5.000000   \n",
       "max         45.000000          23.000000          23.000000   \n",
       "\n",
       "       shots_off_target_1  shots_off_target_2  ...  dangerous_attacks_1  \\\n",
       "count        14287.000000        14287.000000  ...         10906.000000   \n",
       "mean             5.734514            4.893610  ...            54.254814   \n",
       "std              3.157227            2.845062  ...            20.962863   \n",
       "min              0.000000            0.000000  ...             0.000000   \n",
       "25%              3.000000            3.000000  ...            39.000000   \n",
       "50%              5.000000            4.000000  ...            52.000000   \n",
       "75%              7.000000            6.000000  ...            67.000000   \n",
       "max             29.000000           25.000000  ...           163.000000   \n",
       "\n",
       "       dangerous_attacks_2  red_cards_1  red_cards_2  free_kicks_1  \\\n",
       "count         10906.000000  2923.000000  2923.000000  10509.000000   \n",
       "mean             47.550981     0.544646     0.614779     13.886002   \n",
       "std              19.617349     0.567462     0.567860      4.777216   \n",
       "min               0.000000     0.000000     0.000000      0.000000   \n",
       "25%              33.000000     0.000000     0.000000     11.000000   \n",
       "50%              45.000000     1.000000     1.000000     13.000000   \n",
       "75%              59.000000     1.000000     1.000000     17.000000   \n",
       "max             171.000000     3.000000     3.000000     45.000000   \n",
       "\n",
       "       free_kicks_2  throw_ins_1  throw_ins_2  expected_goals_1  \\\n",
       "count  10509.000000  9102.000000  9102.000000       4116.000000   \n",
       "mean      13.957846    20.980773    20.074160          1.461672   \n",
       "std        4.715147     6.330300     6.140366          0.862960   \n",
       "min        0.000000     0.000000     0.000000          0.000000   \n",
       "25%       11.000000    17.000000    16.000000          0.820000   \n",
       "50%       14.000000    21.000000    20.000000          1.320000   \n",
       "75%       17.000000    25.000000    24.000000          1.940000   \n",
       "max       39.000000    51.000000    53.000000          6.410000   \n",
       "\n",
       "       expected_goals_2  \n",
       "count       4116.000000  \n",
       "mean           1.166973  \n",
       "std            0.757460  \n",
       "min            0.000000  \n",
       "25%            0.600000  \n",
       "50%            1.030000  \n",
       "75%            1.580000  \n",
       "max            5.610000  \n",
       "\n",
       "[8 rows x 30 columns]"
      ]
     },
     "execution_count": 102,
     "metadata": {},
     "output_type": "execute_result"
    }
   ],
   "source": [
    "joined_df[[col for col in joined_df.columns if not (col.startswith('bet_') or col.startswith('team_'))]].describe()"
   ]
  },
  {
   "cell_type": "markdown",
   "metadata": {},
   "source": [
    "We also have team lineups with individual player ratings, stored in the columns team_X_line_Y"
   ]
  },
  {
   "cell_type": "code",
   "execution_count": 103,
   "metadata": {},
   "outputs": [
    {
     "data": {
      "text/plain": [
       "array(['4 - 3 - 3', '3 - 4 - 1 - 2', '4 - 3 - 1 - 2', '5 - 4 - 1',\n",
       "       '3 - 4 - 2 - 1', '3 - 4 - 3', '4 - 4 - 2', '4 - 2 - 3 - 1',\n",
       "       '5 - 3 - 2', '4 - 1 - 4 - 1', '4 - 1 - 2 - 1 - 2', '4 - 1 - 3 - 2',\n",
       "       '4 - 4 - 1 - 1', '3 - 5 - 2', '4 - 5 - 1', '3 - 1 - 4 - 2',\n",
       "       '4 - 2 - 2 - 2', '4 - 3 - 2 - 1', '3 - 2 - 4 - 1', '5 - 2 - 3',\n",
       "       '4 - 2 - 1 - 3', '3 - 3 - 2 - 2', '3 - 5 - 1 - 1', '4 - 1 - 2 - 3',\n",
       "       nan, '4 - 1 - 2 - 2 - 1', '5 - 3 - 1 - 1', '3 - 3 - 1 - 3',\n",
       "       '3 - 3 - 3 - 1'], dtype=object)"
      ]
     },
     "execution_count": 103,
     "metadata": {},
     "output_type": "execute_result"
    }
   ],
   "source": [
    "joined_df['team_1_formation'].unique()"
   ]
  },
  {
   "cell_type": "code",
   "execution_count": 104,
   "metadata": {},
   "outputs": [
    {
     "data": {
      "text/html": [
       "<div>\n",
       "<style scoped>\n",
       "    .dataframe tbody tr th:only-of-type {\n",
       "        vertical-align: middle;\n",
       "    }\n",
       "\n",
       "    .dataframe tbody tr th {\n",
       "        vertical-align: top;\n",
       "    }\n",
       "\n",
       "    .dataframe thead th {\n",
       "        text-align: right;\n",
       "    }\n",
       "</style>\n",
       "<table border=\"1\" class=\"dataframe\">\n",
       "  <thead>\n",
       "    <tr style=\"text-align: right;\">\n",
       "      <th></th>\n",
       "      <th>team_1_line_0</th>\n",
       "      <th>team_1_line_1</th>\n",
       "      <th>team_1_line_2</th>\n",
       "      <th>team_1_line_3</th>\n",
       "      <th>team_1_line_4</th>\n",
       "      <th>team_1_line_5</th>\n",
       "    </tr>\n",
       "  </thead>\n",
       "  <tbody>\n",
       "    <tr>\n",
       "      <th>0</th>\n",
       "      <td>7.1</td>\n",
       "      <td>6.8-7.4-6.9-7.7</td>\n",
       "      <td>8.3-8.5-7.7</td>\n",
       "      <td>7.6-9.4-7.3</td>\n",
       "      <td>NaN</td>\n",
       "      <td>NaN</td>\n",
       "    </tr>\n",
       "    <tr>\n",
       "      <th>1</th>\n",
       "      <td>7.2</td>\n",
       "      <td>7.5-7.6-7.4</td>\n",
       "      <td>7.4-7.1-7.0-7.4</td>\n",
       "      <td>7.3</td>\n",
       "      <td>6.7-8.1</td>\n",
       "      <td>NaN</td>\n",
       "    </tr>\n",
       "    <tr>\n",
       "      <th>2</th>\n",
       "      <td>7.9</td>\n",
       "      <td>6.4-6.4-6.6-6.0</td>\n",
       "      <td>6.3-6.4-6.0</td>\n",
       "      <td>6.6</td>\n",
       "      <td>4.6-7.3</td>\n",
       "      <td>NaN</td>\n",
       "    </tr>\n",
       "    <tr>\n",
       "      <th>3</th>\n",
       "      <td>7.0</td>\n",
       "      <td>6.7-6.9-7.0-7.3-7.9</td>\n",
       "      <td>6.1-7.3-6.8-7.0</td>\n",
       "      <td>7.0</td>\n",
       "      <td>NaN</td>\n",
       "      <td>NaN</td>\n",
       "    </tr>\n",
       "    <tr>\n",
       "      <th>4</th>\n",
       "      <td>6.6</td>\n",
       "      <td>6.9-6.9-6.9</td>\n",
       "      <td>6.7-6.7-7.6-7.0</td>\n",
       "      <td>8.4-7.6</td>\n",
       "      <td>7.8</td>\n",
       "      <td>NaN</td>\n",
       "    </tr>\n",
       "  </tbody>\n",
       "</table>\n",
       "</div>"
      ],
      "text/plain": [
       "   team_1_line_0        team_1_line_1    team_1_line_2 team_1_line_3  \\\n",
       "0            7.1      6.8-7.4-6.9-7.7      8.3-8.5-7.7   7.6-9.4-7.3   \n",
       "1            7.2          7.5-7.6-7.4  7.4-7.1-7.0-7.4           7.3   \n",
       "2            7.9      6.4-6.4-6.6-6.0      6.3-6.4-6.0           6.6   \n",
       "3            7.0  6.7-6.9-7.0-7.3-7.9  6.1-7.3-6.8-7.0           7.0   \n",
       "4            6.6          6.9-6.9-6.9  6.7-6.7-7.6-7.0       8.4-7.6   \n",
       "\n",
       "  team_1_line_4 team_1_line_5  \n",
       "0           NaN           NaN  \n",
       "1       6.7-8.1           NaN  \n",
       "2       4.6-7.3           NaN  \n",
       "3           NaN           NaN  \n",
       "4           7.8           NaN  "
      ]
     },
     "execution_count": 104,
     "metadata": {},
     "output_type": "execute_result"
    }
   ],
   "source": [
    "lineup_cols = [f\"team_1_line_{i}\" for i in range(6)]\n",
    "joined_df[lineup_cols].head()"
   ]
  },
  {
   "cell_type": "markdown",
   "metadata": {},
   "source": [
    "## Bet overwiev - charts"
   ]
  },
  {
   "cell_type": "markdown",
   "metadata": {},
   "source": [
    "This section provides a visual overview of the betting-related columns (those starting with *bet_*). To enable a clear and informative presentation of the data, minimal preprocessing was applied to the dataframe — such as handling missing or invalid odds. The goal is to understand the structure, availability, and basic characteristics of the betting data before deeper analysis."
   ]
  },
  {
   "cell_type": "code",
   "execution_count": 105,
   "metadata": {},
   "outputs": [],
   "source": [
    "import seaborn as sns\n",
    "import matplotlib.pyplot as plt\n",
    "from collections import defaultdict\n",
    "from collections import Counter"
   ]
  },
  {
   "cell_type": "markdown",
   "metadata": {},
   "source": [
    "On the website, unavailable bets were marked with a value of -1. In such cases, we replace these values with NaN to ensure a clear and accurate overview of the data"
   ]
  },
  {
   "cell_type": "code",
   "execution_count": 106,
   "metadata": {},
   "outputs": [],
   "source": [
    "for df in df_list:\n",
    "    bet_cols = [col for col in df.columns if col.startswith('bet_')]\n",
    "    for col in bet_cols:\n",
    "        df[col] = df[col].apply(lambda x: np.nan if pd.notna(x) and x < 0 else x)\n"
   ]
  },
  {
   "cell_type": "markdown",
   "metadata": {},
   "source": [
    "Minor renaming was applied to prevent errors related to the handicap bet columns."
   ]
  },
  {
   "cell_type": "code",
   "execution_count": 107,
   "metadata": {},
   "outputs": [],
   "source": [
    "for _df in df_list:\n",
    "    new_cols = {}\n",
    "    for col in _df.columns:\n",
    "        if col.startswith('bet_handicap-_'):\n",
    "            new_col = col.replace('bet_handicap-_', 'bet_handicap-0_')\n",
    "            new_cols[col] = new_col\n",
    "    _df.rename(columns=new_cols, inplace=True)"
   ]
  },
  {
   "cell_type": "markdown",
   "metadata": {},
   "source": [
    "Global search for the best-performing ranges in specified bet types (excluding 'above/below' and handicap due to their different structure). While this analysis could be performed per league, doing so would result in few hundreds lines of data to process. Therefore, we start with a global overview, followed by an automated algorithm to filter out 2–4 leagues with lower consistency"
   ]
  },
  {
   "cell_type": "code",
   "execution_count": 108,
   "metadata": {},
   "outputs": [],
   "source": [
    "def calculate_profits_for_bet_column(df, bet_col, winning_values):\n",
    "    original_values = []\n",
    "    profits = []\n",
    "\n",
    "    for _, row in df.iterrows():\n",
    "        odds = row[bet_col]\n",
    "        winner = float(row['winner'])\n",
    "        original_values.append(odds)\n",
    "\n",
    "        if winner in winning_values:\n",
    "            profits.append(round(odds - 1, 2))\n",
    "        else:\n",
    "            profits.append(-1)\n",
    "\n",
    "    return original_values, profits"
   ]
  },
  {
   "cell_type": "code",
   "execution_count": 109,
   "metadata": {},
   "outputs": [],
   "source": [
    "def simple_bet_range(df, _range=1.0, bet_types=None, range_min=None, range_max=None):\n",
    "    bet_winner = {\n",
    "        'bet_1': {1.0},\n",
    "        'bet_2': {2.0},\n",
    "        'bet_x': {0.0},\n",
    "        'bet_1x': {1.0, 0.0},\n",
    "        'bet_12': {1.0, 2.0},\n",
    "        'bet_x2': {0.0, 2.0}\n",
    "    }\n",
    "\n",
    "    if bet_types is None:\n",
    "        bet_types = list(bet_winner.keys())\n",
    "\n",
    "    results = []\n",
    "\n",
    "    for bet_col in bet_types:\n",
    "        if bet_col not in df.columns:\n",
    "            continue\n",
    "\n",
    "        filtered_df = df.copy()\n",
    "\n",
    "        if range_min is not None:\n",
    "            filtered_df = filtered_df[filtered_df[bet_col] >= range_min]\n",
    "        if range_max is not None:\n",
    "            filtered_df = filtered_df[filtered_df[bet_col] <= range_max]\n",
    "\n",
    "        if filtered_df.empty or len(filtered_df) < 2:\n",
    "            continue\n",
    "\n",
    "        sorted_df = filtered_df.sort_values(by=bet_col)\n",
    "        original_vals, profit_vals = calculate_profits_for_bet_column(\n",
    "            sorted_df, bet_col, bet_winner[bet_col]\n",
    "        )\n",
    "\n",
    "        range_size = int(len(profit_vals) * _range)\n",
    "\n",
    "        if range_size < 2:\n",
    "            continue\n",
    "\n",
    "        # Sliding window\n",
    "        range_avg_profit = []\n",
    "        for i in range(len(profit_vals) - range_size + 1):\n",
    "            avg = round(sum(profit_vals[i:i + range_size]) / range_size, 3)\n",
    "            range_avg_profit.append(avg)\n",
    "\n",
    "        if not range_avg_profit:\n",
    "            continue\n",
    "\n",
    "        max_avg_profit = max(range_avg_profit)\n",
    "        best_index = range_avg_profit.index(max_avg_profit)\n",
    "        best_range = (\n",
    "            original_vals[best_index],\n",
    "            original_vals[best_index + range_size - 1]\n",
    "        )\n",
    "\n",
    "        print(f\"Bet: {bet_col}\")\n",
    "        print(f\"Highest expected value: {max_avg_profit}, Bet range: {best_range}\")\n",
    "        print(\"---------------------------------------------------------------\")\n",
    "\n",
    "        results.append({\n",
    "            \"bet\": bet_col,\n",
    "            \"max_avg_profit\": max_avg_profit,\n",
    "            \"range\": best_range\n",
    "        })\n",
    "\n",
    "    return results\n"
   ]
  },
  {
   "cell_type": "code",
   "execution_count": 110,
   "metadata": {},
   "outputs": [
    {
     "name": "stdout",
     "output_type": "stream",
     "text": [
      "Bet: bet_1\n",
      "Highest expected value: -0.002, Bet range: (1.02, 1.66)\n",
      "---------------------------------------------------------------\n",
      "Bet: bet_2\n",
      "Highest expected value: 0.02, Bet range: (1.3, 2.24)\n",
      "---------------------------------------------------------------\n",
      "Bet: bet_x\n",
      "Highest expected value: 0.043, Bet range: (3.45, 3.7)\n",
      "---------------------------------------------------------------\n",
      "Bet: bet_1x\n",
      "Highest expected value: -0.005, Bet range: (1.23, 1.37)\n",
      "---------------------------------------------------------------\n",
      "Bet: bet_12\n",
      "Highest expected value: -0.025, Bet range: (1.07, 1.23)\n",
      "---------------------------------------------------------------\n",
      "Bet: bet_x2\n",
      "Highest expected value: 0.003, Bet range: (1.04, 1.36)\n",
      "---------------------------------------------------------------\n"
     ]
    },
    {
     "data": {
      "text/plain": [
       "[{'bet': 'bet_1', 'max_avg_profit': -0.002, 'range': (1.02, 1.66)},\n",
       " {'bet': 'bet_2', 'max_avg_profit': 0.02, 'range': (1.3, 2.24)},\n",
       " {'bet': 'bet_x', 'max_avg_profit': 0.043, 'range': (3.45, 3.7)},\n",
       " {'bet': 'bet_1x', 'max_avg_profit': -0.005, 'range': (1.23, 1.37)},\n",
       " {'bet': 'bet_12', 'max_avg_profit': -0.025, 'range': (1.07, 1.23)},\n",
       " {'bet': 'bet_x2', 'max_avg_profit': 0.003, 'range': (1.04, 1.36)}]"
      ]
     },
     "execution_count": 110,
     "metadata": {},
     "output_type": "execute_result"
    }
   ],
   "source": [
    "simple_bet_range(joined_df, _range=0.2)"
   ]
  },
  {
   "cell_type": "markdown",
   "metadata": {},
   "source": [
    "Because this process is not yet automated, we manually copy the results into the *ranges* variable. Our goal is to identify the leagues with the poorest data quality or least reliable patterns for further analysis."
   ]
  },
  {
   "cell_type": "code",
   "execution_count": 111,
   "metadata": {},
   "outputs": [
    {
     "name": "stdout",
     "output_type": "stream",
     "text": [
      "Bet: bet_1\n",
      "Highest expected value: -0.05, Bet range: (1.05, 1.65)\n",
      "---------------------------------------------------------------\n",
      "Bet: bet_2\n",
      "Highest expected value: 0.057, Bet range: (1.3, 2.23)\n",
      "---------------------------------------------------------------\n",
      "Bet: bet_x\n",
      "Highest expected value: 0.136, Bet range: (3.45, 3.7)\n",
      "---------------------------------------------------------------\n",
      "Bet: bet_1x\n",
      "Highest expected value: 0.036, Bet range: (1.23, 1.37)\n",
      "---------------------------------------------------------------\n",
      "Bet: bet_12\n",
      "Highest expected value: -0.065, Bet range: (1.07, 1.23)\n",
      "---------------------------------------------------------------\n",
      "Bet: bet_x2\n",
      "Highest expected value: 0.045, Bet range: (1.06, 1.36)\n",
      "---------------------------------------------------------------\n",
      "Bet: bet_1\n",
      "Highest expected value: 0.046, Bet range: (1.18, 1.66)\n",
      "---------------------------------------------------------------\n",
      "Bet: bet_2\n",
      "Highest expected value: -0.089, Bet range: (1.36, 2.24)\n",
      "---------------------------------------------------------------\n",
      "Bet: bet_x\n",
      "Highest expected value: -0.088, Bet range: (3.45, 3.7)\n",
      "---------------------------------------------------------------\n",
      "Bet: bet_1x\n",
      "Highest expected value: 0.002, Bet range: (1.23, 1.37)\n",
      "---------------------------------------------------------------\n",
      "Bet: bet_12\n",
      "Highest expected value: 0.035, Bet range: (1.11, 1.23)\n",
      "---------------------------------------------------------------\n",
      "Bet: bet_x2\n",
      "Highest expected value: -0.02, Bet range: (1.08, 1.36)\n",
      "---------------------------------------------------------------\n",
      "Bet: bet_1\n",
      "Highest expected value: -0.036, Bet range: (1.04, 1.66)\n",
      "---------------------------------------------------------------\n",
      "Bet: bet_2\n",
      "Highest expected value: -0.008, Bet range: (1.3, 2.24)\n",
      "---------------------------------------------------------------\n",
      "Bet: bet_x\n",
      "Highest expected value: -0.059, Bet range: (3.45, 3.7)\n",
      "---------------------------------------------------------------\n",
      "Bet: bet_1x\n",
      "Highest expected value: -0.048, Bet range: (1.23, 1.37)\n",
      "---------------------------------------------------------------\n",
      "Bet: bet_12\n",
      "Highest expected value: -0.066, Bet range: (1.07, 1.23)\n",
      "---------------------------------------------------------------\n",
      "Bet: bet_x2\n",
      "Highest expected value: 0.016, Bet range: (1.04, 1.36)\n",
      "---------------------------------------------------------------\n",
      "Bet: bet_1\n",
      "Highest expected value: -0.045, Bet range: (1.09, 1.66)\n",
      "---------------------------------------------------------------\n",
      "Bet: bet_2\n",
      "Highest expected value: 0.076, Bet range: (1.3, 2.24)\n",
      "---------------------------------------------------------------\n",
      "Bet: bet_x\n",
      "Highest expected value: 0.04, Bet range: (3.45, 3.7)\n",
      "---------------------------------------------------------------\n",
      "Bet: bet_1x\n",
      "Highest expected value: -0.056, Bet range: (1.23, 1.37)\n",
      "---------------------------------------------------------------\n",
      "Bet: bet_12\n",
      "Highest expected value: -0.021, Bet range: (1.07, 1.23)\n",
      "---------------------------------------------------------------\n",
      "Bet: bet_x2\n",
      "Highest expected value: -0.059, Bet range: (1.04, 1.36)\n",
      "---------------------------------------------------------------\n",
      "Bet: bet_1\n",
      "Highest expected value: 0.04, Bet range: (1.13, 1.66)\n",
      "---------------------------------------------------------------\n",
      "Bet: bet_2\n",
      "Highest expected value: 0.061, Bet range: (1.33, 2.24)\n",
      "---------------------------------------------------------------\n",
      "Bet: bet_x\n",
      "Highest expected value: 0.003, Bet range: (3.45, 3.7)\n",
      "---------------------------------------------------------------\n",
      "Bet: bet_1x\n",
      "Highest expected value: 0.045, Bet range: (1.23, 1.37)\n",
      "---------------------------------------------------------------\n",
      "Bet: bet_12\n",
      "Highest expected value: -0.008, Bet range: (1.07, 1.23)\n",
      "---------------------------------------------------------------\n",
      "Bet: bet_x2\n",
      "Highest expected value: 0.018, Bet range: (1.05, 1.36)\n",
      "---------------------------------------------------------------\n",
      "Bet: bet_1\n",
      "Highest expected value: -0.028, Bet range: (1.08, 1.66)\n",
      "---------------------------------------------------------------\n",
      "Bet: bet_2\n",
      "Highest expected value: -0.004, Bet range: (1.31, 2.24)\n",
      "---------------------------------------------------------------\n",
      "Bet: bet_x\n",
      "Highest expected value: -0.032, Bet range: (3.45, 3.7)\n",
      "---------------------------------------------------------------\n",
      "Bet: bet_1x\n",
      "Highest expected value: -0.054, Bet range: (1.23, 1.37)\n",
      "---------------------------------------------------------------\n",
      "Bet: bet_12\n",
      "Highest expected value: -0.009, Bet range: (1.07, 1.23)\n",
      "---------------------------------------------------------------\n",
      "Bet: bet_x2\n",
      "Highest expected value: 0.042, Bet range: (1.04, 1.36)\n",
      "---------------------------------------------------------------\n",
      "Bet: bet_1\n",
      "Highest expected value: 0.006, Bet range: (1.04, 1.66)\n",
      "---------------------------------------------------------------\n",
      "Bet: bet_2\n",
      "Highest expected value: -0.109, Bet range: (1.3, 2.24)\n",
      "---------------------------------------------------------------\n",
      "Bet: bet_x\n",
      "Highest expected value: -0.101, Bet range: (3.45, 3.7)\n",
      "---------------------------------------------------------------\n",
      "Bet: bet_1x\n",
      "Highest expected value: -0.046, Bet range: (1.23, 1.37)\n",
      "---------------------------------------------------------------\n",
      "Bet: bet_12\n",
      "Highest expected value: -0.072, Bet range: (1.07, 1.23)\n",
      "---------------------------------------------------------------\n",
      "Bet: bet_x2\n",
      "Highest expected value: -0.055, Bet range: (1.04, 1.36)\n",
      "---------------------------------------------------------------\n",
      "Bet: bet_1\n",
      "Highest expected value: 0.005, Bet range: (1.05, 1.66)\n",
      "---------------------------------------------------------------\n",
      "Bet: bet_2\n",
      "Highest expected value: -0.122, Bet range: (1.3, 2.23)\n",
      "---------------------------------------------------------------\n",
      "Bet: bet_x\n",
      "Highest expected value: 0.019, Bet range: (3.45, 3.7)\n",
      "---------------------------------------------------------------\n",
      "Bet: bet_1x\n",
      "Highest expected value: -0.008, Bet range: (1.23, 1.37)\n",
      "---------------------------------------------------------------\n",
      "Bet: bet_12\n",
      "Highest expected value: -0.03, Bet range: (1.07, 1.23)\n",
      "---------------------------------------------------------------\n",
      "Bet: bet_x2\n",
      "Highest expected value: -0.038, Bet range: (1.04, 1.36)\n",
      "---------------------------------------------------------------\n",
      "Bet: bet_1\n",
      "Highest expected value: 0.062, Bet range: (1.13, 1.66)\n",
      "---------------------------------------------------------------\n",
      "Bet: bet_2\n",
      "Highest expected value: 0.066, Bet range: (1.3, 2.23)\n",
      "---------------------------------------------------------------\n",
      "Bet: bet_x\n",
      "Highest expected value: -0.297, Bet range: (3.45, 3.7)\n",
      "---------------------------------------------------------------\n",
      "Bet: bet_1x\n",
      "Highest expected value: -0.025, Bet range: (1.23, 1.37)\n",
      "---------------------------------------------------------------\n",
      "Bet: bet_12\n",
      "Highest expected value: 0.005, Bet range: (1.07, 1.23)\n",
      "---------------------------------------------------------------\n",
      "Bet: bet_x2\n",
      "Highest expected value: -0.002, Bet range: (1.04, 1.36)\n",
      "---------------------------------------------------------------\n",
      "Bet: bet_1\n",
      "Highest expected value: -0.028, Bet range: (1.1, 1.66)\n",
      "---------------------------------------------------------------\n",
      "Bet: bet_2\n",
      "Highest expected value: 0.084, Bet range: (1.33, 2.24)\n",
      "---------------------------------------------------------------\n",
      "Bet: bet_x\n",
      "Highest expected value: 0.127, Bet range: (3.45, 3.7)\n",
      "---------------------------------------------------------------\n",
      "Bet: bet_1x\n",
      "Highest expected value: 0.021, Bet range: (1.23, 1.37)\n",
      "---------------------------------------------------------------\n",
      "Bet: bet_12\n",
      "Highest expected value: -0.009, Bet range: (1.07, 1.23)\n",
      "---------------------------------------------------------------\n",
      "Bet: bet_x2\n",
      "Highest expected value: 0.05, Bet range: (1.05, 1.36)\n",
      "---------------------------------------------------------------\n",
      "Bet: bet_1\n",
      "Highest expected value: -0.031, Bet range: (1.14, 1.66)\n",
      "---------------------------------------------------------------\n",
      "Bet: bet_2\n",
      "Highest expected value: -0.131, Bet range: (1.35, 2.24)\n",
      "---------------------------------------------------------------\n",
      "Bet: bet_x\n",
      "Highest expected value: 0.113, Bet range: (3.45, 3.7)\n",
      "---------------------------------------------------------------\n",
      "Bet: bet_1x\n",
      "Highest expected value: 0.045, Bet range: (1.23, 1.37)\n",
      "---------------------------------------------------------------\n",
      "Bet: bet_12\n",
      "Highest expected value: -0.128, Bet range: (1.08, 1.23)\n",
      "---------------------------------------------------------------\n",
      "Bet: bet_x2\n",
      "Highest expected value: -0.046, Bet range: (1.06, 1.36)\n",
      "---------------------------------------------------------------\n",
      "Bet: bet_1\n",
      "Highest expected value: 0.039, Bet range: (1.02, 1.66)\n",
      "---------------------------------------------------------------\n",
      "Bet: bet_2\n",
      "Highest expected value: 0.116, Bet range: (1.3, 2.24)\n",
      "---------------------------------------------------------------\n",
      "Bet: bet_x\n",
      "Highest expected value: 0.027, Bet range: (3.45, 3.7)\n",
      "---------------------------------------------------------------\n",
      "Bet: bet_1x\n",
      "Highest expected value: 0.005, Bet range: (1.23, 1.37)\n",
      "---------------------------------------------------------------\n",
      "Bet: bet_12\n",
      "Highest expected value: 0.003, Bet range: (1.07, 1.23)\n",
      "---------------------------------------------------------------\n",
      "Bet: bet_x2\n",
      "Highest expected value: -0.028, Bet range: (1.04, 1.36)\n",
      "---------------------------------------------------------------\n",
      "Bet: bet_1\n",
      "Highest expected value: -0.053, Bet range: (1.09, 1.66)\n",
      "---------------------------------------------------------------\n",
      "Bet: bet_2\n",
      "Highest expected value: 0.034, Bet range: (1.34, 2.24)\n",
      "---------------------------------------------------------------\n",
      "Bet: bet_x\n",
      "Highest expected value: 0.063, Bet range: (3.45, 3.7)\n",
      "---------------------------------------------------------------\n",
      "Bet: bet_1x\n",
      "Highest expected value: -0.024, Bet range: (1.23, 1.37)\n",
      "---------------------------------------------------------------\n",
      "Bet: bet_12\n",
      "Highest expected value: -0.05, Bet range: (1.07, 1.23)\n",
      "---------------------------------------------------------------\n",
      "Bet: bet_x2\n",
      "Highest expected value: 0.031, Bet range: (1.04, 1.36)\n",
      "---------------------------------------------------------------\n",
      "Bet: bet_1\n",
      "Highest expected value: 0.04, Bet range: (1.07, 1.66)\n",
      "---------------------------------------------------------------\n",
      "Bet: bet_2\n",
      "Highest expected value: 0.122, Bet range: (1.3, 2.24)\n",
      "---------------------------------------------------------------\n",
      "Bet: bet_x\n",
      "Highest expected value: -0.11, Bet range: (3.45, 3.7)\n",
      "---------------------------------------------------------------\n",
      "Bet: bet_1x\n",
      "Highest expected value: 0.007, Bet range: (1.23, 1.37)\n",
      "---------------------------------------------------------------\n",
      "Bet: bet_12\n",
      "Highest expected value: 0.037, Bet range: (1.07, 1.23)\n",
      "---------------------------------------------------------------\n",
      "Bet: bet_x2\n",
      "Highest expected value: 0.016, Bet range: (1.04, 1.36)\n",
      "---------------------------------------------------------------\n",
      "\n",
      "=== Worst leagues: bet_1 ===\n",
      "League: Bundesliga, Average profit: -0.053, Range: (1.09, 1.66)\n",
      "League: Tipico Bundesliga, Average profit: -0.05, Range: (1.05, 1.65)\n",
      "League: Jupiler League, Average profit: -0.045, Range: (1.09, 1.66)\n",
      "\n",
      "=== Worst leagues: bet_2 ===\n",
      "League: Super League, Average profit: -0.131, Range: (1.35, 2.24)\n",
      "League: Premiership, Average profit: -0.122, Range: (1.3, 2.23)\n",
      "League: Premier Liga, Average profit: -0.109, Range: (1.3, 2.24)\n",
      "\n",
      "=== Worst leagues: bet_x ===\n",
      "League: Primeira Liga, Average profit: -0.297, Range: (3.45, 3.7)\n",
      "League: Liga Portugal, Average profit: -0.11, Range: (3.45, 3.7)\n",
      "League: Premier Liga, Average profit: -0.101, Range: (3.45, 3.7)\n",
      "\n",
      "=== Worst leagues: bet_1x ===\n",
      "League: Jupiler League, Average profit: -0.056, Range: (1.23, 1.37)\n",
      "League: Ligue 1, Average profit: -0.054, Range: (1.23, 1.37)\n",
      "League: Eredivisie, Average profit: -0.048, Range: (1.23, 1.37)\n",
      "\n",
      "=== Worst leagues: bet_12 ===\n",
      "League: Super League, Average profit: -0.128, Range: (1.08, 1.23)\n",
      "League: Premier Liga, Average profit: -0.072, Range: (1.07, 1.23)\n",
      "League: Eredivisie, Average profit: -0.066, Range: (1.07, 1.23)\n",
      "\n",
      "=== Worst leagues: bet_x2 ===\n",
      "League: Jupiler League, Average profit: -0.059, Range: (1.04, 1.36)\n",
      "League: Premier Liga, Average profit: -0.055, Range: (1.04, 1.36)\n",
      "League: Super League, Average profit: -0.046, Range: (1.06, 1.36)\n"
     ]
    }
   ],
   "source": [
    "ranges = {\n",
    "    'bet_1': [1.02, 1.66],\n",
    "    'bet_2': [1.3, 2.24],\n",
    "    'bet_x': [3.45, 3.7],\n",
    "    'bet_1x': [1.23, 1.37],\n",
    "    'bet_12': [1.07, 1.23],\n",
    "    'bet_x2': [1.04, 1.36]\n",
    "}\n",
    "bet_types = list(ranges.keys())\n",
    "\n",
    "all_results = {bet: [] for bet in bet_types}\n",
    "leagues = joined_df['league'].unique()\n",
    "\n",
    "for league in leagues:\n",
    "    league_df = joined_df[joined_df['league'] == league]\n",
    "\n",
    "    for bet_type in bet_types:\n",
    "        range_min, range_max = ranges[bet_type]\n",
    "\n",
    "        results = simple_bet_range(\n",
    "            league_df,\n",
    "            bet_types=[bet_type],\n",
    "            range_min=range_min,\n",
    "            range_max=range_max\n",
    "        )\n",
    "\n",
    "        for res in results:\n",
    "            all_results[bet_type].append({\n",
    "                \"league\": league,\n",
    "                \"max_avg_profit\": res[\"max_avg_profit\"],\n",
    "                \"range\": res[\"range\"]\n",
    "            })\n",
    "\n",
    "\n",
    "for bet_type in bet_types:\n",
    "    print(f\"\\n=== Worst leagues: {bet_type} ===\")\n",
    "    sorted_leagues = sorted(all_results[bet_type], key=lambda x: x[\"max_avg_profit\"])\n",
    "    for entry in sorted_leagues[:3]:\n",
    "        print(f\"League: {entry['league']}, Average profit: {entry['max_avg_profit']}, Range: {entry['range']}\")\n"
   ]
  },
  {
   "cell_type": "markdown",
   "metadata": {},
   "source": [
    "Selecting/finding the three leagues with the poorest performance"
   ]
  },
  {
   "cell_type": "code",
   "execution_count": 112,
   "metadata": {},
   "outputs": [
    {
     "name": "stdout",
     "output_type": "stream",
     "text": [
      "League: Premier Liga, Counter: 4\n",
      "League: Jupiler League, Counter: 3\n",
      "League: Super League, Counter: 3\n",
      "League: Eredivisie, Counter: 2\n",
      "League: Bundesliga, Counter: 1\n",
      "League: Tipico Bundesliga, Counter: 1\n",
      "League: Premiership, Counter: 1\n",
      "League: Primeira Liga, Counter: 1\n",
      "League: Liga Portugal, Counter: 1\n",
      "League: Ligue 1, Counter: 1\n"
     ]
    }
   ],
   "source": [
    "worst_counter = Counter()\n",
    "\n",
    "for bet_type in bet_types:\n",
    "    sorted_leagues = sorted(all_results[bet_type], key=lambda x: x[\"max_avg_profit\"])\n",
    "    worst_3 = sorted_leagues[:3]\n",
    "\n",
    "    for entry in worst_3:\n",
    "        worst_counter[entry[\"league\"]] += 1\n",
    "\n",
    "for league, count in worst_counter.most_common():\n",
    "    print(f\"League: {league}, Counter: {count}\")"
   ]
  },
  {
   "cell_type": "code",
   "execution_count": 113,
   "metadata": {},
   "outputs": [],
   "source": [
    "leagues_to_exclude = ['Premier Liga', 'Jupiler League', 'Super League']"
   ]
  },
  {
   "cell_type": "markdown",
   "metadata": {},
   "source": [
    "Having identified the leagues with the worst performance, we can exclude them from the analysis. This should improve the overall data quality for our basic analysis. As a result, charts will be generated both including all leagues and excluding the filtered ones. This will allow us to compare the impact of removing these leagues on the analysis outcomes."
   ]
  },
  {
   "cell_type": "code",
   "execution_count": 114,
   "metadata": {},
   "outputs": [],
   "source": [
    "def base_bet_condition(winner, winner_type):\n",
    "    if winner_type == '1':\n",
    "        return winner == 1.0\n",
    "    elif winner_type == '2':\n",
    "        return winner == 2.0\n",
    "    elif winner_type == 'x':\n",
    "        return winner == 0.0\n",
    "    elif winner_type == '1x':\n",
    "        return winner in [1.0, 0.0]\n",
    "    elif winner_type == '12':\n",
    "        return winner in [1.0, 2.0]\n",
    "    elif winner_type == 'x2':\n",
    "        return winner in [0.0, 2.0]\n",
    "    else:\n",
    "        return False"
   ]
  },
  {
   "cell_type": "code",
   "execution_count": 115,
   "metadata": {},
   "outputs": [],
   "source": [
    "def plot_base_bets(bet_type, range_min=1.0, range_max=3.0, step=0.2, nameprefix='', df_list=df_list):\n",
    "    season_years = {\n",
    "        0: '2020-2021',\n",
    "        1: '2021-2022',\n",
    "        2: '2022-2023',\n",
    "        3: '2023-2024'\n",
    "    }\n",
    "    \n",
    "    winner_type = str(bet_type).split('_')[1]\n",
    "    bins = np.arange(range_min, range_max + step, step)\n",
    "    labels = [f\"{round(b, 2)}–{round(b+step, 2)}\" for b in bins[:-1]]\n",
    "\n",
    "    num_plots = len(df_list)\n",
    "    fig, axes = plt.subplots(num_plots, 1, figsize=(12, 6 * num_plots))\n",
    "\n",
    "    if num_plots == 1:\n",
    "        axes = [axes]\n",
    "\n",
    "    for i, df in enumerate(df_list):\n",
    "        df = df.copy()\n",
    "        df['bin'] = pd.cut(df[bet_type], bins=bins, labels=labels, include_lowest=True)\n",
    "\n",
    "        hits = df['winner'].apply(lambda x: base_bet_condition(x, winner_type))\n",
    "        green = df[hits].groupby('bin').size().reindex(labels, fill_value=0)\n",
    "        red = df[~hits].groupby('bin').size().reindex(labels, fill_value=0)\n",
    "\n",
    "        def avg_profit(grupa):\n",
    "            hits = grupa['winner'].apply(lambda x: base_bet_condition(x, winner_type))\n",
    "            score = ((grupa[bet_type] - 1).where(hits, -1)).sum()\n",
    "            return score / len(grupa) if len(grupa) > 0 else 0\n",
    "\n",
    "        profit = df.groupby('bin').apply(avg_profit).reindex(labels, fill_value=0)\n",
    "\n",
    "        x = np.arange(len(labels))\n",
    "        width = 0.35\n",
    "\n",
    "        ax1 = axes[i]\n",
    "        ax1.bar(x - width / 2, green, width=width, color='green', label='Win')\n",
    "        ax1.bar(x + width / 2, red, width=width, color='red', label='Lost')\n",
    "        ax1.set_ylabel('Number of bets')\n",
    "        ax1.set_title(f'DF {i} — {bet_type} vs winner')\n",
    "        ax1.set_title(f'Season {season_years[i]} — Zakłady typu: {bet_type}')\n",
    "\n",
    "        ax2 = ax1.twinx()\n",
    "        ax2.bar(x, profit, width=width / 2, color='blue', alpha=0.5, label='Average profit')\n",
    "        ax2.axhline(y=0, color='black', linewidth=2, linestyle='--')\n",
    "\n",
    "        ax1.set_xticks(x)\n",
    "        ax1.set_xticklabels(labels, rotation=45)\n",
    "        ax1.grid(True, alpha=0.4)\n",
    "\n",
    "        h1, l1 = ax1.get_legend_handles_labels()\n",
    "        h2, l2 = ax2.get_legend_handles_labels()\n",
    "        ax1.legend(h1 + h2, l1 + l2, loc='best')\n",
    "\n",
    "        # plt.tight_layout()\n",
    "        plt.savefig(f\"../charts/{nameprefix}{bet_type}_{range_min}_to_{range_max}_step{step}.png\", dpi=400, bbox_inches='tight')\n",
    "    plt.show()"
   ]
  },
  {
   "cell_type": "markdown",
   "metadata": {},
   "source": [
    "Here we run the plotting function and modify commented lines to view or save the plots. We repeat this process for the bet types: *bet_1*, *bet_x*, *bet_2*, *bet_1x*, *bet_12*, and *bet_x2*."
   ]
  },
  {
   "cell_type": "code",
   "execution_count": 116,
   "metadata": {},
   "outputs": [],
   "source": [
    "# plot_base_bets('bet_12', 1.0, 1.6, 0.05)\n",
    "# plot_base_bets('bet_1', 1.0, 3.0, 0.2)\n",
    "# plot_base_bets('bet_2', 1.0, 3.0, 0.2)\n",
    "# plot_base_bets('bet_x2', 1.0, 1.6, 0.05)\n",
    "# plot_base_bets('bet_1x', 1.0, 1.6, 0.05)\n",
    "# plot_base_bets('bet_x', 2.6, 4.6, 0.2)"
   ]
  },
  {
   "cell_type": "code",
   "execution_count": 117,
   "metadata": {},
   "outputs": [],
   "source": [
    "filtered_df_list = []\n",
    "for df in df_list:\n",
    "    filtered_df = df[~df['league'].isin(leagues_to_exclude)].copy()\n",
    "    filtered_df_list.append(filtered_df)\n",
    "\n",
    "# plot_base_bets('bet_12', 1.0, 1.6, 0.05, nameprefix='filtered_', df_list=filtered_df_list)\n",
    "# plot_base_bets('bet_1', 1.0, 3.0, 0.2, nameprefix='filtered_', df_list=filtered_df_list)\n",
    "# plot_base_bets('bet_2', 1.0, 3.0, 0.2, nameprefix='filtered_', df_list=filtered_df_list)\n",
    "# plot_base_bets('bet_x2', 1.0, 1.6, 0.05, nameprefix='filtered_', df_list=filtered_df_list)\n",
    "# plot_base_bets('bet_1x', 1.0, 1.6, 0.05, nameprefix='filtered_', df_list=filtered_df_list)\n",
    "# plot_base_bets('bet_x', 2.6, 4.6, 0.2, nameprefix='filtered_', df_list=filtered_df_list)"
   ]
  },
  {
   "cell_type": "markdown",
   "metadata": {},
   "source": [
    "Now let’s take a closer look at the bet types: above, below, and handicap"
   ]
  },
  {
   "cell_type": "code",
   "execution_count": 118,
   "metadata": {},
   "outputs": [],
   "source": [
    "def advanced_bet_condition(col_name, goals_1, goals_2) -> bool:\n",
    "    if 'handicap' in col_name:\n",
    "        try:\n",
    "            suffix = col_name.replace('bet_handicap', '')\n",
    "            additional_goals_str, winner_str = suffix.split('_')\n",
    "            additional_goals = float(additional_goals_str)\n",
    "            winner = int(winner_str)\n",
    "            not_winner = 1 if winner == 2 else 2\n",
    "\n",
    "            goals_map = {1: goals_1, 2: goals_2}\n",
    "            return (goals_map[winner] + additional_goals) > goals_map[not_winner]\n",
    "\n",
    "        except Exception as e:\n",
    "            print(f\"Błąd przetwarzania kolumny '{col_name}': {e}\")\n",
    "            return False\n",
    "    \n",
    "    if str('above') in str(col_name):\n",
    "        value = float(col_name.split(\"_\")[-1])\n",
    "        return (goals_1 + goals_2) > value\n",
    "    \n",
    "    if str('below') in str(col_name):\n",
    "        value = float(col_name.split(\"_\")[-1])\n",
    "        return (goals_1 + goals_2) < value\n",
    "    \n",
    "    return False"
   ]
  },
  {
   "cell_type": "code",
   "execution_count": 119,
   "metadata": {},
   "outputs": [],
   "source": [
    "def plot_bet_results_by_type(prefix, handicap_team=1, save=True):\n",
    "    season_years = {\n",
    "        0: '2020-2021',\n",
    "        1: '2021-2022',\n",
    "        2: '2022-2023',\n",
    "        3: '2023-2024'\n",
    "    }\n",
    "\n",
    "    n_seasons = len(df_list)\n",
    "    fig, axes = plt.subplots(n_seasons, 1, figsize=(12, 5 * n_seasons), constrained_layout=True)\n",
    "    if n_seasons == 1:\n",
    "        axes = [axes]\n",
    "\n",
    "    for df_index, (df, ax1) in enumerate(zip(df_list, axes)):\n",
    "        bet_cols = [col for col in df.columns if col.startswith(prefix)]\n",
    "        if prefix == 'bet_handicap':\n",
    "            bet_cols = [col for col in bet_cols if col.endswith(f\"_{handicap_team}\")]\n",
    "\n",
    "        if not bet_cols:\n",
    "            print(f\"[DF {df_index}] Brak kolumn dla typu: {prefix}\")\n",
    "            continue\n",
    "\n",
    "        stats = {}\n",
    "        results = defaultdict(list)\n",
    "\n",
    "        for col in bet_cols:\n",
    "            if prefix != 'bet_handicap':\n",
    "                bet_value = col.split('_')[-1]\n",
    "            else:\n",
    "                bet_value = col.replace(prefix, \"\").split('_')[0]\n",
    "\n",
    "            for _, row in df.iterrows():\n",
    "                if pd.isna(row[col]):\n",
    "                    continue\n",
    "                res = advanced_bet_condition(col, row['goals_1'], row['goals_2'])\n",
    "                profit = row[col] - 1 if res else -1\n",
    "                results[bet_value].append(profit)\n",
    "\n",
    "\n",
    "        for bet_value, profit_list in results.items():\n",
    "            if not profit_list:\n",
    "                continue\n",
    "\n",
    "            green = sum(1 for p in profit_list if p > 0)\n",
    "            red = profit_list.count(-1)\n",
    "            avg_profit = sum(profit_list) / len(profit_list)\n",
    "            stats[bet_value] = {'green': green, 'red': red, 'profit': avg_profit}\n",
    "\n",
    "\n",
    "        labels = sorted(stats.keys(), key=lambda x: float(x.replace('+', '')))\n",
    "        green_vals = [stats[label]['green'] for label in labels]\n",
    "        red_vals = [stats[label]['red'] for label in labels]\n",
    "        blue_vals = [stats[label]['profit'] for label in labels]\n",
    "\n",
    "        x = np.arange(len(labels))\n",
    "        width = 0.35\n",
    "\n",
    "        # Left axis - total matches\n",
    "        ax1.bar(x - width / 2, green_vals, width=width, color='green', label='Win')\n",
    "        ax1.bar(x + width / 2, red_vals, width=width, color='red', label='Lost')\n",
    "        ax1.set_ylabel('Number of bets')\n",
    "        ax1.set_xlabel('Bet value')\n",
    "        ax1.set_title(f'Season {season_years[df_index]} — Zakłady typu: {prefix}')\n",
    "        ax1.set_xticks(x)\n",
    "        ax1.set_xticklabels(labels, rotation=45)\n",
    "        ax1.grid(True, alpha=0.3)\n",
    "\n",
    "        # Right axis - profits\n",
    "        ax2 = ax1.twinx()\n",
    "        ax2.axhline(y=0, color='black', linewidth=2, linestyle='--')\n",
    "        ax2.bar(x, blue_vals, width=width / 2, color='blue', alpha=0.5, label='Average profit')\n",
    "\n",
    "        h1, l1 = ax1.get_legend_handles_labels()\n",
    "        h2, l2 = ax2.get_legend_handles_labels()\n",
    "        ax1.legend(h1 + h2, l1 + l2, loc='best')\n",
    "\n",
    "    if save:\n",
    "        prefix = f'{prefix}_{handicap_team}' if prefix == 'bet_handicap' else prefix\n",
    "        os.makedirs(\"charts\", exist_ok=True)\n",
    "        plt.savefig(f\"../charts/{prefix}.png\", dpi=400, bbox_inches='tight')\n",
    "\n",
    "    plt.show()"
   ]
  },
  {
   "cell_type": "code",
   "execution_count": 120,
   "metadata": {},
   "outputs": [],
   "source": [
    "# plot_bet_results_by_type('bet_above')"
   ]
  },
  {
   "cell_type": "code",
   "execution_count": 121,
   "metadata": {},
   "outputs": [],
   "source": [
    "# plot_bet_results_by_type('bet_below')"
   ]
  },
  {
   "cell_type": "code",
   "execution_count": 122,
   "metadata": {},
   "outputs": [],
   "source": [
    "# plot_bet_results_by_type('bet_handicap', 1)"
   ]
  },
  {
   "cell_type": "code",
   "execution_count": 123,
   "metadata": {},
   "outputs": [],
   "source": [
    "# plot_bet_results_by_type('bet_handicap', 2)"
   ]
  },
  {
   "cell_type": "markdown",
   "metadata": {},
   "source": [
    "As observed, there is an issue with the *handicap* bets. After reviewing the CSV data and comparing it to the website, we discovered data leakage. Therefore, we will exclude handicap bets from our analysis until this issue is resolved, for example, by re-downloading the data."
   ]
  },
  {
   "cell_type": "markdown",
   "metadata": {},
   "source": [
    "# 3. Missing data handling"
   ]
  },
  {
   "cell_type": "markdown",
   "metadata": {},
   "source": [
    "After running *quality.ipynb*, most of the data has been filled. However, some specific values might still be missing due to their absence on the source web page. Let's now proceed with filling in the missing values.\n",
    "\n",
    "Let's assume that in some cases of a match statistic are NaN (e.g., red cards), it means that the event did not occur. Therefore, some cases will be filled with 0.\n",
    "\n",
    "Important: match header data — date, teams, and goals — are always provided."
   ]
  },
  {
   "cell_type": "markdown",
   "metadata": {},
   "source": [
    "## Match statistics"
   ]
  },
  {
   "cell_type": "code",
   "execution_count": 124,
   "metadata": {},
   "outputs": [],
   "source": [
    "def check_nans_by_columns(columns : list):\n",
    "    for _df in df_list:\n",
    "        print('===========================================')\n",
    "        for _col in columns:\n",
    "            # if team_1 and team_2 cases:\n",
    "            try:\n",
    "                if _df[f'{_col}_1'].isna().sum():\n",
    "                    print(f'{_col}_1 NA:', _df[f'{_col}_1'].isna().sum())\n",
    "            except:\n",
    "                pass\n",
    "                # print(f'{_col}_1 doesn\\'t exsist in this df')\n",
    "            try:\n",
    "                if _df[f'{_col}_2'].isna().sum():\n",
    "                    print(f'{_col}_2 NA:', _df[f'{_col}_2'].isna().sum())\n",
    "            except:\n",
    "                pass\n",
    "                # print(f'{_col}_2 doesn\\'t exsist in this df')\n",
    "            \n",
    "            # if exact columns provided\n",
    "            try:\n",
    "                if _df[f'{_col}'].isna().sum():\n",
    "                    print(f'{_col} NA:', _df[f'{_col}'].isna().sum())\n",
    "            except:\n",
    "                pass"
   ]
  },
  {
   "cell_type": "code",
   "execution_count": 125,
   "metadata": {},
   "outputs": [
    {
     "name": "stdout",
     "output_type": "stream",
     "text": [
      "===========================================\n",
      "===========================================\n",
      "===========================================\n",
      "===========================================\n"
     ]
    }
   ],
   "source": [
    "# chunk 1 info\n",
    "check_nans_by_columns(['match_id','date','league','turn','team_1','team_2','goals_1','goals_2','winner'])"
   ]
  },
  {
   "cell_type": "code",
   "execution_count": 126,
   "metadata": {},
   "outputs": [
    {
     "name": "stdout",
     "output_type": "stream",
     "text": [
      "===========================================\n",
      "possession_1 NA: 11\n",
      "possession_2 NA: 11\n",
      "goal_chances_1 NA: 4\n",
      "goal_chances_2 NA: 4\n",
      "shots_on_target_1 NA: 4\n",
      "shots_on_target_2 NA: 4\n",
      "shots_off_target_1 NA: 4\n",
      "shots_off_target_2 NA: 4\n",
      "blocked_shots_1 NA: 605\n",
      "blocked_shots_2 NA: 605\n",
      "free_kicks_1 NA: 1479\n",
      "free_kicks_2 NA: 1479\n",
      "offsides_1 NA: 11\n",
      "offsides_2 NA: 11\n",
      "throw_ins_1 NA: 2939\n",
      "throw_ins_2 NA: 2939\n",
      "goalkeeper_saves_1 NA: 4\n",
      "goalkeeper_saves_2 NA: 4\n",
      "fouls_1 NA: 4\n",
      "fouls_2 NA: 4\n",
      "red_cards_1 NA: 2870\n",
      "red_cards_2 NA: 2870\n",
      "attacks_1 NA: 122\n",
      "attacks_2 NA: 122\n",
      "dangerous_attacks_1 NA: 122\n",
      "dangerous_attacks_2 NA: 122\n",
      "===========================================\n",
      "possession_1 NA: 7\n",
      "possession_2 NA: 7\n",
      "goal_chances_1 NA: 2\n",
      "goal_chances_2 NA: 2\n",
      "shots_on_target_1 NA: 2\n",
      "shots_on_target_2 NA: 2\n",
      "shots_off_target_1 NA: 2\n",
      "shots_off_target_2 NA: 2\n",
      "blocked_shots_1 NA: 436\n",
      "blocked_shots_2 NA: 436\n",
      "free_kicks_1 NA: 1356\n",
      "free_kicks_2 NA: 1356\n",
      "offsides_1 NA: 2\n",
      "offsides_2 NA: 2\n",
      "throw_ins_1 NA: 1596\n",
      "throw_ins_2 NA: 1596\n",
      "goalkeeper_saves_1 NA: 2\n",
      "goalkeeper_saves_2 NA: 2\n",
      "fouls_1 NA: 2\n",
      "fouls_2 NA: 2\n",
      "red_cards_1 NA: 2838\n",
      "red_cards_2 NA: 2838\n",
      "attacks_1 NA: 166\n",
      "attacks_2 NA: 166\n",
      "dangerous_attacks_1 NA: 165\n",
      "dangerous_attacks_2 NA: 165\n",
      "===========================================\n",
      "expected_goals_1 NA: 2401\n",
      "expected_goals_2 NA: 2401\n",
      "possession_1 NA: 30\n",
      "possession_2 NA: 30\n",
      "goal_chances_1 NA: 30\n",
      "goal_chances_2 NA: 30\n",
      "shots_on_target_1 NA: 30\n",
      "shots_on_target_2 NA: 30\n",
      "shots_off_target_1 NA: 30\n",
      "shots_off_target_2 NA: 30\n",
      "blocked_shots_1 NA: 341\n",
      "blocked_shots_2 NA: 341\n",
      "free_kicks_1 NA: 433\n",
      "free_kicks_2 NA: 433\n",
      "offsides_1 NA: 57\n",
      "offsides_2 NA: 57\n",
      "throw_ins_1 NA: 435\n",
      "throw_ins_2 NA: 435\n",
      "goalkeeper_saves_1 NA: 30\n",
      "goalkeeper_saves_2 NA: 30\n",
      "fouls_1 NA: 57\n",
      "fouls_2 NA: 57\n",
      "red_cards_1 NA: 2791\n",
      "red_cards_2 NA: 2791\n",
      "attacks_1 NA: 209\n",
      "attacks_2 NA: 209\n",
      "dangerous_attacks_1 NA: 209\n",
      "dangerous_attacks_2 NA: 209\n",
      "===========================================\n",
      "expected_goals_1 NA: 617\n",
      "expected_goals_2 NA: 617\n",
      "possession_1 NA: 1\n",
      "possession_2 NA: 1\n",
      "goal_chances_1 NA: 1\n",
      "goal_chances_2 NA: 1\n",
      "shots_on_target_1 NA: 1\n",
      "shots_on_target_2 NA: 1\n",
      "shots_off_target_1 NA: 1\n",
      "shots_off_target_2 NA: 1\n",
      "blocked_shots_1 NA: 856\n",
      "blocked_shots_2 NA: 856\n",
      "free_kicks_1 NA: 547\n",
      "free_kicks_2 NA: 547\n",
      "offsides_1 NA: 16\n",
      "offsides_2 NA: 16\n",
      "throw_ins_1 NA: 252\n",
      "throw_ins_2 NA: 252\n",
      "goalkeeper_saves_1 NA: 1\n",
      "goalkeeper_saves_2 NA: 1\n",
      "fouls_1 NA: 22\n",
      "fouls_2 NA: 22\n",
      "red_cards_1 NA: 2902\n",
      "red_cards_2 NA: 2902\n",
      "attacks_1 NA: 2922\n",
      "attacks_2 NA: 2922\n",
      "dangerous_attacks_1 NA: 2922\n",
      "dangerous_attacks_2 NA: 2922\n"
     ]
    }
   ],
   "source": [
    "# chunk 2 info\n",
    "check_nans_by_columns(['expected_goals','possession','goal_chances','shots_on_target','shots_off_target','blocked_shots', 'free_kicks','offsides','throw_ins','goalkeeper_saves','fouls', 'red_cards','attacks','dangerous_attacks'])"
   ]
  },
  {
   "cell_type": "markdown",
   "metadata": {},
   "source": [
    "Filling match statistics"
   ]
  },
  {
   "cell_type": "code",
   "execution_count": 127,
   "metadata": {},
   "outputs": [],
   "source": [
    "def fill_missing_by_team_mean(df, team_col, value_col, default_value=0):\n",
    "    team_avg = df.groupby(team_col)[value_col].mean()\n",
    "\n",
    "    def fill_func(row):\n",
    "        if pd.isna(row[value_col]):\n",
    "            return team_avg.get(row[team_col], default_value)\n",
    "        else:\n",
    "            return row[value_col]\n",
    "    \n",
    "    df[value_col] = df.apply(fill_func, axis=1)\n",
    "\n",
    "def adjust_possession(row):\n",
    "    p1 = row['possession_1']\n",
    "    p2 = row['possession_2']\n",
    "    \n",
    "    if pd.isna(p1) and pd.isna(p2):\n",
    "        return pd.Series([50, 50])\n",
    "    if pd.isna(p1):\n",
    "        p1 = 100 - p2\n",
    "    if pd.isna(p2):\n",
    "        p2 = 100 - p1\n",
    "\n",
    "    total = p1 + p2\n",
    "    if total == 0:\n",
    "        return pd.Series([50, 50])\n",
    "    \n",
    "    factor = 100 / total\n",
    "    p1_scaled = round(p1 * factor)\n",
    "    p2_scaled = 100 - p1_scaled\n",
    "\n",
    "    return pd.Series([p1_scaled, p2_scaled])"
   ]
  },
  {
   "cell_type": "code",
   "execution_count": 128,
   "metadata": {},
   "outputs": [],
   "source": [
    "for _df in df_list:\n",
    "    for col in ['possession_1', 'possession_2']:\n",
    "        if col in _df.columns:\n",
    "            _df[col] = _df[col].astype(str).str.replace('%', '', regex=False).astype(float) # also removing % from possession columns\n",
    "    \n",
    "    # possession\n",
    "    fill_missing_by_team_mean(_df, team_col='team_1', value_col='possession_1', default_value=50)\n",
    "    fill_missing_by_team_mean(_df, team_col='team_2', value_col='possession_2', default_value=50)\n",
    "    # scaling possession\n",
    "    _df[['possession_1', 'possession_2']] = _df.apply(adjust_possession, axis=1)\n",
    "\n",
    "    # fouls\n",
    "    _df['fouls_1'] = _df['fouls_1'].fillna(_df.groupby('team_1')['fouls_1'].transform('median')).fillna(0)\n",
    "    _df['fouls_2'] = _df['fouls_2'].fillna(_df.groupby('team_2')['fouls_2'].transform('median')).fillna(0)\n",
    "    \n",
    "    # offsides (spalone)\n",
    "    _df['offsides_1'] = _df['offsides_1'].fillna(_df.groupby('team_1')['offsides_1'].transform('median')).fillna(0)\n",
    "    _df['offsides_2'] = _df['offsides_2'].fillna(_df.groupby('team_2')['offsides_2'].transform('median')).fillna(0)\n",
    "\n",
    "    # red cards\n",
    "    _df['red_cards_1'].fillna(0, inplace=True)\n",
    "    _df['red_cards_2'].fillna(0, inplace=True)\n"
   ]
  },
  {
   "cell_type": "code",
   "execution_count": 129,
   "metadata": {},
   "outputs": [],
   "source": [
    "for _df in df_list:\n",
    "    for _col in ['goal_chances', 'shots_on_target', 'shots_off_target', 'goalkeeper_saves', 'attacks', 'dangerous_attacks']:\n",
    "        _df[f'{_col}_1'] = _df[f'{_col}_1'].fillna(_df.groupby('team_1')[f'{_col}_1'].transform('median')).fillna(0)\n",
    "        _df[f'{_col}_2'] = _df[f'{_col}_2'].fillna(_df.groupby('team_2')[f'{_col}_2'].transform('median')).fillna(0)"
   ]
  },
  {
   "cell_type": "markdown",
   "metadata": {},
   "source": [
    "Below removed columns due to excessive missing values; filling NAs would not be accurate. Resolving this issue requires a different scraper and data source."
   ]
  },
  {
   "cell_type": "code",
   "execution_count": 130,
   "metadata": {},
   "outputs": [],
   "source": [
    "for _df in df_list:\n",
    "    _df.drop(columns=['expected_goals_1', 'expected_goals_2', 'throw_ins_1', 'throw_ins_2', 'free_kicks_1', 'free_kicks_2', 'blocked_shots_1', 'blocked_shots_2'], axis=1, inplace=True, errors='ignore')"
   ]
  },
  {
   "cell_type": "markdown",
   "metadata": {},
   "source": [
    "Ensure the filling process went correctly"
   ]
  },
  {
   "cell_type": "code",
   "execution_count": 131,
   "metadata": {},
   "outputs": [
    {
     "name": "stdout",
     "output_type": "stream",
     "text": [
      "===========================================\n",
      "===========================================\n",
      "===========================================\n",
      "===========================================\n"
     ]
    }
   ],
   "source": [
    "# chunk 2 info\n",
    "check_nans_by_columns(['expected_goals','possession','goal_chances','shots_on_target','shots_off_target','blocked_shots', 'free_kicks','offsides','throw_ins','goalkeeper_saves','fouls', 'red_cards','attacks','dangerous_attacks'])"
   ]
  },
  {
   "cell_type": "markdown",
   "metadata": {},
   "source": [
    "## Team setups and player ratings"
   ]
  },
  {
   "cell_type": "markdown",
   "metadata": {},
   "source": [
    "Checking for NANs in team formations"
   ]
  },
  {
   "cell_type": "code",
   "execution_count": 132,
   "metadata": {},
   "outputs": [
    {
     "name": "stdout",
     "output_type": "stream",
     "text": [
      "=================\n",
      "2\n",
      "2\n",
      "=================\n",
      "2\n",
      "2\n",
      "=================\n",
      "36\n",
      "36\n",
      "=================\n",
      "1\n",
      "0\n"
     ]
    }
   ],
   "source": [
    "for _df in df_list:\n",
    "    print('=================')\n",
    "    print(_df['team_1_formation'].isna().sum())\n",
    "    print(_df['team_2_formation'].isna().sum())"
   ]
  },
  {
   "cell_type": "markdown",
   "metadata": {},
   "source": [
    "Filling missing values with the most popular formation for each team"
   ]
  },
  {
   "cell_type": "code",
   "execution_count": 133,
   "metadata": {},
   "outputs": [],
   "source": [
    "for _df in df_list:\n",
    "    _df['team_1_formation'] = _df['team_1_formation'].fillna(\n",
    "        _df.groupby('team_1')['team_1_formation'].transform(lambda x: x.mode().iloc[0] if not x.mode().empty else None)\n",
    "    )\n",
    "    _df['team_2_formation'] = _df['team_2_formation'].fillna(\n",
    "        _df.groupby('team_2')['team_2_formation'].transform(lambda x: x.mode().iloc[0] if not x.mode().empty else None)\n",
    "    )"
   ]
  },
  {
   "cell_type": "code",
   "execution_count": 134,
   "metadata": {},
   "outputs": [
    {
     "name": "stdout",
     "output_type": "stream",
     "text": [
      "=================\n",
      "0\n",
      "0\n",
      "=================\n",
      "0\n",
      "0\n",
      "=================\n",
      "0\n",
      "0\n",
      "=================\n",
      "0\n",
      "0\n"
     ]
    }
   ],
   "source": [
    "for _df in df_list:\n",
    "    print('=================')\n",
    "    print(_df['team_1_formation'].isna().sum())\n",
    "    print(_df['team_2_formation'].isna().sum())"
   ]
  },
  {
   "cell_type": "markdown",
   "metadata": {},
   "source": [
    "Handling player ratings stored as line-format strings (e.g., \"6.2-6.7-4.3\") is inconvenient. A better approach is to aggregate these ratings into a single value, categorize them into defense/support/offense ratings, or split them into separate ratings for each player. The most flexible solution is the last one—splitting the ratings per player. Therefore, we will transform the DataFrame accordingly and handle missing values in one centralized step."
   ]
  },
  {
   "cell_type": "code",
   "execution_count": 135,
   "metadata": {},
   "outputs": [],
   "source": [
    "def extract_scores(row, prefix, formation):\n",
    "    scores = []\n",
    "    val = row.get(f'{prefix}_line_0')\n",
    "\n",
    "    if pd.isna(val):\n",
    "        return [np.nan] * 11\n",
    "\n",
    "    try:\n",
    "        scores.append(float(val))\n",
    "    except:\n",
    "        scores.append(0.0)\n",
    "\n",
    "    for i, expected_count in enumerate(formation, start=1):\n",
    "        val = row.get(f'{prefix}_line_{i}')\n",
    "        if pd.isna(val):\n",
    "            line_scores = [0.0] * expected_count\n",
    "        else:\n",
    "            parts = []\n",
    "            for p in str(val).split('-'):\n",
    "                try:\n",
    "                    parts.append(float(p.strip()))\n",
    "                except:\n",
    "                    pass\n",
    "\n",
    "            if len(parts) < expected_count:\n",
    "                insert_pos = len(parts) // 2\n",
    "                parts.insert(insert_pos, 0.0)\n",
    "            line_scores = parts\n",
    "\n",
    "        scores.extend(line_scores)\n",
    "\n",
    "    return scores"
   ]
  },
  {
   "cell_type": "code",
   "execution_count": 136,
   "metadata": {},
   "outputs": [
    {
     "name": "stderr",
     "output_type": "stream",
     "text": [
      "C:\\Users\\Prezes\\AppData\\Local\\Temp\\ipykernel_8780\\1555587034.py:22: PerformanceWarning: DataFrame is highly fragmented.  This is usually the result of calling `frame.insert` many times, which has poor performance.  Consider joining all columns at once using pd.concat(axis=1) instead. To get a de-fragmented frame, use `newframe = frame.copy()`\n",
      "  _df.at[index, f'player_{i}_team_2'] = value\n",
      "C:\\Users\\Prezes\\AppData\\Local\\Temp\\ipykernel_8780\\1555587034.py:19: PerformanceWarning: DataFrame is highly fragmented.  This is usually the result of calling `frame.insert` many times, which has poor performance.  Consider joining all columns at once using pd.concat(axis=1) instead. To get a de-fragmented frame, use `newframe = frame.copy()`\n",
      "  _df.at[index, f'player_{i}_team_1'] = value\n",
      "C:\\Users\\Prezes\\AppData\\Local\\Temp\\ipykernel_8780\\1555587034.py:22: PerformanceWarning: DataFrame is highly fragmented.  This is usually the result of calling `frame.insert` many times, which has poor performance.  Consider joining all columns at once using pd.concat(axis=1) instead. To get a de-fragmented frame, use `newframe = frame.copy()`\n",
      "  _df.at[index, f'player_{i}_team_2'] = value\n",
      "C:\\Users\\Prezes\\AppData\\Local\\Temp\\ipykernel_8780\\1555587034.py:19: PerformanceWarning: DataFrame is highly fragmented.  This is usually the result of calling `frame.insert` many times, which has poor performance.  Consider joining all columns at once using pd.concat(axis=1) instead. To get a de-fragmented frame, use `newframe = frame.copy()`\n",
      "  _df.at[index, f'player_{i}_team_1'] = value\n",
      "C:\\Users\\Prezes\\AppData\\Local\\Temp\\ipykernel_8780\\1555587034.py:22: PerformanceWarning: DataFrame is highly fragmented.  This is usually the result of calling `frame.insert` many times, which has poor performance.  Consider joining all columns at once using pd.concat(axis=1) instead. To get a de-fragmented frame, use `newframe = frame.copy()`\n",
      "  _df.at[index, f'player_{i}_team_2'] = value\n",
      "C:\\Users\\Prezes\\AppData\\Local\\Temp\\ipykernel_8780\\1555587034.py:19: PerformanceWarning: DataFrame is highly fragmented.  This is usually the result of calling `frame.insert` many times, which has poor performance.  Consider joining all columns at once using pd.concat(axis=1) instead. To get a de-fragmented frame, use `newframe = frame.copy()`\n",
      "  _df.at[index, f'player_{i}_team_1'] = value\n",
      "C:\\Users\\Prezes\\AppData\\Local\\Temp\\ipykernel_8780\\1555587034.py:22: PerformanceWarning: DataFrame is highly fragmented.  This is usually the result of calling `frame.insert` many times, which has poor performance.  Consider joining all columns at once using pd.concat(axis=1) instead. To get a de-fragmented frame, use `newframe = frame.copy()`\n",
      "  _df.at[index, f'player_{i}_team_2'] = value\n",
      "C:\\Users\\Prezes\\AppData\\Local\\Temp\\ipykernel_8780\\1555587034.py:19: PerformanceWarning: DataFrame is highly fragmented.  This is usually the result of calling `frame.insert` many times, which has poor performance.  Consider joining all columns at once using pd.concat(axis=1) instead. To get a de-fragmented frame, use `newframe = frame.copy()`\n",
      "  _df.at[index, f'player_{i}_team_1'] = value\n",
      "C:\\Users\\Prezes\\AppData\\Local\\Temp\\ipykernel_8780\\1555587034.py:22: PerformanceWarning: DataFrame is highly fragmented.  This is usually the result of calling `frame.insert` many times, which has poor performance.  Consider joining all columns at once using pd.concat(axis=1) instead. To get a de-fragmented frame, use `newframe = frame.copy()`\n",
      "  _df.at[index, f'player_{i}_team_2'] = value\n",
      "C:\\Users\\Prezes\\AppData\\Local\\Temp\\ipykernel_8780\\1555587034.py:19: PerformanceWarning: DataFrame is highly fragmented.  This is usually the result of calling `frame.insert` many times, which has poor performance.  Consider joining all columns at once using pd.concat(axis=1) instead. To get a de-fragmented frame, use `newframe = frame.copy()`\n",
      "  _df.at[index, f'player_{i}_team_1'] = value\n",
      "C:\\Users\\Prezes\\AppData\\Local\\Temp\\ipykernel_8780\\1555587034.py:22: PerformanceWarning: DataFrame is highly fragmented.  This is usually the result of calling `frame.insert` many times, which has poor performance.  Consider joining all columns at once using pd.concat(axis=1) instead. To get a de-fragmented frame, use `newframe = frame.copy()`\n",
      "  _df.at[index, f'player_{i}_team_2'] = value\n",
      "C:\\Users\\Prezes\\AppData\\Local\\Temp\\ipykernel_8780\\1555587034.py:19: PerformanceWarning: DataFrame is highly fragmented.  This is usually the result of calling `frame.insert` many times, which has poor performance.  Consider joining all columns at once using pd.concat(axis=1) instead. To get a de-fragmented frame, use `newframe = frame.copy()`\n",
      "  _df.at[index, f'player_{i}_team_1'] = value\n",
      "C:\\Users\\Prezes\\AppData\\Local\\Temp\\ipykernel_8780\\1555587034.py:22: PerformanceWarning: DataFrame is highly fragmented.  This is usually the result of calling `frame.insert` many times, which has poor performance.  Consider joining all columns at once using pd.concat(axis=1) instead. To get a de-fragmented frame, use `newframe = frame.copy()`\n",
      "  _df.at[index, f'player_{i}_team_2'] = value\n",
      "C:\\Users\\Prezes\\AppData\\Local\\Temp\\ipykernel_8780\\1555587034.py:19: PerformanceWarning: DataFrame is highly fragmented.  This is usually the result of calling `frame.insert` many times, which has poor performance.  Consider joining all columns at once using pd.concat(axis=1) instead. To get a de-fragmented frame, use `newframe = frame.copy()`\n",
      "  _df.at[index, f'player_{i}_team_1'] = value\n",
      "C:\\Users\\Prezes\\AppData\\Local\\Temp\\ipykernel_8780\\1555587034.py:22: PerformanceWarning: DataFrame is highly fragmented.  This is usually the result of calling `frame.insert` many times, which has poor performance.  Consider joining all columns at once using pd.concat(axis=1) instead. To get a de-fragmented frame, use `newframe = frame.copy()`\n",
      "  _df.at[index, f'player_{i}_team_2'] = value\n",
      "C:\\Users\\Prezes\\AppData\\Local\\Temp\\ipykernel_8780\\1555587034.py:19: PerformanceWarning: DataFrame is highly fragmented.  This is usually the result of calling `frame.insert` many times, which has poor performance.  Consider joining all columns at once using pd.concat(axis=1) instead. To get a de-fragmented frame, use `newframe = frame.copy()`\n",
      "  _df.at[index, f'player_{i}_team_1'] = value\n",
      "C:\\Users\\Prezes\\AppData\\Local\\Temp\\ipykernel_8780\\1555587034.py:22: PerformanceWarning: DataFrame is highly fragmented.  This is usually the result of calling `frame.insert` many times, which has poor performance.  Consider joining all columns at once using pd.concat(axis=1) instead. To get a de-fragmented frame, use `newframe = frame.copy()`\n",
      "  _df.at[index, f'player_{i}_team_2'] = value\n",
      "C:\\Users\\Prezes\\AppData\\Local\\Temp\\ipykernel_8780\\1555587034.py:19: PerformanceWarning: DataFrame is highly fragmented.  This is usually the result of calling `frame.insert` many times, which has poor performance.  Consider joining all columns at once using pd.concat(axis=1) instead. To get a de-fragmented frame, use `newframe = frame.copy()`\n",
      "  _df.at[index, f'player_{i}_team_1'] = value\n",
      "C:\\Users\\Prezes\\AppData\\Local\\Temp\\ipykernel_8780\\1555587034.py:22: PerformanceWarning: DataFrame is highly fragmented.  This is usually the result of calling `frame.insert` many times, which has poor performance.  Consider joining all columns at once using pd.concat(axis=1) instead. To get a de-fragmented frame, use `newframe = frame.copy()`\n",
      "  _df.at[index, f'player_{i}_team_2'] = value\n",
      "C:\\Users\\Prezes\\AppData\\Local\\Temp\\ipykernel_8780\\1555587034.py:19: PerformanceWarning: DataFrame is highly fragmented.  This is usually the result of calling `frame.insert` many times, which has poor performance.  Consider joining all columns at once using pd.concat(axis=1) instead. To get a de-fragmented frame, use `newframe = frame.copy()`\n",
      "  _df.at[index, f'player_{i}_team_1'] = value\n",
      "C:\\Users\\Prezes\\AppData\\Local\\Temp\\ipykernel_8780\\1555587034.py:22: PerformanceWarning: DataFrame is highly fragmented.  This is usually the result of calling `frame.insert` many times, which has poor performance.  Consider joining all columns at once using pd.concat(axis=1) instead. To get a de-fragmented frame, use `newframe = frame.copy()`\n",
      "  _df.at[index, f'player_{i}_team_2'] = value\n",
      "C:\\Users\\Prezes\\AppData\\Local\\Temp\\ipykernel_8780\\1555587034.py:19: PerformanceWarning: DataFrame is highly fragmented.  This is usually the result of calling `frame.insert` many times, which has poor performance.  Consider joining all columns at once using pd.concat(axis=1) instead. To get a de-fragmented frame, use `newframe = frame.copy()`\n",
      "  _df.at[index, f'player_{i}_team_1'] = value\n",
      "C:\\Users\\Prezes\\AppData\\Local\\Temp\\ipykernel_8780\\1555587034.py:22: PerformanceWarning: DataFrame is highly fragmented.  This is usually the result of calling `frame.insert` many times, which has poor performance.  Consider joining all columns at once using pd.concat(axis=1) instead. To get a de-fragmented frame, use `newframe = frame.copy()`\n",
      "  _df.at[index, f'player_{i}_team_2'] = value\n",
      "C:\\Users\\Prezes\\AppData\\Local\\Temp\\ipykernel_8780\\1555587034.py:19: PerformanceWarning: DataFrame is highly fragmented.  This is usually the result of calling `frame.insert` many times, which has poor performance.  Consider joining all columns at once using pd.concat(axis=1) instead. To get a de-fragmented frame, use `newframe = frame.copy()`\n",
      "  _df.at[index, f'player_{i}_team_1'] = value\n",
      "C:\\Users\\Prezes\\AppData\\Local\\Temp\\ipykernel_8780\\1555587034.py:22: PerformanceWarning: DataFrame is highly fragmented.  This is usually the result of calling `frame.insert` many times, which has poor performance.  Consider joining all columns at once using pd.concat(axis=1) instead. To get a de-fragmented frame, use `newframe = frame.copy()`\n",
      "  _df.at[index, f'player_{i}_team_2'] = value\n",
      "C:\\Users\\Prezes\\AppData\\Local\\Temp\\ipykernel_8780\\1555587034.py:19: PerformanceWarning: DataFrame is highly fragmented.  This is usually the result of calling `frame.insert` many times, which has poor performance.  Consider joining all columns at once using pd.concat(axis=1) instead. To get a de-fragmented frame, use `newframe = frame.copy()`\n",
      "  _df.at[index, f'player_{i}_team_1'] = value\n",
      "C:\\Users\\Prezes\\AppData\\Local\\Temp\\ipykernel_8780\\1555587034.py:22: PerformanceWarning: DataFrame is highly fragmented.  This is usually the result of calling `frame.insert` many times, which has poor performance.  Consider joining all columns at once using pd.concat(axis=1) instead. To get a de-fragmented frame, use `newframe = frame.copy()`\n",
      "  _df.at[index, f'player_{i}_team_2'] = value\n",
      "C:\\Users\\Prezes\\AppData\\Local\\Temp\\ipykernel_8780\\1555587034.py:19: PerformanceWarning: DataFrame is highly fragmented.  This is usually the result of calling `frame.insert` many times, which has poor performance.  Consider joining all columns at once using pd.concat(axis=1) instead. To get a de-fragmented frame, use `newframe = frame.copy()`\n",
      "  _df.at[index, f'player_{i}_team_1'] = value\n",
      "C:\\Users\\Prezes\\AppData\\Local\\Temp\\ipykernel_8780\\1555587034.py:22: PerformanceWarning: DataFrame is highly fragmented.  This is usually the result of calling `frame.insert` many times, which has poor performance.  Consider joining all columns at once using pd.concat(axis=1) instead. To get a de-fragmented frame, use `newframe = frame.copy()`\n",
      "  _df.at[index, f'player_{i}_team_2'] = value\n",
      "C:\\Users\\Prezes\\AppData\\Local\\Temp\\ipykernel_8780\\1555587034.py:19: PerformanceWarning: DataFrame is highly fragmented.  This is usually the result of calling `frame.insert` many times, which has poor performance.  Consider joining all columns at once using pd.concat(axis=1) instead. To get a de-fragmented frame, use `newframe = frame.copy()`\n",
      "  _df.at[index, f'player_{i}_team_1'] = value\n",
      "C:\\Users\\Prezes\\AppData\\Local\\Temp\\ipykernel_8780\\1555587034.py:22: PerformanceWarning: DataFrame is highly fragmented.  This is usually the result of calling `frame.insert` many times, which has poor performance.  Consider joining all columns at once using pd.concat(axis=1) instead. To get a de-fragmented frame, use `newframe = frame.copy()`\n",
      "  _df.at[index, f'player_{i}_team_2'] = value\n",
      "C:\\Users\\Prezes\\AppData\\Local\\Temp\\ipykernel_8780\\1555587034.py:19: PerformanceWarning: DataFrame is highly fragmented.  This is usually the result of calling `frame.insert` many times, which has poor performance.  Consider joining all columns at once using pd.concat(axis=1) instead. To get a de-fragmented frame, use `newframe = frame.copy()`\n",
      "  _df.at[index, f'player_{i}_team_1'] = value\n",
      "C:\\Users\\Prezes\\AppData\\Local\\Temp\\ipykernel_8780\\1555587034.py:22: PerformanceWarning: DataFrame is highly fragmented.  This is usually the result of calling `frame.insert` many times, which has poor performance.  Consider joining all columns at once using pd.concat(axis=1) instead. To get a de-fragmented frame, use `newframe = frame.copy()`\n",
      "  _df.at[index, f'player_{i}_team_2'] = value\n",
      "C:\\Users\\Prezes\\AppData\\Local\\Temp\\ipykernel_8780\\1555587034.py:19: PerformanceWarning: DataFrame is highly fragmented.  This is usually the result of calling `frame.insert` many times, which has poor performance.  Consider joining all columns at once using pd.concat(axis=1) instead. To get a de-fragmented frame, use `newframe = frame.copy()`\n",
      "  _df.at[index, f'player_{i}_team_1'] = value\n",
      "C:\\Users\\Prezes\\AppData\\Local\\Temp\\ipykernel_8780\\1555587034.py:22: PerformanceWarning: DataFrame is highly fragmented.  This is usually the result of calling `frame.insert` many times, which has poor performance.  Consider joining all columns at once using pd.concat(axis=1) instead. To get a de-fragmented frame, use `newframe = frame.copy()`\n",
      "  _df.at[index, f'player_{i}_team_2'] = value\n",
      "C:\\Users\\Prezes\\AppData\\Local\\Temp\\ipykernel_8780\\1555587034.py:19: PerformanceWarning: DataFrame is highly fragmented.  This is usually the result of calling `frame.insert` many times, which has poor performance.  Consider joining all columns at once using pd.concat(axis=1) instead. To get a de-fragmented frame, use `newframe = frame.copy()`\n",
      "  _df.at[index, f'player_{i}_team_1'] = value\n",
      "C:\\Users\\Prezes\\AppData\\Local\\Temp\\ipykernel_8780\\1555587034.py:22: PerformanceWarning: DataFrame is highly fragmented.  This is usually the result of calling `frame.insert` many times, which has poor performance.  Consider joining all columns at once using pd.concat(axis=1) instead. To get a de-fragmented frame, use `newframe = frame.copy()`\n",
      "  _df.at[index, f'player_{i}_team_2'] = value\n",
      "C:\\Users\\Prezes\\AppData\\Local\\Temp\\ipykernel_8780\\1555587034.py:19: PerformanceWarning: DataFrame is highly fragmented.  This is usually the result of calling `frame.insert` many times, which has poor performance.  Consider joining all columns at once using pd.concat(axis=1) instead. To get a de-fragmented frame, use `newframe = frame.copy()`\n",
      "  _df.at[index, f'player_{i}_team_1'] = value\n",
      "C:\\Users\\Prezes\\AppData\\Local\\Temp\\ipykernel_8780\\1555587034.py:22: PerformanceWarning: DataFrame is highly fragmented.  This is usually the result of calling `frame.insert` many times, which has poor performance.  Consider joining all columns at once using pd.concat(axis=1) instead. To get a de-fragmented frame, use `newframe = frame.copy()`\n",
      "  _df.at[index, f'player_{i}_team_2'] = value\n",
      "C:\\Users\\Prezes\\AppData\\Local\\Temp\\ipykernel_8780\\1555587034.py:19: PerformanceWarning: DataFrame is highly fragmented.  This is usually the result of calling `frame.insert` many times, which has poor performance.  Consider joining all columns at once using pd.concat(axis=1) instead. To get a de-fragmented frame, use `newframe = frame.copy()`\n",
      "  _df.at[index, f'player_{i}_team_1'] = value\n",
      "C:\\Users\\Prezes\\AppData\\Local\\Temp\\ipykernel_8780\\1555587034.py:22: PerformanceWarning: DataFrame is highly fragmented.  This is usually the result of calling `frame.insert` many times, which has poor performance.  Consider joining all columns at once using pd.concat(axis=1) instead. To get a de-fragmented frame, use `newframe = frame.copy()`\n",
      "  _df.at[index, f'player_{i}_team_2'] = value\n",
      "C:\\Users\\Prezes\\AppData\\Local\\Temp\\ipykernel_8780\\1555587034.py:19: PerformanceWarning: DataFrame is highly fragmented.  This is usually the result of calling `frame.insert` many times, which has poor performance.  Consider joining all columns at once using pd.concat(axis=1) instead. To get a de-fragmented frame, use `newframe = frame.copy()`\n",
      "  _df.at[index, f'player_{i}_team_1'] = value\n",
      "C:\\Users\\Prezes\\AppData\\Local\\Temp\\ipykernel_8780\\1555587034.py:22: PerformanceWarning: DataFrame is highly fragmented.  This is usually the result of calling `frame.insert` many times, which has poor performance.  Consider joining all columns at once using pd.concat(axis=1) instead. To get a de-fragmented frame, use `newframe = frame.copy()`\n",
      "  _df.at[index, f'player_{i}_team_2'] = value\n",
      "C:\\Users\\Prezes\\AppData\\Local\\Temp\\ipykernel_8780\\1555587034.py:19: PerformanceWarning: DataFrame is highly fragmented.  This is usually the result of calling `frame.insert` many times, which has poor performance.  Consider joining all columns at once using pd.concat(axis=1) instead. To get a de-fragmented frame, use `newframe = frame.copy()`\n",
      "  _df.at[index, f'player_{i}_team_1'] = value\n",
      "C:\\Users\\Prezes\\AppData\\Local\\Temp\\ipykernel_8780\\1555587034.py:22: PerformanceWarning: DataFrame is highly fragmented.  This is usually the result of calling `frame.insert` many times, which has poor performance.  Consider joining all columns at once using pd.concat(axis=1) instead. To get a de-fragmented frame, use `newframe = frame.copy()`\n",
      "  _df.at[index, f'player_{i}_team_2'] = value\n",
      "C:\\Users\\Prezes\\AppData\\Local\\Temp\\ipykernel_8780\\1555587034.py:19: PerformanceWarning: DataFrame is highly fragmented.  This is usually the result of calling `frame.insert` many times, which has poor performance.  Consider joining all columns at once using pd.concat(axis=1) instead. To get a de-fragmented frame, use `newframe = frame.copy()`\n",
      "  _df.at[index, f'player_{i}_team_1'] = value\n",
      "C:\\Users\\Prezes\\AppData\\Local\\Temp\\ipykernel_8780\\1555587034.py:22: PerformanceWarning: DataFrame is highly fragmented.  This is usually the result of calling `frame.insert` many times, which has poor performance.  Consider joining all columns at once using pd.concat(axis=1) instead. To get a de-fragmented frame, use `newframe = frame.copy()`\n",
      "  _df.at[index, f'player_{i}_team_2'] = value\n",
      "C:\\Users\\Prezes\\AppData\\Local\\Temp\\ipykernel_8780\\1555587034.py:19: PerformanceWarning: DataFrame is highly fragmented.  This is usually the result of calling `frame.insert` many times, which has poor performance.  Consider joining all columns at once using pd.concat(axis=1) instead. To get a de-fragmented frame, use `newframe = frame.copy()`\n",
      "  _df.at[index, f'player_{i}_team_1'] = value\n",
      "C:\\Users\\Prezes\\AppData\\Local\\Temp\\ipykernel_8780\\1555587034.py:22: PerformanceWarning: DataFrame is highly fragmented.  This is usually the result of calling `frame.insert` many times, which has poor performance.  Consider joining all columns at once using pd.concat(axis=1) instead. To get a de-fragmented frame, use `newframe = frame.copy()`\n",
      "  _df.at[index, f'player_{i}_team_2'] = value\n",
      "C:\\Users\\Prezes\\AppData\\Local\\Temp\\ipykernel_8780\\1555587034.py:19: PerformanceWarning: DataFrame is highly fragmented.  This is usually the result of calling `frame.insert` many times, which has poor performance.  Consider joining all columns at once using pd.concat(axis=1) instead. To get a de-fragmented frame, use `newframe = frame.copy()`\n",
      "  _df.at[index, f'player_{i}_team_1'] = value\n",
      "C:\\Users\\Prezes\\AppData\\Local\\Temp\\ipykernel_8780\\1555587034.py:22: PerformanceWarning: DataFrame is highly fragmented.  This is usually the result of calling `frame.insert` many times, which has poor performance.  Consider joining all columns at once using pd.concat(axis=1) instead. To get a de-fragmented frame, use `newframe = frame.copy()`\n",
      "  _df.at[index, f'player_{i}_team_2'] = value\n",
      "C:\\Users\\Prezes\\AppData\\Local\\Temp\\ipykernel_8780\\1555587034.py:19: PerformanceWarning: DataFrame is highly fragmented.  This is usually the result of calling `frame.insert` many times, which has poor performance.  Consider joining all columns at once using pd.concat(axis=1) instead. To get a de-fragmented frame, use `newframe = frame.copy()`\n",
      "  _df.at[index, f'player_{i}_team_1'] = value\n",
      "C:\\Users\\Prezes\\AppData\\Local\\Temp\\ipykernel_8780\\1555587034.py:22: PerformanceWarning: DataFrame is highly fragmented.  This is usually the result of calling `frame.insert` many times, which has poor performance.  Consider joining all columns at once using pd.concat(axis=1) instead. To get a de-fragmented frame, use `newframe = frame.copy()`\n",
      "  _df.at[index, f'player_{i}_team_2'] = value\n",
      "C:\\Users\\Prezes\\AppData\\Local\\Temp\\ipykernel_8780\\1555587034.py:19: PerformanceWarning: DataFrame is highly fragmented.  This is usually the result of calling `frame.insert` many times, which has poor performance.  Consider joining all columns at once using pd.concat(axis=1) instead. To get a de-fragmented frame, use `newframe = frame.copy()`\n",
      "  _df.at[index, f'player_{i}_team_1'] = value\n",
      "C:\\Users\\Prezes\\AppData\\Local\\Temp\\ipykernel_8780\\1555587034.py:22: PerformanceWarning: DataFrame is highly fragmented.  This is usually the result of calling `frame.insert` many times, which has poor performance.  Consider joining all columns at once using pd.concat(axis=1) instead. To get a de-fragmented frame, use `newframe = frame.copy()`\n",
      "  _df.at[index, f'player_{i}_team_2'] = value\n",
      "C:\\Users\\Prezes\\AppData\\Local\\Temp\\ipykernel_8780\\1555587034.py:19: PerformanceWarning: DataFrame is highly fragmented.  This is usually the result of calling `frame.insert` many times, which has poor performance.  Consider joining all columns at once using pd.concat(axis=1) instead. To get a de-fragmented frame, use `newframe = frame.copy()`\n",
      "  _df.at[index, f'player_{i}_team_1'] = value\n",
      "C:\\Users\\Prezes\\AppData\\Local\\Temp\\ipykernel_8780\\1555587034.py:22: PerformanceWarning: DataFrame is highly fragmented.  This is usually the result of calling `frame.insert` many times, which has poor performance.  Consider joining all columns at once using pd.concat(axis=1) instead. To get a de-fragmented frame, use `newframe = frame.copy()`\n",
      "  _df.at[index, f'player_{i}_team_2'] = value\n",
      "C:\\Users\\Prezes\\AppData\\Local\\Temp\\ipykernel_8780\\1555587034.py:19: PerformanceWarning: DataFrame is highly fragmented.  This is usually the result of calling `frame.insert` many times, which has poor performance.  Consider joining all columns at once using pd.concat(axis=1) instead. To get a de-fragmented frame, use `newframe = frame.copy()`\n",
      "  _df.at[index, f'player_{i}_team_1'] = value\n",
      "C:\\Users\\Prezes\\AppData\\Local\\Temp\\ipykernel_8780\\1555587034.py:22: PerformanceWarning: DataFrame is highly fragmented.  This is usually the result of calling `frame.insert` many times, which has poor performance.  Consider joining all columns at once using pd.concat(axis=1) instead. To get a de-fragmented frame, use `newframe = frame.copy()`\n",
      "  _df.at[index, f'player_{i}_team_2'] = value\n",
      "C:\\Users\\Prezes\\AppData\\Local\\Temp\\ipykernel_8780\\1555587034.py:19: PerformanceWarning: DataFrame is highly fragmented.  This is usually the result of calling `frame.insert` many times, which has poor performance.  Consider joining all columns at once using pd.concat(axis=1) instead. To get a de-fragmented frame, use `newframe = frame.copy()`\n",
      "  _df.at[index, f'player_{i}_team_1'] = value\n",
      "C:\\Users\\Prezes\\AppData\\Local\\Temp\\ipykernel_8780\\1555587034.py:22: PerformanceWarning: DataFrame is highly fragmented.  This is usually the result of calling `frame.insert` many times, which has poor performance.  Consider joining all columns at once using pd.concat(axis=1) instead. To get a de-fragmented frame, use `newframe = frame.copy()`\n",
      "  _df.at[index, f'player_{i}_team_2'] = value\n",
      "C:\\Users\\Prezes\\AppData\\Local\\Temp\\ipykernel_8780\\1555587034.py:19: PerformanceWarning: DataFrame is highly fragmented.  This is usually the result of calling `frame.insert` many times, which has poor performance.  Consider joining all columns at once using pd.concat(axis=1) instead. To get a de-fragmented frame, use `newframe = frame.copy()`\n",
      "  _df.at[index, f'player_{i}_team_1'] = value\n",
      "C:\\Users\\Prezes\\AppData\\Local\\Temp\\ipykernel_8780\\1555587034.py:22: PerformanceWarning: DataFrame is highly fragmented.  This is usually the result of calling `frame.insert` many times, which has poor performance.  Consider joining all columns at once using pd.concat(axis=1) instead. To get a de-fragmented frame, use `newframe = frame.copy()`\n",
      "  _df.at[index, f'player_{i}_team_2'] = value\n",
      "C:\\Users\\Prezes\\AppData\\Local\\Temp\\ipykernel_8780\\1555587034.py:19: PerformanceWarning: DataFrame is highly fragmented.  This is usually the result of calling `frame.insert` many times, which has poor performance.  Consider joining all columns at once using pd.concat(axis=1) instead. To get a de-fragmented frame, use `newframe = frame.copy()`\n",
      "  _df.at[index, f'player_{i}_team_1'] = value\n",
      "C:\\Users\\Prezes\\AppData\\Local\\Temp\\ipykernel_8780\\1555587034.py:22: PerformanceWarning: DataFrame is highly fragmented.  This is usually the result of calling `frame.insert` many times, which has poor performance.  Consider joining all columns at once using pd.concat(axis=1) instead. To get a de-fragmented frame, use `newframe = frame.copy()`\n",
      "  _df.at[index, f'player_{i}_team_2'] = value\n",
      "C:\\Users\\Prezes\\AppData\\Local\\Temp\\ipykernel_8780\\1555587034.py:19: PerformanceWarning: DataFrame is highly fragmented.  This is usually the result of calling `frame.insert` many times, which has poor performance.  Consider joining all columns at once using pd.concat(axis=1) instead. To get a de-fragmented frame, use `newframe = frame.copy()`\n",
      "  _df.at[index, f'player_{i}_team_1'] = value\n",
      "C:\\Users\\Prezes\\AppData\\Local\\Temp\\ipykernel_8780\\1555587034.py:22: PerformanceWarning: DataFrame is highly fragmented.  This is usually the result of calling `frame.insert` many times, which has poor performance.  Consider joining all columns at once using pd.concat(axis=1) instead. To get a de-fragmented frame, use `newframe = frame.copy()`\n",
      "  _df.at[index, f'player_{i}_team_2'] = value\n",
      "C:\\Users\\Prezes\\AppData\\Local\\Temp\\ipykernel_8780\\1555587034.py:19: PerformanceWarning: DataFrame is highly fragmented.  This is usually the result of calling `frame.insert` many times, which has poor performance.  Consider joining all columns at once using pd.concat(axis=1) instead. To get a de-fragmented frame, use `newframe = frame.copy()`\n",
      "  _df.at[index, f'player_{i}_team_1'] = value\n",
      "C:\\Users\\Prezes\\AppData\\Local\\Temp\\ipykernel_8780\\1555587034.py:22: PerformanceWarning: DataFrame is highly fragmented.  This is usually the result of calling `frame.insert` many times, which has poor performance.  Consider joining all columns at once using pd.concat(axis=1) instead. To get a de-fragmented frame, use `newframe = frame.copy()`\n",
      "  _df.at[index, f'player_{i}_team_2'] = value\n",
      "C:\\Users\\Prezes\\AppData\\Local\\Temp\\ipykernel_8780\\1555587034.py:19: PerformanceWarning: DataFrame is highly fragmented.  This is usually the result of calling `frame.insert` many times, which has poor performance.  Consider joining all columns at once using pd.concat(axis=1) instead. To get a de-fragmented frame, use `newframe = frame.copy()`\n",
      "  _df.at[index, f'player_{i}_team_1'] = value\n",
      "C:\\Users\\Prezes\\AppData\\Local\\Temp\\ipykernel_8780\\1555587034.py:22: PerformanceWarning: DataFrame is highly fragmented.  This is usually the result of calling `frame.insert` many times, which has poor performance.  Consider joining all columns at once using pd.concat(axis=1) instead. To get a de-fragmented frame, use `newframe = frame.copy()`\n",
      "  _df.at[index, f'player_{i}_team_2'] = value\n",
      "C:\\Users\\Prezes\\AppData\\Local\\Temp\\ipykernel_8780\\1555587034.py:19: PerformanceWarning: DataFrame is highly fragmented.  This is usually the result of calling `frame.insert` many times, which has poor performance.  Consider joining all columns at once using pd.concat(axis=1) instead. To get a de-fragmented frame, use `newframe = frame.copy()`\n",
      "  _df.at[index, f'player_{i}_team_1'] = value\n",
      "C:\\Users\\Prezes\\AppData\\Local\\Temp\\ipykernel_8780\\1555587034.py:22: PerformanceWarning: DataFrame is highly fragmented.  This is usually the result of calling `frame.insert` many times, which has poor performance.  Consider joining all columns at once using pd.concat(axis=1) instead. To get a de-fragmented frame, use `newframe = frame.copy()`\n",
      "  _df.at[index, f'player_{i}_team_2'] = value\n",
      "C:\\Users\\Prezes\\AppData\\Local\\Temp\\ipykernel_8780\\1555587034.py:19: PerformanceWarning: DataFrame is highly fragmented.  This is usually the result of calling `frame.insert` many times, which has poor performance.  Consider joining all columns at once using pd.concat(axis=1) instead. To get a de-fragmented frame, use `newframe = frame.copy()`\n",
      "  _df.at[index, f'player_{i}_team_1'] = value\n",
      "C:\\Users\\Prezes\\AppData\\Local\\Temp\\ipykernel_8780\\1555587034.py:22: PerformanceWarning: DataFrame is highly fragmented.  This is usually the result of calling `frame.insert` many times, which has poor performance.  Consider joining all columns at once using pd.concat(axis=1) instead. To get a de-fragmented frame, use `newframe = frame.copy()`\n",
      "  _df.at[index, f'player_{i}_team_2'] = value\n",
      "C:\\Users\\Prezes\\AppData\\Local\\Temp\\ipykernel_8780\\1555587034.py:19: PerformanceWarning: DataFrame is highly fragmented.  This is usually the result of calling `frame.insert` many times, which has poor performance.  Consider joining all columns at once using pd.concat(axis=1) instead. To get a de-fragmented frame, use `newframe = frame.copy()`\n",
      "  _df.at[index, f'player_{i}_team_1'] = value\n",
      "C:\\Users\\Prezes\\AppData\\Local\\Temp\\ipykernel_8780\\1555587034.py:22: PerformanceWarning: DataFrame is highly fragmented.  This is usually the result of calling `frame.insert` many times, which has poor performance.  Consider joining all columns at once using pd.concat(axis=1) instead. To get a de-fragmented frame, use `newframe = frame.copy()`\n",
      "  _df.at[index, f'player_{i}_team_2'] = value\n"
     ]
    }
   ],
   "source": [
    "for _df in df_list:\n",
    "    for index, row in _df.iterrows():\n",
    "        try:\n",
    "            formation_1 = [int(x.strip()) for x in str(row['team_1_formation']).split('-')]\n",
    "            formation_2 = [int(x.strip()) for x in str(row['team_2_formation']).split('-')]\n",
    "        except:\n",
    "            continue\n",
    "\n",
    "        scores_1 = extract_scores(row, 'team_1', formation_1)\n",
    "        scores_2 = extract_scores(row, 'team_2', formation_2)\n",
    "\n",
    "        if len(scores_1) != 11:\n",
    "            print('team_1 problem (match_id):', _df.at[index, 'match_id'], '| found:', len(scores_1))\n",
    "        if len(scores_2) != 11:\n",
    "            print('team_2 problem (match_id):', _df.at[index, 'match_id'], '| found:', len(scores_2))\n",
    "\n",
    "        for i in range(11):\n",
    "            value = scores_1[i] if i < len(scores_1) else 0.0\n",
    "            _df.at[index, f'player_{i}_team_1'] = value\n",
    "\n",
    "            value = scores_2[i] if i < len(scores_2) else 0.0\n",
    "            _df.at[index, f'player_{i}_team_2'] = value"
   ]
  },
  {
   "cell_type": "code",
   "execution_count": 137,
   "metadata": {},
   "outputs": [
    {
     "name": "stdout",
     "output_type": "stream",
     "text": [
      "    player_0_team_1  player_1_team_1  player_2_team_1  player_3_team_1  \\\n",
      "34              6.9              7.1              7.8              0.0   \n",
      "\n",
      "    player_4_team_1  player_5_team_1  player_6_team_1  player_7_team_1  \\\n",
      "34              6.6              6.7              6.7              7.3   \n",
      "\n",
      "    player_8_team_1  player_9_team_1  player_10_team_1  \n",
      "34              6.6              8.1               7.0  \n"
     ]
    }
   ],
   "source": [
    "# check case - 1 example\n",
    "# team_1_player_3 should have 0.0 value\n",
    "row = df1[df1['match_id'] == 'ju20wXAg']\n",
    "if not row.empty:\n",
    "    print(row[[f'player_{i}_team_1' for i in range(11)]])\n",
    "else:\n",
    "    print(\"Brak meczu o podanym match_id\")"
   ]
  },
  {
   "cell_type": "markdown",
   "metadata": {},
   "source": [
    "Review of missing player ratings"
   ]
  },
  {
   "cell_type": "code",
   "execution_count": 138,
   "metadata": {},
   "outputs": [
    {
     "name": "stdout",
     "output_type": "stream",
     "text": [
      "241\n",
      "===========\n",
      "245\n",
      "===========\n",
      "40\n",
      "===========\n",
      "1\n",
      "===========\n"
     ]
    }
   ],
   "source": [
    "for _df in df_list:\n",
    "    print(_df['player_0_team_1'].isna().sum())\n",
    "    print(\"===========\")"
   ]
  },
  {
   "cell_type": "markdown",
   "metadata": {},
   "source": [
    "Fills missing player ratings with team-winner group averages."
   ]
  },
  {
   "cell_type": "code",
   "execution_count": 139,
   "metadata": {},
   "outputs": [],
   "source": [
    "for _df in df_list:\n",
    "    for team in [1, 2]:\n",
    "        for player_idx in range(11):\n",
    "            col = f'player_{player_idx}_team_{team}'\n",
    "            group_col = f'team_{team}'\n",
    "\n",
    "            mean_vals = _df.groupby([group_col, 'winner'])[col].mean()\n",
    "\n",
    "            for idx, row in _df[_df[col].isna()].iterrows():\n",
    "                key = (row[group_col], row['winner'])\n",
    "                if key in mean_vals:\n",
    "                    _df.at[idx, col] = mean_vals[key]\n"
   ]
  },
  {
   "cell_type": "code",
   "execution_count": 140,
   "metadata": {},
   "outputs": [
    {
     "name": "stdout",
     "output_type": "stream",
     "text": [
      "DataFrame #0\n",
      "  player_0_team_1 -> missing: 240 \tleagues: ['Premier Liga']\n",
      "  player_1_team_1 -> missing: 240 \tleagues: ['Premier Liga']\n",
      "  player_2_team_1 -> missing: 240 \tleagues: ['Premier Liga']\n",
      "  player_3_team_1 -> missing: 240 \tleagues: ['Premier Liga']\n",
      "  player_4_team_1 -> missing: 240 \tleagues: ['Premier Liga']\n",
      "  player_5_team_1 -> missing: 240 \tleagues: ['Premier Liga']\n",
      "  player_6_team_1 -> missing: 240 \tleagues: ['Premier Liga']\n",
      "  player_7_team_1 -> missing: 240 \tleagues: ['Premier Liga']\n",
      "  player_8_team_1 -> missing: 240 \tleagues: ['Premier Liga']\n",
      "  player_9_team_1 -> missing: 240 \tleagues: ['Premier Liga']\n",
      "  player_10_team_1 -> missing: 240 \tleagues: ['Premier Liga']\n",
      "  player_0_team_2 -> missing: 240 \tleagues: ['Premier Liga']\n",
      "  player_1_team_2 -> missing: 240 \tleagues: ['Premier Liga']\n",
      "  player_2_team_2 -> missing: 240 \tleagues: ['Premier Liga']\n",
      "  player_3_team_2 -> missing: 240 \tleagues: ['Premier Liga']\n",
      "  player_4_team_2 -> missing: 240 \tleagues: ['Premier Liga']\n",
      "  player_5_team_2 -> missing: 240 \tleagues: ['Premier Liga']\n",
      "  player_6_team_2 -> missing: 240 \tleagues: ['Premier Liga']\n",
      "  player_7_team_2 -> missing: 240 \tleagues: ['Premier Liga']\n",
      "  player_8_team_2 -> missing: 240 \tleagues: ['Premier Liga']\n",
      "  player_9_team_2 -> missing: 240 \tleagues: ['Premier Liga']\n",
      "  player_10_team_2 -> missing: 240 \tleagues: ['Premier Liga']\n",
      "===========\n",
      "DataFrame #1\n",
      "  player_0_team_1 -> missing: 240 \tleagues: ['Premier Liga']\n",
      "  player_1_team_1 -> missing: 240 \tleagues: ['Premier Liga']\n",
      "  player_2_team_1 -> missing: 240 \tleagues: ['Premier Liga']\n",
      "  player_3_team_1 -> missing: 240 \tleagues: ['Premier Liga']\n",
      "  player_4_team_1 -> missing: 240 \tleagues: ['Premier Liga']\n",
      "  player_5_team_1 -> missing: 240 \tleagues: ['Premier Liga']\n",
      "  player_6_team_1 -> missing: 240 \tleagues: ['Premier Liga']\n",
      "  player_7_team_1 -> missing: 240 \tleagues: ['Premier Liga']\n",
      "  player_8_team_1 -> missing: 240 \tleagues: ['Premier Liga']\n",
      "  player_9_team_1 -> missing: 240 \tleagues: ['Premier Liga']\n",
      "  player_10_team_1 -> missing: 240 \tleagues: ['Premier Liga']\n",
      "  player_0_team_2 -> missing: 240 \tleagues: ['Premier Liga']\n",
      "  player_1_team_2 -> missing: 240 \tleagues: ['Premier Liga']\n",
      "  player_2_team_2 -> missing: 240 \tleagues: ['Premier Liga']\n",
      "  player_3_team_2 -> missing: 240 \tleagues: ['Premier Liga']\n",
      "  player_4_team_2 -> missing: 240 \tleagues: ['Premier Liga']\n",
      "  player_5_team_2 -> missing: 240 \tleagues: ['Premier Liga']\n",
      "  player_6_team_2 -> missing: 240 \tleagues: ['Premier Liga']\n",
      "  player_7_team_2 -> missing: 240 \tleagues: ['Premier Liga']\n",
      "  player_8_team_2 -> missing: 240 \tleagues: ['Premier Liga']\n",
      "  player_9_team_2 -> missing: 240 \tleagues: ['Premier Liga']\n",
      "  player_10_team_2 -> missing: 240 \tleagues: ['Premier Liga']\n",
      "===========\n",
      "DataFrame #2\n",
      "===========\n",
      "DataFrame #3\n",
      "===========\n"
     ]
    }
   ],
   "source": [
    "for i, _df in enumerate(df_list):\n",
    "    print(f\"DataFrame #{i}\")\n",
    "    for team in [1, 2]:\n",
    "        for player_idx in range(11):\n",
    "            col = f'player_{player_idx}_team_{team}'\n",
    "            mask = _df[col].isna()\n",
    "            missing = mask.sum()\n",
    "            if missing > 0:\n",
    "                leagues_with_nan = _df.loc[mask, 'league'].dropna().unique().tolist()\n",
    "                print(f\"  {col} -> missing: {missing} \\tleagues: {leagues_with_nan}\")\n",
    "    print(\"===========\")"
   ]
  },
  {
   "cell_type": "code",
   "execution_count": 141,
   "metadata": {},
   "outputs": [
    {
     "name": "stdout",
     "output_type": "stream",
     "text": [
      "Premier Liga:  240\n",
      "Premier Liga:  240\n",
      "Premier Liga:  240\n",
      "Premier Liga:  240\n"
     ]
    }
   ],
   "source": [
    "for df in df_list:\n",
    "    print(f\"Premier Liga: \" , df.loc[df['league'] == 'Premier Liga'].shape[0])"
   ]
  },
  {
   "cell_type": "markdown",
   "metadata": {},
   "source": [
    "`Premier Liga` is missing all team player ratings. Because of this, we can either drop the league or fill these missing values using global patterns. A simple approach would be to fill missing ratings with the median plus some noise based on match outcome (win/draw/lose). A more accurate—but potentially overly complex—solution would involve integrating team ratings into the dataset, which we haven’t done yet (this could be addressed after feature engineering).\n",
    "\n",
    "In summary, I will apply a simple filling method with small noise for now.\n",
    "\n",
    "Ultimately, we may decide to either exclude player ratings from model training, find and integrate data from another source, fill missing values (currently about 7% of data is missing), or drop the league entirely from further analysis and modeling."
   ]
  },
  {
   "cell_type": "code",
   "execution_count": 142,
   "metadata": {},
   "outputs": [],
   "source": [
    "rating_noise_choices = np.arange(-0.3, 0.4, 0.1)\n",
    "\n",
    "for df in df_list:\n",
    "    for team in [1, 2]:\n",
    "        for i in range(11):\n",
    "            col = f'player_{i}_team_{team}'\n",
    "            group_cols = ['winner', 'goals_1', 'goals_2']\n",
    "\n",
    "            mask_nan = df[col].isna()\n",
    "\n",
    "            most_common = df.groupby(group_cols)[col].transform(\n",
    "                lambda x: x.mode().iloc[0] if not x.mode().empty else np.nan\n",
    "            )\n",
    "\n",
    "            df[col] = df[col].fillna(most_common)\n",
    "\n",
    "            noise_mask = mask_nan & df[col].notna()\n",
    "            noise = np.random.choice(rating_noise_choices, size=noise_mask.sum())\n",
    "            df.loc[noise_mask, col] += noise\n",
    "            df[col] = df[col].clip(0, 10)\n",
    "\n",
    "            # during this process one match isn't filled so we use this to slove the problem\n",
    "            if df[col].isna().any():\n",
    "                df[col].fillna(df[col].median(), inplace=True)"
   ]
  },
  {
   "cell_type": "markdown",
   "metadata": {},
   "source": [
    "Double check"
   ]
  },
  {
   "cell_type": "code",
   "execution_count": 143,
   "metadata": {},
   "outputs": [
    {
     "name": "stdout",
     "output_type": "stream",
     "text": [
      "DataFrame #0\n",
      "===========\n",
      "DataFrame #1\n",
      "===========\n",
      "DataFrame #2\n",
      "===========\n",
      "DataFrame #3\n",
      "===========\n"
     ]
    }
   ],
   "source": [
    "for i, _df in enumerate(df_list):\n",
    "    print(f\"DataFrame #{i}\")\n",
    "    for team in [1, 2]:\n",
    "        for player_idx in range(11):\n",
    "            col = f'player_{player_idx}_team_{team}'\n",
    "            mask = _df[col].isna()\n",
    "            missing = mask.sum()\n",
    "            if missing > 0:\n",
    "                leagues_with_nan = _df.loc[mask, 'league'].dropna().unique().tolist()\n",
    "                print(f\"  {col} -> missing: {missing} \\tleagues: {leagues_with_nan}\")\n",
    "    print(\"===========\")"
   ]
  },
  {
   "cell_type": "markdown",
   "metadata": {},
   "source": [
    "## Bets missing values"
   ]
  },
  {
   "cell_type": "markdown",
   "metadata": {},
   "source": [
    "In some cases (especially in certain leagues), not all data is available or provided (e.g., bet types, match results, team ratings). Note: Within each data chunk, there may be instances where some columns contain missing (NaN) values."
   ]
  },
  {
   "cell_type": "markdown",
   "metadata": {},
   "source": [
    "In betting, decimal odds represent the inverse of the bookmaker's estimated probability of an event — typically with an included margin (profit):\n",
    "\n",
    "$$\n",
    "\\text{odds} = \\frac{1}{\\text{probability} \\cdot (1 - \\text{margin})}\n",
    "$$\n",
    "\n",
    "For example, if the fair (true) probability of a team winning is 0.5, and the bookmaker's margin is 5%, then the offered odds would be:\n",
    "\n",
    "$$\n",
    "\\text{odds} = \\frac{1}{0.5 \\cdot (1 - 0.05)} = \\frac{1}{0.475} \\approx 2.11\n",
    "$$\n",
    "\n",
    "---\n",
    "\n",
    "Some bets are combinations of outcomes:\n",
    "\n",
    "- `1X`: either Team 1 wins or it's a Draw\n",
    "- `12`: either Team 1 or Team 2 wins (no draw)\n",
    "- `X2`: either Draw or Team 2 wins\n",
    "\n",
    "Assuming independence and fair odds (ignoring margin), we can estimate combined odds using probabilities:\n",
    "\n",
    "$$\n",
    "\\frac{1}{\\text{bet\\_1X}} = \\frac{1}{\\text{bet\\_1}} + \\frac{1}{\\text{bet\\_X}}\n",
    ", \n",
    "\\frac{1}{\\text{bet\\_X2}} = \\frac{1}{\\text{bet\\_X}} + \\frac{1}{\\text{bet\\_2}}\n",
    ", \n",
    "\\frac{1}{\\text{bet\\_12}} = \\frac{1}{\\text{bet\\_1}} + \\frac{1}{\\text{bet\\_2}}\n",
    "$$\n",
    "\n",
    "Then, to solve for the missing single odds:\n",
    "\n",
    "$$\n",
    "\\text{bet\\_1} = \\left( \\frac{1}{\\text{bet\\_1X}} - \\frac{1}{\\text{bet\\_X}} \\right)^{-1}\n",
    ", \n",
    "\\text{bet\\_X} = \\left( \\frac{1}{\\text{bet\\_1X}} - \\frac{1}{\\text{bet\\_1}} \\right)^{-1}\n",
    ", \n",
    "\\text{bet\\_2} = \\left( \\frac{1}{\\text{bet\\_X2}} - \\frac{1}{\\text{bet\\_X}} \\right)^{-1}\n",
    "$$\n",
    "\n",
    "Likewise, to infer missing combined bets from basic odds:\n",
    "\n",
    "$$\n",
    "\\text{bet\\_1X} = \\left( \\frac{1}{\\text{bet\\_1}} + \\frac{1}{\\text{bet\\_X}} \\right)^{-1}\n",
    ", \n",
    "\\text{bet\\_X2} = \\left( \\frac{1}{\\text{bet\\_X}} + \\frac{1}{\\text{bet\\_2}} \\right)^{-1}\n",
    ", \n",
    "\\text{bet\\_12} = \\left( \\frac{1}{\\text{bet\\_1}} + \\frac{1}{\\text{bet\\_2}} \\right)^{-1}\n",
    "$$\n",
    "\n",
    "These formulas assume *no margin*, but they are suitable for estimating or filling missing values where precision is not critical.\n",
    "\n",
    "---\n",
    "\n",
    "Bookmakers always apply a margin, so these formulas may not precisely reconstruct offered odds."
   ]
  },
  {
   "cell_type": "code",
   "execution_count": 144,
   "metadata": {},
   "outputs": [
    {
     "name": "stdout",
     "output_type": "stream",
     "text": [
      "=================\n",
      "Bets 1, 2, x\t\t 101\n",
      "Bets 12, 1x, x2\t 39\n",
      "=================\n",
      "Bets 1, 2, x\t\t 159\n",
      "Bets 12, 1x, x2\t 4\n",
      "=================\n",
      "Bets 1, 2, x\t\t 29\n",
      "Bets 12, 1x, x2\t 35\n",
      "=================\n",
      "Bets 1, 2, x\t\t 73\n",
      "Bets 12, 1x, x2\t 1257\n"
     ]
    }
   ],
   "source": [
    "for _df in df_list:\n",
    "    print('=================')\n",
    "    bet_na_counter = _df[['bet_1', 'bet_2', 'bet_x']].isna().all(axis=1).sum()\n",
    "    print(\"Bets 1, 2, x\\t\\t\", bet_na_counter)\n",
    "    if _df['bet_1'].isna().sum() != bet_na_counter:\n",
    "        print(_df['bet_1'].isna().sum())\n",
    "    if _df['bet_x'].isna().sum() != bet_na_counter:\n",
    "        print(_df['bet_x'].isna().sum())\n",
    "    if _df['bet_2'].isna().sum() != bet_na_counter:\n",
    "        print(_df['bet_2'].isna().sum())\n",
    "    \n",
    "    bet_na_counter = _df[['bet_12', 'bet_x2', 'bet_1x']].isna().all(axis=1).sum()\n",
    "    print('Bets 12, 1x, x2\\t', bet_na_counter)\n",
    "    if _df['bet_1x'].isna().sum() != bet_na_counter:\n",
    "        print(_df['bet_1x'].isna().sum())\n",
    "    if _df['bet_x2'].isna().sum() != bet_na_counter:\n",
    "        print(_df['bet_x2'].isna().sum())\n",
    "    if _df['bet_12'].isna().sum() != bet_na_counter:\n",
    "        print(_df['bet_12'].isna().sum())"
   ]
  },
  {
   "cell_type": "markdown",
   "metadata": {},
   "source": [
    "Coś nie pykło, poniżej druga funkcja gites działa, jeszcze raz uruchomić i sprawdzić"
   ]
  },
  {
   "cell_type": "code",
   "execution_count": 145,
   "metadata": {},
   "outputs": [],
   "source": [
    "def odds_inverse(x):\n",
    "    return 1.0 / x\n",
    "\n",
    "def odds_from_inverse(x):\n",
    "    return round(1.0 / x, 2) if x > 0 else np.nan\n",
    "\n",
    "for df in df_list:\n",
    "    for idx, row in df.iterrows():\n",
    "        b1, bx, b2 = row['bet_1'], row['bet_x'], row['bet_2']\n",
    "        b1x, b12, bx2 = row['bet_1x'], row['bet_12'], row['bet_x2']\n",
    "        # fill 1x, x2, 12 using 1, x, 2\n",
    "        try:\n",
    "            if pd.isna(b1x) and not pd.isna(b1) and not pd.isna(bx):\n",
    "                df.at[idx, 'bet_1x'] = odds_from_inverse(odds_inverse(b1) + odds_inverse(bx))\n",
    "            if pd.isna(bx2) and not pd.isna(b2) and not pd.isna(bx):\n",
    "                df.at[idx, 'bet_x2'] = odds_from_inverse(odds_inverse(b2) + odds_inverse(bx))\n",
    "            if pd.isna(b12) and not pd.isna(b1) and not pd.isna(b2):\n",
    "                df.at[idx, 'bet_12'] = odds_from_inverse(odds_inverse(b1) + odds_inverse(b2))\n",
    "        except:\n",
    "            pass\n"
   ]
  },
  {
   "cell_type": "code",
   "execution_count": 146,
   "metadata": {},
   "outputs": [],
   "source": [
    "def solve_odds(b1x, b12, bx2):\n",
    "    if b1x == 0 or b12 == 0 or bx2 == 0:\n",
    "        return np.nan, np.nan, np.nan\n",
    "    if pd.isna(b1x) or pd.isna(b12) or pd.isna(bx2):\n",
    "        return np.nan, np.nan, np.nan\n",
    "    \n",
    "    A = 1.0 / b1x\n",
    "    B = 1.0 / b12\n",
    "    C = 1.0 / bx2\n",
    "    \n",
    "    # A = 1/b1 + 1/bx\n",
    "    # B = 1/b1 + 1/b2\n",
    "    # C = 1/bx + 1/b2\n",
    "    \n",
    "    # (1/b1 + 1/bx) + (1/bx + 1/b2) = A + C\n",
    "    # (1/b1 + 2/bx + 1/b2) = A + C\n",
    "    # x = 1/b1, y = 1/bx, z = 1/b2\n",
    "    \n",
    "    # x + y = A\n",
    "    # x + z = B\n",
    "    # y + z = C\n",
    "    \n",
    "    # (x+y)+(x+z)= A + B => 2x + y + z = A + B\n",
    "    # y + z = C\n",
    "    # 2x + C = A + B => x = (A + B - C)/2\n",
    "    x = (A + B - C) / 2\n",
    "    y = A - x\n",
    "    z = B - x\n",
    "    \n",
    "    bet_1 = 1 / x if x > 0 else np.nan\n",
    "    bet_x = 1 / y if y > 0 else np.nan\n",
    "    bet_2 = 1 / z if z > 0 else np.nan\n",
    "    \n",
    "    return round(bet_1, 2), round(bet_x, 2), round(bet_2, 2)"
   ]
  },
  {
   "cell_type": "code",
   "execution_count": 147,
   "metadata": {},
   "outputs": [],
   "source": [
    "for df in df_list:\n",
    "    for idx, row in df.iterrows():\n",
    "        b1, bx, b2 = row['bet_1'], row['bet_x'], row['bet_2']\n",
    "        b1x, b12, bx2 = row['bet_1x'], row['bet_12'], row['bet_x2']\n",
    "\n",
    "        if pd.isna(b1) or pd.isna(bx) or pd.isna(b2):\n",
    "            if not pd.isna(b1x) and not pd.isna(b12) and not pd.isna(bx2):\n",
    "                b1_new, bx_new, b2_new = solve_odds(b1x, b12, bx2)\n",
    "                if pd.isna(b1):\n",
    "                    df.at[idx, 'bet_1'] = b1_new\n",
    "                if pd.isna(bx):\n",
    "                    df.at[idx, 'bet_x'] = bx_new\n",
    "                if pd.isna(b2):\n",
    "                    df.at[idx, 'bet_2'] = b2_new\n"
   ]
  },
  {
   "cell_type": "code",
   "execution_count": 148,
   "metadata": {},
   "outputs": [
    {
     "name": "stdout",
     "output_type": "stream",
     "text": [
      "=================\n",
      "Bets 1, 2, x\t\t 1\n",
      "Bets 12, 1x, x2\t 1\n",
      "=================\n",
      "Bets 1, 2, x\t\t 0\n",
      "Bets 12, 1x, x2\t 0\n",
      "=================\n",
      "Bets 1, 2, x\t\t 29\n",
      "Bets 12, 1x, x2\t 29\n",
      "=================\n",
      "Bets 1, 2, x\t\t 30\n",
      "Bets 12, 1x, x2\t 29\n"
     ]
    }
   ],
   "source": [
    "for _df in df_list:\n",
    "    print('=================')\n",
    "    bet_na_counter = _df[['bet_1', 'bet_2', 'bet_x']].isna().all(axis=1).sum()\n",
    "    print(\"Bets 1, 2, x\\t\\t\", bet_na_counter)\n",
    "    if _df['bet_1'].isna().sum() != bet_na_counter:\n",
    "        print(_df['bet_1'].isna().sum())\n",
    "    if _df['bet_x'].isna().sum() != bet_na_counter:\n",
    "        print(_df['bet_x'].isna().sum())\n",
    "    if _df['bet_2'].isna().sum() != bet_na_counter:\n",
    "        print(_df['bet_2'].isna().sum())\n",
    "    \n",
    "    bet_na_counter = _df[['bet_12', 'bet_x2', 'bet_1x']].isna().all(axis=1).sum()\n",
    "    print('Bets 12, 1x, x2\\t', bet_na_counter)\n",
    "    if _df['bet_1x'].isna().sum() != bet_na_counter:\n",
    "        print(_df['bet_1x'].isna().sum())\n",
    "    if _df['bet_x2'].isna().sum() != bet_na_counter:\n",
    "        print(_df['bet_x2'].isna().sum())\n",
    "    if _df['bet_12'].isna().sum() != bet_na_counter:\n",
    "        print(_df['bet_12'].isna().sum())"
   ]
  },
  {
   "cell_type": "markdown",
   "metadata": {},
   "source": [
    "As we can see, we have mostly filled the missing values using the correct algorithm. The bets *bet_1*, *bet_x*, and *bet_2* will be used as input data for training the algorithm.  Now let's fill missing data with grouping and mean (not perfect solution but size of each dataframe is ~3500rows, that gives <1% filled data)"
   ]
  },
  {
   "cell_type": "code",
   "execution_count": 149,
   "metadata": {},
   "outputs": [],
   "source": [
    "for df in df_list:\n",
    "    for team_col in ['team_1', 'team_2']:\n",
    "        for col in ['bet_1', 'bet_x', 'bet_2', 'bet_1x', 'bet_12', 'bet_x2']:\n",
    "            team_avg = df.groupby(team_col)[col].mean()\n",
    "            mask = df[col].isna()\n",
    "            df.loc[mask, col] = df.loc[mask, team_col].map(team_avg)\n"
   ]
  },
  {
   "cell_type": "code",
   "execution_count": 150,
   "metadata": {},
   "outputs": [
    {
     "name": "stdout",
     "output_type": "stream",
     "text": [
      "=================\n",
      "Bets 1, 2, x\t\t 0\n",
      "Bets 12, 1x, x2\t 0\n",
      "=================\n",
      "Bets 1, 2, x\t\t 0\n",
      "Bets 12, 1x, x2\t 0\n",
      "=================\n",
      "Bets 1, 2, x\t\t 0\n",
      "Bets 12, 1x, x2\t 0\n",
      "=================\n",
      "Bets 1, 2, x\t\t 0\n",
      "Bets 12, 1x, x2\t 0\n"
     ]
    }
   ],
   "source": [
    "for _df in df_list:\n",
    "    print('=================')\n",
    "    bet_na_counter = _df[['bet_1', 'bet_2', 'bet_x']].isna().all(axis=1).sum()\n",
    "    print(\"Bets 1, 2, x\\t\\t\", bet_na_counter)\n",
    "    if _df['bet_1'].isna().sum() != bet_na_counter:\n",
    "        print(_df['bet_1'].isna().sum())\n",
    "    if _df['bet_x'].isna().sum() != bet_na_counter:\n",
    "        print(_df['bet_x'].isna().sum())\n",
    "    if _df['bet_2'].isna().sum() != bet_na_counter:\n",
    "        print(_df['bet_2'].isna().sum())\n",
    "    \n",
    "    bet_na_counter = _df[['bet_12', 'bet_x2', 'bet_1x']].isna().all(axis=1).sum()\n",
    "    print('Bets 12, 1x, x2\\t', bet_na_counter)\n",
    "    if _df['bet_1x'].isna().sum() != bet_na_counter:\n",
    "        print(_df['bet_1x'].isna().sum())\n",
    "    if _df['bet_x2'].isna().sum() != bet_na_counter:\n",
    "        print(_df['bet_x2'].isna().sum())\n",
    "    if _df['bet_12'].isna().sum() != bet_na_counter:\n",
    "        print(_df['bet_12'].isna().sum())"
   ]
  },
  {
   "cell_type": "markdown",
   "metadata": {},
   "source": [
    "The bets above and below will be used after the AI models for bet-building purposes. As mentioned earlier, handicap bets will be removed. Therefore, in the end, we will not fill missing values in the *above*, *below*, and *handicap* columns."
   ]
  },
  {
   "cell_type": "code",
   "execution_count": 151,
   "metadata": {},
   "outputs": [
    {
     "name": "stdout",
     "output_type": "stream",
     "text": [
      "==============\n",
      "Missing data in handicap: 2538\n",
      "Missing data in above/below: 1\n",
      "==============\n",
      "Missing data in handicap: 964\n",
      "Missing data in above/below: 61\n",
      "==============\n",
      "Missing data in handicap: 223\n",
      "Missing data in above/below: 86\n",
      "==============\n",
      "Missing data in handicap: 222\n",
      "Missing data in above/below: 1488\n"
     ]
    },
    {
     "name": "stderr",
     "output_type": "stream",
     "text": [
      "C:\\Users\\Prezes\\AppData\\Local\\Temp\\ipykernel_8780\\900436675.py:6: PerformanceWarning: DataFrame is highly fragmented.  This is usually the result of calling `frame.insert` many times, which has poor performance.  Consider joining all columns at once using pd.concat(axis=1) instead. To get a de-fragmented frame, use `newframe = frame.copy()`\n",
      "  df['handicap_count'] = df[handicap_cols].notna().sum(axis=1)\n",
      "C:\\Users\\Prezes\\AppData\\Local\\Temp\\ipykernel_8780\\900436675.py:7: PerformanceWarning: DataFrame is highly fragmented.  This is usually the result of calling `frame.insert` many times, which has poor performance.  Consider joining all columns at once using pd.concat(axis=1) instead. To get a de-fragmented frame, use `newframe = frame.copy()`\n",
      "  df['above_count'] = df[above_cols].notna().sum(axis=1)\n",
      "C:\\Users\\Prezes\\AppData\\Local\\Temp\\ipykernel_8780\\900436675.py:6: PerformanceWarning: DataFrame is highly fragmented.  This is usually the result of calling `frame.insert` many times, which has poor performance.  Consider joining all columns at once using pd.concat(axis=1) instead. To get a de-fragmented frame, use `newframe = frame.copy()`\n",
      "  df['handicap_count'] = df[handicap_cols].notna().sum(axis=1)\n",
      "C:\\Users\\Prezes\\AppData\\Local\\Temp\\ipykernel_8780\\900436675.py:7: PerformanceWarning: DataFrame is highly fragmented.  This is usually the result of calling `frame.insert` many times, which has poor performance.  Consider joining all columns at once using pd.concat(axis=1) instead. To get a de-fragmented frame, use `newframe = frame.copy()`\n",
      "  df['above_count'] = df[above_cols].notna().sum(axis=1)\n",
      "C:\\Users\\Prezes\\AppData\\Local\\Temp\\ipykernel_8780\\900436675.py:6: PerformanceWarning: DataFrame is highly fragmented.  This is usually the result of calling `frame.insert` many times, which has poor performance.  Consider joining all columns at once using pd.concat(axis=1) instead. To get a de-fragmented frame, use `newframe = frame.copy()`\n",
      "  df['handicap_count'] = df[handicap_cols].notna().sum(axis=1)\n",
      "C:\\Users\\Prezes\\AppData\\Local\\Temp\\ipykernel_8780\\900436675.py:7: PerformanceWarning: DataFrame is highly fragmented.  This is usually the result of calling `frame.insert` many times, which has poor performance.  Consider joining all columns at once using pd.concat(axis=1) instead. To get a de-fragmented frame, use `newframe = frame.copy()`\n",
      "  df['above_count'] = df[above_cols].notna().sum(axis=1)\n",
      "C:\\Users\\Prezes\\AppData\\Local\\Temp\\ipykernel_8780\\900436675.py:6: PerformanceWarning: DataFrame is highly fragmented.  This is usually the result of calling `frame.insert` many times, which has poor performance.  Consider joining all columns at once using pd.concat(axis=1) instead. To get a de-fragmented frame, use `newframe = frame.copy()`\n",
      "  df['handicap_count'] = df[handicap_cols].notna().sum(axis=1)\n",
      "C:\\Users\\Prezes\\AppData\\Local\\Temp\\ipykernel_8780\\900436675.py:7: PerformanceWarning: DataFrame is highly fragmented.  This is usually the result of calling `frame.insert` many times, which has poor performance.  Consider joining all columns at once using pd.concat(axis=1) instead. To get a de-fragmented frame, use `newframe = frame.copy()`\n",
      "  df['above_count'] = df[above_cols].notna().sum(axis=1)\n"
     ]
    }
   ],
   "source": [
    "def check_bet_v1(df, x=3):\n",
    "\n",
    "    handicap_cols = [col for col in df.columns if col.startswith('bet_handicap')]\n",
    "    above_cols = [col for col in df.columns if col.startswith('bet_above')]\n",
    "\n",
    "    df['handicap_count'] = df[handicap_cols].notna().sum(axis=1)\n",
    "    df['above_count'] = df[above_cols].notna().sum(axis=1)\n",
    "\n",
    "    print('==============')\n",
    "    print(\"Missing data in handicap:\", (df['handicap_count'] < x).sum())\n",
    "    print(\"Missing data in above/below:\", (df['above_count'] < x).sum())\n",
    "    \n",
    "for _df in df_list:\n",
    "    check_bet_v1(_df, 3)"
   ]
  },
  {
   "cell_type": "markdown",
   "metadata": {},
   "source": [
    "# 4. Data cleaning and transformation"
   ]
  },
  {
   "cell_type": "markdown",
   "metadata": {},
   "source": [
    "## Cleaning and transformation"
   ]
  },
  {
   "cell_type": "markdown",
   "metadata": {},
   "source": [
    "This stage includes removing unnecessary or irrelevant columns (such as redundant identifiers or columns with too many missing values) and transforming features into formats suitable for modeling"
   ]
  },
  {
   "cell_type": "markdown",
   "metadata": {},
   "source": [
    "Removing handicap from our dataframes"
   ]
  },
  {
   "cell_type": "code",
   "execution_count": 152,
   "metadata": {},
   "outputs": [],
   "source": [
    "for df in df_list:\n",
    "    df.drop([col for col in df.columns if 'handicap' in col], axis=1, inplace=True)"
   ]
  },
  {
   "cell_type": "markdown",
   "metadata": {},
   "source": [
    "In chapter 3- team setups and player ratings we made new column based on player lines. Now we remove those lines."
   ]
  },
  {
   "cell_type": "code",
   "execution_count": 153,
   "metadata": {},
   "outputs": [],
   "source": [
    "for df in df_list:\n",
    "    df.drop([col for col in df.columns if 'team_1_line' in col], axis=1, inplace=True)\n",
    "    df.drop([col for col in df.columns if 'team_2_line' in col], axis=1, inplace=True)"
   ]
  },
  {
   "cell_type": "code",
   "execution_count": 154,
   "metadata": {},
   "outputs": [],
   "source": [
    "for df in df_list:\n",
    "    df.drop(columns=['match_id'], axis=1, inplace=True)"
   ]
  },
  {
   "cell_type": "markdown",
   "metadata": {},
   "source": [
    "For model that won't be LSTM or something similar beneficial would be providing data from earlier matches. Based on general info provided at the internet we can try:\n",
    "\n",
    "- making scores/memory of win/lose/draw in last 5 matches                               \n",
    "- team/player rathing from last 5 or so matches (like previous for temporary team condition)\n",
    "- making table with team points in each season\n",
    "- cumulative columns of wins, loses and draws in each season\n",
    "- making cumulative player rating from last few matches (preffered grouping for defence, offensive, support or whole team)\n",
    "- providing previous and current team place at the end of a season\n",
    "\n",
    "Note: not evry idea will be included"
   ]
  },
  {
   "cell_type": "code",
   "execution_count": 155,
   "metadata": {},
   "outputs": [],
   "source": [
    "def calculate_last_5_player_ratings(df: pd.DataFrame) -> pd.DataFrame:\n",
    "    df = df.copy()\n",
    "    df['date'] = pd.to_datetime(df['date'], format=\"%d.%m.%Y %H:%M\")\n",
    "    results = []\n",
    "    \n",
    "    for league, group_df in df.groupby('league'):\n",
    "        group_df = group_df.sort_values('date').reset_index(drop=True)\n",
    "        \n",
    "        # {team_name: {player_idx: [ratings]}}\n",
    "        team_players_ratings = {}\n",
    "        \n",
    "        for team_num in [1, 2]:\n",
    "            for i in range(11):\n",
    "                col_name = f'player_{i}_last_5_avg_team_{team_num}'\n",
    "                group_df[col_name] = 0.0\n",
    "        \n",
    "        for idx, row in group_df.iterrows():\n",
    "            team1 = row['team_1']\n",
    "            if team1 not in team_players_ratings:\n",
    "                team_players_ratings[team1] = {i: [] for i in range(11)}\n",
    "            \n",
    "            team2 = row['team_2']\n",
    "            if team2 not in team_players_ratings:\n",
    "                team_players_ratings[team2] = {i: [] for i in range(11)}\n",
    "            \n",
    "            for team_num, team_name in [(1, team1), (2, team2)]:\n",
    "                for player_idx in range(11):\n",
    "                    player_col = f'player_{player_idx}_team_{team_num}'\n",
    "                    rating = row[player_col]\n",
    "                    \n",
    "                    team_players_ratings[team_name][player_idx].append(rating)\n",
    "                    \n",
    "                    last_5 = team_players_ratings[team_name][player_idx][-5:]\n",
    "                    avg_5 = sum(last_5) / len(last_5) if last_5 else 0\n",
    "                    \n",
    "                    group_df.at[idx, f'player_{player_idx}_last_5_avg_team_{team_num}'] = avg_5\n",
    "        \n",
    "        results.append(group_df)\n",
    "    \n",
    "    df_final = pd.concat(results).sort_index()\n",
    "    return df_final"
   ]
  },
  {
   "cell_type": "code",
   "execution_count": 156,
   "metadata": {},
   "outputs": [],
   "source": [
    "df_list = [calculate_last_5_player_ratings(df) for df in df_list]"
   ]
  },
  {
   "cell_type": "code",
   "execution_count": 157,
   "metadata": {},
   "outputs": [],
   "source": [
    "def calculate_cumulative_goals(df: pd.DataFrame) -> pd.DataFrame:\n",
    "    df = df.copy()\n",
    "    df['date'] = pd.to_datetime(df['date'], format=\"%d.%m.%Y %H:%M\")\n",
    "    results = []\n",
    "\n",
    "    for league, group_df in df.groupby('league'):\n",
    "        group_df = group_df.sort_values('date').reset_index(drop=True)\n",
    "\n",
    "        for i in range(1, 3):\n",
    "            group_df[f'total_goals_scored_team_{i}'] = 0\n",
    "            group_df[f'total_goals_conceded_team_{i}'] = 0\n",
    "\n",
    "        team_goals = {}\n",
    "\n",
    "        for idx, row in group_df.iterrows():\n",
    "            t1 = row['team_1']\n",
    "            t2 = row['team_2']\n",
    "            g1 = row['goals_1']\n",
    "            g2 = row['goals_2']\n",
    "\n",
    "            t1_stats = team_goals.get(t1, (0, 0))\n",
    "            t2_stats = team_goals.get(t2, (0, 0))\n",
    "\n",
    "            group_df.at[idx, 'total_goals_scored_team_1'] = t1_stats[0] + g1\n",
    "            group_df.at[idx, 'total_goals_conceded_team_1'] = t1_stats[1] + g2\n",
    "\n",
    "            group_df.at[idx, 'total_goals_scored_team_2'] = t2_stats[0] + g2\n",
    "            group_df.at[idx, 'total_goals_conceded_team_2'] = t2_stats[1] + g1\n",
    "\n",
    "            team_goals[t1] = (t1_stats[0] + g1, t1_stats[1] + g2)\n",
    "            team_goals[t2] = (t2_stats[0] + g2, t2_stats[1] + g1)\n",
    "\n",
    "        results.append(group_df)\n",
    "\n",
    "    df_final = pd.concat(results).sort_index()\n",
    "    return df_final"
   ]
  },
  {
   "cell_type": "code",
   "execution_count": 158,
   "metadata": {},
   "outputs": [],
   "source": [
    "df_list = [calculate_cumulative_goals(df) for df in df_list]"
   ]
  },
  {
   "cell_type": "code",
   "execution_count": 159,
   "metadata": {},
   "outputs": [],
   "source": [
    "def cumulative_win_draw_loss(df: pd.DataFrame) -> pd.DataFrame:\n",
    "    df = df.copy()\n",
    "    df['date'] = pd.to_datetime(df['date'], format=\"%d.%m.%Y %H:%M\")\n",
    "\n",
    "    result_dfs = []\n",
    "\n",
    "    for league, group_df in df.groupby('league'):\n",
    "        group_df = group_df.sort_values('date').reset_index(drop=True)\n",
    "\n",
    "        for i in [1, 2]:\n",
    "            group_df[f'total_wins_team_{i}'] = 0\n",
    "            group_df[f'total_draws_team_{i}'] = 0\n",
    "            group_df[f'total_losses_team_{i}'] = 0\n",
    "\n",
    "        team_stats = {}\n",
    "\n",
    "        for idx, row in group_df.iterrows():\n",
    "            t1 = row['team_1']\n",
    "            t2 = row['team_2']\n",
    "            winner = row['winner']\n",
    "            t1_stats = team_stats.get(t1, (0, 0, 0))\n",
    "            t2_stats = team_stats.get(t2, (0, 0, 0))\n",
    "\n",
    "            if winner == 1.0:\n",
    "                t1_stats = (t1_stats[0] + 1, t1_stats[1], t1_stats[2])\n",
    "                t2_stats = (t2_stats[0], t2_stats[1], t2_stats[2] + 1)\n",
    "            elif winner == 2.0:\n",
    "                t2_stats = (t2_stats[0] + 1, t2_stats[1], t2_stats[2])\n",
    "                t1_stats = (t1_stats[0], t1_stats[1], t1_stats[2] + 1)\n",
    "            elif winner == 0.0:\n",
    "                t1_stats = (t1_stats[0], t1_stats[1] + 1, t1_stats[2])\n",
    "                t2_stats = (t2_stats[0], t2_stats[1] + 1, t2_stats[2])\n",
    "\n",
    "            group_df.at[idx, 'total_wins_team_1'] = t1_stats[0]\n",
    "            group_df.at[idx, 'total_draws_team_1'] = t1_stats[1]\n",
    "            group_df.at[idx, 'total_losses_team_1'] = t1_stats[2]\n",
    "\n",
    "            group_df.at[idx, 'total_wins_team_2'] = t2_stats[0]\n",
    "            group_df.at[idx, 'total_draws_team_2'] = t2_stats[1]\n",
    "            group_df.at[idx, 'total_losses_team_2'] = t2_stats[2]\n",
    "\n",
    "            team_stats[t1] = t1_stats\n",
    "            team_stats[t2] = t2_stats\n",
    "\n",
    "        result_dfs.append(group_df)\n",
    "\n",
    "    return pd.concat(result_dfs).sort_values(by='date').reset_index(drop=True)\n"
   ]
  },
  {
   "cell_type": "code",
   "execution_count": 160,
   "metadata": {},
   "outputs": [],
   "source": [
    "df_list = [cumulative_win_draw_loss(df) for df in df_list]"
   ]
  },
  {
   "cell_type": "code",
   "execution_count": 161,
   "metadata": {},
   "outputs": [],
   "source": [
    "for df in df_list:\n",
    "    df['total_points_team_1'] = df['total_wins_team_1'] * 3 + df['total_draws_team_1']\n",
    "    df['total_points_team_2'] = df['total_wins_team_2'] * 3 + df['total_draws_team_2']"
   ]
  },
  {
   "cell_type": "code",
   "execution_count": 162,
   "metadata": {},
   "outputs": [],
   "source": [
    "def calculate_team_stats_last_5_matches(df: pd.DataFrame) -> pd.DataFrame:\n",
    "    df = df.copy()\n",
    "    df['date'] = pd.to_datetime(df['date'], format=\"%d.%m.%Y %H:%M\")\n",
    "    df = df.sort_values('date').reset_index(drop=True)\n",
    "\n",
    "    team_history = {}\n",
    "\n",
    "    for i in range(1, 3):\n",
    "        df[f'avg_goals_last_5_team_{i}'] = 0.0\n",
    "        df[f'wins_last_5_team_{i}'] = 0\n",
    "        df[f'draws_last_5_team_{i}'] = 0\n",
    "        df[f'losses_last_5_team_{i}'] = 0\n",
    "\n",
    "    for idx, row in df.iterrows():\n",
    "        t1, t2 = row['team_1'], row['team_2']\n",
    "        g1, g2 = row['goals_1'], row['goals_2']\n",
    "\n",
    "        for team in [t1, t2]:\n",
    "            if team not in team_history:\n",
    "                team_history[team] = []\n",
    "\n",
    "        result_t1 = 'W' if g1 > g2 else 'D' if g1 == g2 else 'L'\n",
    "        result_t2 = 'W' if g2 > g1 else 'D' if g2 == g1 else 'L'\n",
    "\n",
    "        history_t1 = team_history[t1][-4:] + [{'goals_scored': g1, 'result': result_t1}]\n",
    "        history_t2 = team_history[t2][-4:] + [{'goals_scored': g2, 'result': result_t2}]\n",
    "\n",
    "        goals = [match['goals_scored'] for match in history_t1]\n",
    "        results = [match['result'] for match in history_t1]\n",
    "\n",
    "        df.at[idx, 'avg_goals_last_5_team_1'] = sum(goals) / len(goals)\n",
    "        df.at[idx, 'wins_last_5_team_1'] = results.count('W')\n",
    "        df.at[idx, 'draws_last_5_team_1'] = results.count('D')\n",
    "        df.at[idx, 'losses_last_5_team_1'] = results.count('L')\n",
    "\n",
    "        goals = [match['goals_scored'] for match in history_t2]\n",
    "        results = [match['result'] for match in history_t2]\n",
    "\n",
    "        df.at[idx, 'avg_goals_last_5_team_2'] = sum(goals) / len(goals)\n",
    "        df.at[idx, 'wins_last_5_team_2'] = results.count('W')\n",
    "        df.at[idx, 'draws_last_5_team_2'] = results.count('D')\n",
    "        df.at[idx, 'losses_last_5_team_2'] = results.count('L')\n",
    "\n",
    "        team_history[t1].append({'goals_scored': g1, 'result': result_t1})\n",
    "        team_history[t2].append({'goals_scored': g2, 'result': result_t2})\n",
    "\n",
    "    return df"
   ]
  },
  {
   "cell_type": "code",
   "execution_count": 163,
   "metadata": {},
   "outputs": [],
   "source": [
    "df_list = [calculate_team_stats_last_5_matches(df) for df in df_list]"
   ]
  },
  {
   "cell_type": "code",
   "execution_count": 164,
   "metadata": {},
   "outputs": [],
   "source": [
    "def assign_rankings_by_league(df: pd.DataFrame) -> pd.DataFrame:\n",
    "    df = df.copy()\n",
    "    df['date'] = pd.to_datetime(df['date'])\n",
    "    df = df.sort_values(['league', 'date']).reset_index(drop=True)\n",
    "    \n",
    "    df['ranking_team_1'] = 0\n",
    "    df['ranking_team_2'] = 0\n",
    "    \n",
    "    result_dfs = []\n",
    "    \n",
    "    for league, group in df.groupby('league'):\n",
    "        group = group.reset_index(drop=True)\n",
    "        \n",
    "        new_block = group['turn'] != group['turn'].shift()\n",
    "        group['block'] = new_block.cumsum()\n",
    "        \n",
    "        team_points = {}\n",
    "        \n",
    "        for block_id, block_df in group.groupby('block'):\n",
    "            for _, row in block_df.iterrows():\n",
    "                team_points[row['team_1']] = row['total_points_team_1']\n",
    "                team_points[row['team_2']] = row['total_points_team_2']\n",
    "            \n",
    "            sorted_teams = sorted(team_points.items(), key=lambda x: -x[1])\n",
    "            \n",
    "            rankings = {}\n",
    "            prev_points = None\n",
    "            current_rank = 0\n",
    "            \n",
    "            for i, (team, pts) in enumerate(sorted_teams):\n",
    "                if pts != prev_points:\n",
    "                    current_rank = i + 1\n",
    "                rankings[team] = current_rank\n",
    "                prev_points = pts\n",
    "            for idx in block_df.index:\n",
    "                team1 = group.at[idx, 'team_1']\n",
    "                team2 = group.at[idx, 'team_2']\n",
    "                group.at[idx, 'ranking_team_1'] = rankings.get(team1, 0)\n",
    "                group.at[idx, 'ranking_team_2'] = rankings.get(team2, 0)\n",
    "        \n",
    "        result_dfs.append(group.drop(columns='block'))\n",
    "    \n",
    "    return pd.concat(result_dfs).sort_values(['league', 'date']).reset_index(drop=True)\n"
   ]
  },
  {
   "cell_type": "code",
   "execution_count": 165,
   "metadata": {},
   "outputs": [],
   "source": [
    "df_list = [assign_rankings_by_league(df) for df in df_list]"
   ]
  },
  {
   "cell_type": "markdown",
   "metadata": {},
   "source": [
    "We need same structure for columns - in last transformation speps. Because of that we make '_team_1' and '_team_2' suffix."
   ]
  },
  {
   "cell_type": "code",
   "execution_count": 166,
   "metadata": {},
   "outputs": [],
   "source": [
    "for df in df_list:\n",
    "    col_1 = ['goals_1', 'possession_1', 'goal_chances_1', 'shots_on_target_1', 'shots_off_target_1', 'offsides_1', 'goalkeeper_saves_1', 'fouls_1', 'attacks_1', 'dangerous_attacks_1', 'red_cards_1']\n",
    "    col_2 = ['goals_2', 'possession_2', 'goal_chances_2', 'shots_on_target_2', 'shots_off_target_2', 'offsides_2', 'goalkeeper_saves_2', 'fouls_2', 'attacks_2', 'dangerous_attacks_2', 'red_cards_2']\n",
    "\n",
    "    rename_map = {}\n",
    "\n",
    "    for col in col_1:\n",
    "        rename_map[col] = f'{col[:-2]}_team_1'\n",
    "\n",
    "    for col in col_2:\n",
    "        rename_map[col] = f'{col[:-2]}_team_2'\n",
    "\n",
    "    rename_map['team_1_formation'] = 'formation_team_1'\n",
    "    rename_map['team_2_formation'] = 'formation_team_2'\n",
    "\n",
    "    df.rename(columns=rename_map, inplace=True)"
   ]
  },
  {
   "cell_type": "markdown",
   "metadata": {},
   "source": [
    "## Save progress"
   ]
  },
  {
   "cell_type": "markdown",
   "metadata": {},
   "source": [
    "The dataset has undergone significant transformation. It's recommended to save the transformed version.\n",
    "\n",
    "The data we will work with is now cleaned and ready. However, additional preparation will be needed to convert it into a format suitable for model training. Currently, each row contains the betting odds for a match along with post-match information such as team ratings and statistics.\n",
    "\n",
    "For training purposes, we need to restructure the dataset so that each row represents the context before a match — including the upcoming match, the odds for that match, and relevant statistics derived from previous games. This format will enable the model to learn from historical performance and betting patterns to make accurate predictions."
   ]
  },
  {
   "cell_type": "code",
   "execution_count": 167,
   "metadata": {},
   "outputs": [],
   "source": [
    "season = {\n",
    "    0: '20_21',\n",
    "    1: '21_22',\n",
    "    2: '22_23',\n",
    "    3: '23_24'\n",
    "}\n",
    "\n",
    "for i, df in enumerate(df_list):\n",
    "    df.to_csv(f'../data/transformed_data/{season[i]}_transformed.csv', index=False)"
   ]
  },
  {
   "cell_type": "markdown",
   "metadata": {},
   "source": [
    "# 5. Models"
   ]
  },
  {
   "cell_type": "markdown",
   "metadata": {},
   "source": [
    "## Import and setup"
   ]
  },
  {
   "cell_type": "markdown",
   "metadata": {},
   "source": [
    "In this subsection, we import and configure the necessary libraries, and transform the data into a format suitable for machine learning models. While the dataset has already been cleaned and preprocessed to some extent, additional transformations are applied here to make the features compatible with the input requirements of ML algorithms. This section also includes the data preparation steps applied just before training \n",
    "\n",
    "XGboost, lightGBM, GradientBoostClassifier, LogisticRegression, lstm"
   ]
  },
  {
   "cell_type": "code",
   "execution_count": null,
   "metadata": {},
   "outputs": [],
   "source": [
    "from sklearn.base import BaseEstimator, TransformerMixin\n",
    "from sklearn.ensemble import RandomForestRegressor, RandomForestClassifier\n",
    "from sklearn.linear_model import SGDClassifier\n",
    "from sklearn.preprocessing import OneHotEncoder, StandardScaler\n",
    "from sklearn.compose import ColumnTransformer\n",
    "import numpy as np\n",
    "import pandas as pd\n",
    "from collections import defaultdict\n",
    "from sklearn.multioutput import MultiOutputRegressor\n",
    "from sklearn.pipeline import Pipeline\n",
    "from sklearn.metrics import mean_absolute_error, mean_squared_error, r2_score, accuracy_score, classification_report, confusion_matrix\n",
    "from sklearn.metrics import precision_score, recall_score, f1_score, ConfusionMatrixDisplay\n",
    "from xgboost import XGBClassifier\n",
    "import joblib\n",
    "from sklearn.model_selection import learning_curve, GridSearchCV, StratifiedKFold, train_test_split, ParameterGrid"
   ]
  },
  {
   "cell_type": "markdown",
   "metadata": {},
   "source": [
    "Load data:"
   ]
  },
  {
   "cell_type": "code",
   "execution_count": 170,
   "metadata": {},
   "outputs": [],
   "source": [
    "# code to load data\n",
    "df1 = pd.read_csv(r\"..\\data\\transformed_data\\20_21_transformed.csv\")\n",
    "df2 = pd.read_csv(r\"..\\data\\transformed_data\\21_22_transformed.csv\")\n",
    "df3 = pd.read_csv(r\"..\\data\\transformed_data\\22_23_transformed.csv\")\n",
    "df4 = pd.read_csv(r\"..\\data\\transformed_data\\23_24_transformed.csv\")\n",
    "\n",
    "df_list = [df1, df2, df3, df4]"
   ]
  },
  {
   "cell_type": "markdown",
   "metadata": {},
   "source": [
    "We need shuffle data, because now each row have scores of specified match. We need to predict this exact match based on history"
   ]
  },
  {
   "cell_type": "code",
   "execution_count": 171,
   "metadata": {},
   "outputs": [],
   "source": [
    "# drop of unnecessary columns (for training)\n",
    "for df in df_list:\n",
    "    df.drop([col for col in df.columns if 'bet_above' in col], axis = 1, inplace = True)\n",
    "    df.drop([col for col in df.columns if 'bet_below' in col], axis = 1, inplace = True)\n",
    "    df.drop(['bet_12', 'bet_1x', 'bet_x2', 'above_count'], axis = 1, inplace = True) # Same info contains bet_1, bet_x and bet_2 values"
   ]
  },
  {
   "cell_type": "code",
   "execution_count": 172,
   "metadata": {},
   "outputs": [],
   "source": [
    "joined_df = pd.concat(df_list, ignore_index=True)"
   ]
  },
  {
   "cell_type": "code",
   "execution_count": 173,
   "metadata": {},
   "outputs": [
    {
     "data": {
      "text/plain": [
       "(14324, 99)"
      ]
     },
     "execution_count": 173,
     "metadata": {},
     "output_type": "execute_result"
    }
   ],
   "source": [
    "joined_df.shape"
   ]
  },
  {
   "cell_type": "code",
   "execution_count": 174,
   "metadata": {},
   "outputs": [
    {
     "name": "stdout",
     "output_type": "stream",
     "text": [
      "date\n",
      "league\n",
      "turn\n",
      "team_1\n",
      "team_2\n",
      "winner\n",
      "bet_1\n",
      "bet_x\n",
      "bet_2\n"
     ]
    }
   ],
   "source": [
    "for col in joined_df.columns:\n",
    "    if not (col.endswith('_team_1') or col.endswith('_team_2')):\n",
    "        print(col)\n"
   ]
  },
  {
   "cell_type": "code",
   "execution_count": 175,
   "metadata": {},
   "outputs": [],
   "source": [
    "joined_df = joined_df.sort_values(['league', 'date']).reset_index(drop=True)\n",
    "stat_cols = [col for col in joined_df.columns if col.endswith('_team_1') or col.endswith('_team_2')]\n",
    "base_stat_names = set(col.replace('_team_1', '').replace('_team_2', '') for col in stat_cols)\n",
    "\n",
    "def find_last_match(df, team, current_date, current_index):\n",
    "    mask = ((df['team_1'] == team) | (df['team_2'] == team)) & (df['date'] < current_date)\n",
    "    return df.loc[mask].iloc[-1] if not df.loc[mask].empty else None\n",
    "\n",
    "rows = []\n",
    "\n",
    "for idx, row in joined_df.iterrows():\n",
    "    league = row['league']\n",
    "    date = row['date']\n",
    "    team_1 = row['team_1']\n",
    "    team_2 = row['team_2']\n",
    "    \n",
    "    # data from current row\n",
    "    new_row = {\n",
    "        'league': league,\n",
    "        'team_1': team_1,\n",
    "        'team_2': team_2,\n",
    "        'bet_1': row['bet_1'],\n",
    "        'bet_x': row['bet_x'],\n",
    "        'bet_2': row['bet_2'],\n",
    "        'goals_team_1': row['goals_team_1'],\n",
    "        'goals_team_2': row['goals_team_2']\n",
    "    }\n",
    "\n",
    "    # team_1 previous match data\n",
    "    last_1 = find_last_match(joined_df, team_1, date, idx)\n",
    "    if last_1 is not None:\n",
    "        team_as_1 = last_1['team_1'] == team_1\n",
    "        for stat in base_stat_names:\n",
    "            stat_col = f'{stat}_team_1' if team_as_1 else f'{stat}_team_2'\n",
    "            opp_col = f'{stat}_team_2' if team_as_1 else f'{stat}_team_1'\n",
    "            new_row[f'1_{stat}'] = last_1.get(stat_col, None)\n",
    "            new_row[f'3_{stat}'] = last_1.get(opp_col, None)\n",
    "\n",
    "    # team_2 previous match data\n",
    "    last_2 = find_last_match(joined_df, team_2, date, idx)\n",
    "    if last_2 is not None:\n",
    "        team_as_1 = last_2['team_1'] == team_2\n",
    "        for stat in base_stat_names:\n",
    "            stat_col = f'{stat}_team_1' if team_as_1 else f'{stat}_team_2'\n",
    "            opp_col = f'{stat}_team_2' if team_as_1 else f'{stat}_team_1'\n",
    "            new_row[f'2_{stat}'] = last_2.get(stat_col, None)\n",
    "            new_row[f'4_{stat}'] = last_2.get(opp_col, None)\n",
    "    \n",
    "    rows.append(new_row)\n",
    "\n",
    "model_df = pd.DataFrame(rows)"
   ]
  },
  {
   "cell_type": "markdown",
   "metadata": {},
   "source": [
    "Save and small overwiev of data"
   ]
  },
  {
   "cell_type": "code",
   "execution_count": 176,
   "metadata": {},
   "outputs": [],
   "source": [
    "model_df.to_csv('model_data.csv', index=False)"
   ]
  },
  {
   "cell_type": "code",
   "execution_count": 23,
   "metadata": {},
   "outputs": [],
   "source": [
    "model_df = pd.read_csv('model_data.csv')"
   ]
  },
  {
   "cell_type": "code",
   "execution_count": 179,
   "metadata": {},
   "outputs": [
    {
     "data": {
      "text/plain": [
       "(14324, 188)"
      ]
     },
     "execution_count": 179,
     "metadata": {},
     "output_type": "execute_result"
    }
   ],
   "source": [
    "model_df.shape"
   ]
  },
  {
   "cell_type": "code",
   "execution_count": 178,
   "metadata": {},
   "outputs": [
    {
     "name": "stdout",
     "output_type": "stream",
     "text": [
      "Index(['league', 'team_1', 'team_2', '1_formation', '3_formation',\n",
      "       '2_formation', '4_formation'],\n",
      "      dtype='object')\n"
     ]
    }
   ],
   "source": [
    "non_numeric_cols = model_df.select_dtypes(exclude=['number']).columns\n",
    "print(non_numeric_cols)"
   ]
  },
  {
   "cell_type": "code",
   "execution_count": 141,
   "metadata": {},
   "outputs": [
    {
     "name": "stdout",
     "output_type": "stream",
     "text": [
      "32\n",
      "28\n",
      "31\n",
      "30\n",
      "279\n",
      "279\n",
      "13\n"
     ]
    }
   ],
   "source": [
    "print(model_df['1_formation'].nunique())\n",
    "print(model_df['2_formation'].nunique())\n",
    "print(model_df['3_formation'].nunique())\n",
    "print(model_df['4_formation'].nunique())\n",
    "print(model_df['team_1'].nunique())\n",
    "print(model_df['team_2'].nunique())\n",
    "print(model_df['league'].nunique())"
   ]
  },
  {
   "cell_type": "markdown",
   "metadata": {},
   "source": [
    "Currently, there are nearly 200 columns for approximately 10,000 training rows. Applying One-Hot Encoding to formations would be inefficient—adding around 120 columns for a single feature is overly complex. A better approach is to group formations into offensive, defensive, and balanced categories, resulting in just 12 columns.\n",
    "\n",
    "Regarding team names: although each team plays differently and the name alone carries valuable information, adding nearly 600 columns would significantly impact performance. Therefore, we will only encode leagues."
   ]
  },
  {
   "cell_type": "markdown",
   "metadata": {},
   "source": [
    "### Feature Selection"
   ]
  },
  {
   "cell_type": "markdown",
   "metadata": {},
   "source": [
    "This subsection is intended for evaluating which input columns (features) are most relevant and beneficial for the machine learning models used in this project. In an ideal scenario, a smaller subset of input data can be used to quickly test and compare model performance—both for classification and regression tasks. This allows identification and removal of noisy or redundant features that may negatively impact performance or increase training time.\n",
    "\n",
    "Initial experiments using the same input dataset have shown that the regression-based Random Forest model takes significantly longer to train but achieves noticeably better accuracy—up to 10% higher than classification. This is largely because goal prediction enables more nuanced filtering of match outcomes than win-draw-lose predicition, allowing us to selectively evaluate matches based on prediction confidence.\n",
    "\n",
    "This section will serve as a place to document feature evaluation experiments and observations, which will then guide the final feature set used in full-scale training."
   ]
  },
  {
   "cell_type": "markdown",
   "metadata": {},
   "source": [
    "**Note:** Due to current time constraints and the high effort required for this analysis—alongside some planned improvements to the Feature Engineering section—this subsection remains empty for now. However, it is scheduled for further development and extension."
   ]
  },
  {
   "cell_type": "markdown",
   "metadata": {},
   "source": [
    "## Models"
   ]
  },
  {
   "cell_type": "markdown",
   "metadata": {},
   "source": [
    "Loading model:"
   ]
  },
  {
   "cell_type": "code",
   "execution_count": 203,
   "metadata": {},
   "outputs": [],
   "source": [
    "import joblib\n",
    "model = joblib.load('../models/RF_regressor.pkl')"
   ]
  },
  {
   "cell_type": "markdown",
   "metadata": {},
   "source": [
    "### Exact goals - Only using bet values - rf"
   ]
  },
  {
   "cell_type": "markdown",
   "metadata": {},
   "source": [
    "This example of model construction—where the only input features are betting odds—serves as a useful point of reference. Betting odds are directly tied to the implied probability of a match outcome (win/loss/draw). Using only odds as model input can be seen as an approximation or indirect validation of the predictions made by bookmakers' analytical teams.\n",
    "\n",
    "Of course, the goal of bookmakers is not to build the most accurate predictive model for match outcomes, but rather to construct the most profitable model for betting markets. This difference in objective—predicting win/draw/loss probabilities versus identifying actual outcomes—means that their results cannot be directly translated into model performance in a classic machine learning context."
   ]
  },
  {
   "cell_type": "code",
   "execution_count": 217,
   "metadata": {},
   "outputs": [],
   "source": [
    "model_df = pd.read_csv('model_data.csv')\n",
    "model_df.drop(['1_formation', '2_formation', '3_formation', '4_formation', 'team_1', 'team_2'], axis=1, inplace=True)\n",
    "\n",
    "train_dfs = []\n",
    "test_dfs = []\n",
    "\n",
    "for league in model_df['league'].unique():\n",
    "    league_df = model_df[model_df['league'] == league]\n",
    "    \n",
    "    X_league = league_df.drop(columns=['goals_team_1', 'goals_team_2'])\n",
    "    y_league = league_df[['goals_team_1', 'goals_team_2']]\n",
    "    \n",
    "    X_train, X_test, y_train, y_test = train_test_split(\n",
    "        X_league, y_league, test_size=0.3, random_state=42\n",
    "    )\n",
    "    \n",
    "    train_dfs.append((X_train, y_train))\n",
    "    test_dfs.append((X_test, y_test))\n",
    "\n",
    "X_train = pd.concat([x for x, _ in train_dfs]).reset_index(drop=True)\n",
    "y_train = pd.concat([y for _, y in train_dfs]).reset_index(drop=True)\n",
    "\n",
    "X_test = pd.concat([x for x, _ in test_dfs]).reset_index(drop=True)\n",
    "y_test = pd.concat([y for _, y in test_dfs]).reset_index(drop=True)\n"
   ]
  },
  {
   "cell_type": "code",
   "execution_count": 218,
   "metadata": {},
   "outputs": [],
   "source": [
    "numerical_features = ['bet_1', 'bet_2', 'bet_x']\n",
    "categorical_features = []\n",
    "\n",
    "numerical_transformer = Pipeline(steps=[\n",
    "    ('scaler', StandardScaler())\n",
    "])\n",
    "\n",
    "categorical_transformer = Pipeline(steps=[\n",
    "    ('onehot', OneHotEncoder(handle_unknown='ignore'))\n",
    "])\n",
    "\n",
    "preprocessor = ColumnTransformer(transformers=[\n",
    "    ('num', numerical_transformer, numerical_features),\n",
    "    ('cat', categorical_transformer, categorical_features)\n",
    "])\n",
    "model = Pipeline(steps=[\n",
    "    ('preprocessor', preprocessor),\n",
    "    ('regressor', MultiOutputRegressor(RandomForestRegressor(random_state=42)))\n",
    "])\n",
    "\n",
    "model.fit(X_train, y_train)\n",
    "y_pred = model.predict(X_test)\n"
   ]
  },
  {
   "cell_type": "code",
   "execution_count": 219,
   "metadata": {},
   "outputs": [],
   "source": [
    "def evaluate_predictions(y_true, y_pred, threshold=0.7):\n",
    "    correct = 0\n",
    "    total = 0\n",
    "    \n",
    "    for (true_1, true_2), (pred_1, pred_2) in zip(y_true, y_pred):\n",
    "        if true_1 > true_2:\n",
    "            true_winner = 'team_1'\n",
    "        elif true_2 > true_1:\n",
    "            true_winner = 'team_2'\n",
    "        else:\n",
    "            true_winner = 'draw'\n",
    "        \n",
    "        goal_diff = abs(pred_1 - pred_2)\n",
    "        if goal_diff < threshold:\n",
    "            continue\n",
    "        else:\n",
    "            pred_winner = 'team_1' if pred_1 > pred_2 else 'team_2'\n",
    "            total += 1\n",
    "        \n",
    "        if pred_winner == true_winner:\n",
    "            correct += 1\n",
    "\n",
    "    if total == 0:\n",
    "        return [0, total]\n",
    "    accuracy = correct / total\n",
    "    return [accuracy, total]\n"
   ]
  },
  {
   "cell_type": "code",
   "execution_count": 220,
   "metadata": {},
   "outputs": [
    {
     "name": "stdout",
     "output_type": "stream",
     "text": [
      "all matches:  4302\n",
      "Threshold=0.00 → Accuracy: 49.51% Total: 4302\n",
      "Threshold=0.10 → Accuracy: 50.22% Total: 4008\n",
      "Threshold=0.20 → Accuracy: 51.35% Total: 3696\n",
      "Threshold=0.30 → Accuracy: 52.39% Total: 3430\n",
      "Threshold=0.40 → Accuracy: 53.64% Total: 3128\n",
      "Threshold=0.50 → Accuracy: 55.34% Total: 2857\n",
      "Threshold=0.60 → Accuracy: 56.64% Total: 2569\n"
     ]
    }
   ],
   "source": [
    "print('all matches: ', y_pred.shape[0])\n",
    "for t in [0.0, 0.1, 0.2, 0.3, 0.4, 0.5, 0.6]:\n",
    "    score, total = evaluate_predictions(y_test.values, y_pred, threshold=t)\n",
    "    print(f'Threshold={t:.2f} → Accuracy: {score:.2%} Total: {total}')\n"
   ]
  },
  {
   "cell_type": "markdown",
   "metadata": {},
   "source": [
    "### Exact goals - All data - rf"
   ]
  },
  {
   "cell_type": "markdown",
   "metadata": {},
   "source": [
    "In this step, we include all available features as model input (excluding the columns dropped in the second cell via `model_df.drop`). These excluded columns would drastically increase the number of resulting features—leading to significantly longer training times and potentially lower accuracy. Ideally, this kind of feature filtering should be handled during the feature selection stage, but due to the constraints described in that subsection, this full-input setup is used for now.\n",
    "\n",
    "Using this approach, we achieved **61.77%** accuracy over 2,435 bets, which closely compares to the **56.64%** accuracy of the reference model on 2,569 bets. This means that by applying a brute-force strategy without any advanced feature selection—we were able to improve accuracy by approximately **4–5%**."
   ]
  },
  {
   "cell_type": "code",
   "execution_count": 214,
   "metadata": {},
   "outputs": [],
   "source": [
    "model_df = pd.read_csv('model_data.csv')\n",
    "\n",
    "model_df.drop(['1_formation', '2_formation', '3_formation', '4_formation', 'team_1', 'team_2'], axis=1, inplace=True)"
   ]
  },
  {
   "cell_type": "code",
   "execution_count": 215,
   "metadata": {},
   "outputs": [],
   "source": [
    "train_dfs = []\n",
    "test_dfs = []\n",
    "\n",
    "for league in model_df['league'].unique():\n",
    "    league_df = model_df[model_df['league'] == league]\n",
    "    \n",
    "    X_league = league_df.drop(columns=['goals_team_1', 'goals_team_2'])\n",
    "    y_league = league_df[['goals_team_1', 'goals_team_2']]\n",
    "    \n",
    "    X_train, X_test, y_train, y_test = train_test_split(\n",
    "        X_league, y_league, test_size=0.3, random_state=42\n",
    "    )\n",
    "    \n",
    "    train_dfs.append((X_train, y_train))\n",
    "    test_dfs.append((X_test, y_test))\n",
    "\n",
    "X_train = pd.concat([x for x, _ in train_dfs]).reset_index(drop=True)\n",
    "y_train = pd.concat([y for _, y in train_dfs]).reset_index(drop=True)\n",
    "\n",
    "X_test = pd.concat([x for x, _ in test_dfs]).reset_index(drop=True)\n",
    "y_test = pd.concat([y for _, y in test_dfs]).reset_index(drop=True)\n"
   ]
  },
  {
   "cell_type": "code",
   "execution_count": null,
   "metadata": {},
   "outputs": [],
   "source": [
    "numerical_features = X_train.select_dtypes(include=['int64', 'float64']).columns.tolist()\n",
    "categorical_features = ['league']\n",
    "\n",
    "numerical_transformer = Pipeline(steps=[\n",
    "    ('scaler', StandardScaler())\n",
    "])\n",
    "\n",
    "categorical_transformer = Pipeline(steps=[\n",
    "    ('onehot', OneHotEncoder(handle_unknown='ignore'))\n",
    "])\n",
    "\n",
    "preprocessor = ColumnTransformer(transformers=[\n",
    "    ('num', numerical_transformer, numerical_features),\n",
    "    ('cat', categorical_transformer, categorical_features)\n",
    "])\n",
    "model = Pipeline(steps=[\n",
    "    ('preprocessor', preprocessor),\n",
    "    ('regressor', MultiOutputRegressor(RandomForestRegressor(random_state=42)))\n",
    "])\n",
    "\n",
    "model.fit(X_train, y_train)\n",
    "y_pred = model.predict(X_test)"
   ]
  },
  {
   "cell_type": "code",
   "execution_count": null,
   "metadata": {},
   "outputs": [],
   "source": [
    "def evaluate_predictions(y_true, y_pred, threshold=0.7):\n",
    "    correct = 0\n",
    "    total = 0\n",
    "    \n",
    "    for (true_1, true_2), (pred_1, pred_2) in zip(y_true, y_pred):\n",
    "        if true_1 > true_2:\n",
    "            true_winner = 'team_1'\n",
    "        elif true_2 > true_1:\n",
    "            true_winner = 'team_2'\n",
    "        else:\n",
    "            true_winner = 'draw'\n",
    "        \n",
    "        goal_diff = abs(pred_1 - pred_2)\n",
    "        if goal_diff < threshold:\n",
    "            continue\n",
    "        else:\n",
    "            pred_winner = 'team_1' if pred_1 > pred_2 else 'team_2'\n",
    "            total += 1\n",
    "        \n",
    "        if pred_winner == true_winner:\n",
    "            correct += 1\n",
    "\n",
    "    if total == 0:\n",
    "        return [0, total]\n",
    "    accuracy = correct / total\n",
    "    return [accuracy, total]\n"
   ]
  },
  {
   "cell_type": "code",
   "execution_count": null,
   "metadata": {},
   "outputs": [
    {
     "name": "stdout",
     "output_type": "stream",
     "text": [
      "all matches:  4302\n",
      "Threshold=0.00 → Accuracy: 53.14% Total: 4302\n",
      "Threshold=0.10 → Accuracy: 54.33% Total: 3882\n",
      "Threshold=0.20 → Accuracy: 55.95% Total: 3469\n",
      "Threshold=0.30 → Accuracy: 57.60% Total: 3094\n",
      "Threshold=0.40 → Accuracy: 60.10% Total: 2677\n",
      "Threshold=0.50 → Accuracy: 62.02% Total: 2362\n",
      "Threshold=0.60 → Accuracy: 63.29% Total: 2100\n"
     ]
    }
   ],
   "source": [
    "print('all matches: ', y_pred.shape[0])\n",
    "for t in [0.0, 0.1, 0.2, 0.3, 0.4, 0.5, 0.6]:\n",
    "    score, total = evaluate_predictions(y_test.values, y_pred, threshold=t)\n",
    "    print(f'Threshold={t:.2f} → Accuracy: {score:.2%} Total: {total}')\n"
   ]
  },
  {
   "cell_type": "markdown",
   "metadata": {},
   "source": [
    "### Exact goals - all data - XGBoost"
   ]
  },
  {
   "cell_type": "code",
   "execution_count": 288,
   "metadata": {},
   "outputs": [],
   "source": [
    "model_df = pd.read_csv('model_data.csv')\n",
    "\n",
    "def get_winner(row):\n",
    "    if row['goals_team_1'] > row['goals_team_2']:\n",
    "        return 'team_1'\n",
    "    elif row['goals_team_1'] < row['goals_team_2']:\n",
    "        return 'team_2'\n",
    "    else:\n",
    "        return 'team_0'\n",
    "\n",
    "model_df['winner'] = model_df.apply(get_winner, axis=1)\n",
    "label_map = {'team_0': 0, 'team_1': 1, 'team_2': 2}\n",
    "model_df['winner'] = model_df['winner'].map(label_map)\n",
    "\n",
    "model_df.drop(['1_formation', '2_formation', '3_formation', '4_formation', 'team_1', 'team_2', 'goals_team_1', 'goals_team_2'], axis=1, inplace=True)\n",
    "\n",
    "train_dfs = []\n",
    "test_dfs = []\n",
    "\n",
    "for league in model_df['league'].unique():\n",
    "    league_df = model_df[model_df['league'] == league]\n",
    "    \n",
    "    X_league = league_df.drop(columns=['winner'])\n",
    "    y_league = league_df[['winner']]\n",
    "    \n",
    "    X_train, X_test, y_train, y_test = train_test_split(\n",
    "        X_league, y_league, test_size=0.3, random_state=42\n",
    "    )\n",
    "    \n",
    "    train_dfs.append((X_train, y_train))\n",
    "    test_dfs.append((X_test, y_test))\n",
    "\n",
    "X_train = pd.concat([x for x, _ in train_dfs]).reset_index(drop=True)\n",
    "y_train = pd.concat([y for _, y in train_dfs]).reset_index(drop=True)\n",
    "\n",
    "X_test = pd.concat([x for x, _ in test_dfs]).reset_index(drop=True)\n",
    "y_test = pd.concat([y for _, y in test_dfs]).reset_index(drop=True)\n"
   ]
  },
  {
   "cell_type": "code",
   "execution_count": null,
   "metadata": {},
   "outputs": [
    {
     "name": "stdout",
     "output_type": "stream",
     "text": [
      "Fitting 5 folds for each of 18 candidates, totalling 90 fits\n"
     ]
    },
    {
     "name": "stderr",
     "output_type": "stream",
     "text": [
      "c:\\Users\\Prezes\\AppData\\Local\\Programs\\Python\\Python310\\lib\\site-packages\\xgboost\\core.py:158: UserWarning: [19:06:23] WARNING: C:\\buildkite-agent\\builds\\buildkite-windows-cpu-autoscaling-group-i-0c55ff5f71b100e98-1\\xgboost\\xgboost-ci-windows\\src\\learner.cc:740: \n",
      "Parameters: { \"use_label_encoder\" } are not used.\n",
      "\n",
      "  warnings.warn(smsg, UserWarning)\n"
     ]
    },
    {
     "name": "stdout",
     "output_type": "stream",
     "text": [
      "Best parameters: {'xgb__colsample_bytree': 0.8, 'xgb__learning_rate': 0.05, 'xgb__max_depth': 2, 'xgb__n_estimators': 50, 'xgb__subsample': 0.9}\n",
      "\n",
      "Final test accuracy: 53.74%\n"
     ]
    },
    {
     "data": {
      "image/png": "[encoded data removed]",
      "text/plain": [
       "<Figure size 1000x600 with 1 Axes>"
      ]
     },
     "metadata": {},
     "output_type": "display_data"
    }
   ],
   "source": [
    "numerical_features = X_train.select_dtypes(include=['int64', 'float64']).columns.tolist()\n",
    "categorical_features = ['league']\n",
    "\n",
    "preprocessor = ColumnTransformer(transformers=[\n",
    "    ('num', StandardScaler(), numerical_features),\n",
    "    ('cat', OneHotEncoder(handle_unknown='ignore'), categorical_features)\n",
    "])\n",
    "\n",
    "pipeline = Pipeline([\n",
    "    ('preprocessor', preprocessor),\n",
    "    ('xgb', XGBClassifier(\n",
    "        objective='multi:softprob',\n",
    "        eval_metric='mlogloss',\n",
    "        num_class=3,\n",
    "        use_label_encoder=False,\n",
    "        random_state=42\n",
    "    ))\n",
    "])\n",
    "\n",
    "param_grid = {\n",
    "    'xgb__n_estimators': [50],\n",
    "    'xgb__learning_rate': [0.01, 0.05, 0.1],\n",
    "    'xgb__max_depth': [2, 3, 5],\n",
    "    'xgb__subsample': [0.8, 0.9],\n",
    "    'xgb__colsample_bytree': [0.8]\n",
    "}\n",
    "\n",
    "grid_search = GridSearchCV(\n",
    "    pipeline,\n",
    "    param_grid=param_grid,\n",
    "    cv=StratifiedKFold(n_splits=5, shuffle=True, random_state=42),\n",
    "    scoring='accuracy',\n",
    "    verbose=1,\n",
    "    n_jobs=-1\n",
    ")\n",
    "grid_search.fit(X_train, y_train.values.ravel())\n",
    "\n",
    "print(f\"Best parameters: {grid_search.best_params_}\")\n",
    "\n",
    "best_pipeline = grid_search.best_estimator_\n",
    "\n",
    "final_preds = best_pipeline.predict(X_test)\n",
    "final_acc = accuracy_score(y_test, final_preds)\n",
    "print(f\"\\nFinal test accuracy: {final_acc:.2%}\")\n",
    "\n",
    "best_params = grid_search.best_params_\n",
    "\n",
    "model = XGBClassifier(\n",
    "    objective='multi:softprob',\n",
    "    eval_metric='mlogloss',\n",
    "    num_class=3,\n",
    "    use_label_encoder=False,\n",
    "    random_state=42,\n",
    "    n_estimators=best_params['xgb__n_estimators'],\n",
    "    learning_rate=best_params['xgb__learning_rate'],\n",
    "    max_depth=best_params['xgb__max_depth'],\n",
    "    subsample=best_params['xgb__subsample'],\n",
    "    colsample_bytree=best_params['xgb__colsample_bytree'],\n",
    "    early_stopping_rounds=10,\n",
    "    verbosity=0\n",
    ")\n",
    "\n",
    "X_train_transformed = preprocessor.fit_transform(X_train)\n",
    "X_test_transformed = preprocessor.transform(X_test)\n",
    "\n",
    "eval_set = [(X_train_transformed, y_train), (X_test_transformed, y_test)]\n",
    "\n",
    "model.fit(\n",
    "    X_train_transformed, y_train,\n",
    "    eval_set=eval_set,\n",
    "    verbose=False\n",
    ")\n",
    "\n",
    "results = model.evals_result()\n",
    "epochs = len(results['validation_0']['mlogloss'])\n",
    "x_axis = range(epochs)\n",
    "\n",
    "train_accuracies = []\n",
    "test_accuracies = []\n",
    "\n",
    "for i in x_axis:\n",
    "    train_preds_proba = model.predict_proba(X_train_transformed, iteration_range=(0, i + 1))\n",
    "    train_preds = np.argmax(train_preds_proba, axis=1)\n",
    "    train_acc = accuracy_score(y_train, train_preds)\n",
    "    train_accuracies.append(train_acc)\n",
    "    \n",
    "    test_preds_proba = model.predict_proba(X_test_transformed, iteration_range=(0, i + 1))\n",
    "    test_preds = np.argmax(test_preds_proba, axis=1)\n",
    "    test_acc = accuracy_score(y_test, test_preds)\n",
    "    test_accuracies.append(test_acc)\n",
    "\n",
    "plt.figure(figsize=(10, 6))\n",
    "plt.plot(x_axis, train_accuracies, label='Train Accuracy', linestyle='--')\n",
    "plt.plot(x_axis, test_accuracies, label='Test Accuracy', linestyle='-')\n",
    "plt.xlabel('Boosting Rounds (Epochs)')\n",
    "plt.ylabel('Accuracy')\n",
    "plt.title('XGBoost Classifier Accuracy: Train vs Test')\n",
    "plt.grid(True)\n",
    "plt.legend()\n",
    "plt.tight_layout()\n",
    "plt.show()"
   ]
  },
  {
   "cell_type": "markdown",
   "metadata": {},
   "source": [
    "### Win - Draw - Lose - All data - rf"
   ]
  },
  {
   "cell_type": "code",
   "execution_count": null,
   "metadata": {},
   "outputs": [],
   "source": [
    "model_df = pd.read_csv('model_data.csv')\n",
    "\n",
    "def get_winner(row):\n",
    "    if row['goals_team_1'] > row['goals_team_2']:\n",
    "        return 'team_1'\n",
    "    elif row['goals_team_1'] < row['goals_team_2']:\n",
    "        return 'team_2'\n",
    "    else:\n",
    "        return 'team_0'\n",
    "\n",
    "model_df['winner'] = model_df.apply(get_winner, axis=1)\n",
    "\n",
    "model_df.drop(['1_formation', '2_formation', '3_formation', '4_formation', 'team_1', 'team_2', 'goals_team_1', 'goals_team_2'], axis=1, inplace=True)"
   ]
  },
  {
   "cell_type": "code",
   "execution_count": 242,
   "metadata": {},
   "outputs": [],
   "source": [
    "train_dfs = []\n",
    "test_dfs = []\n",
    "\n",
    "for league in model_df['league'].unique():\n",
    "    league_df = model_df[model_df['league'] == league]\n",
    "    \n",
    "    X_league = league_df.drop(columns=['winner'])\n",
    "    y_league = league_df[['winner']]\n",
    "    \n",
    "    X_train, X_test, y_train, y_test = train_test_split(\n",
    "        X_league, y_league, test_size=0.3, random_state=42\n",
    "    )\n",
    "    \n",
    "    train_dfs.append((X_train, y_train))\n",
    "    test_dfs.append((X_test, y_test))\n",
    "\n",
    "X_train = pd.concat([x for x, _ in train_dfs]).reset_index(drop=True)\n",
    "y_train = pd.concat([y for _, y in train_dfs]).reset_index(drop=True)\n",
    "\n",
    "X_test = pd.concat([x for x, _ in test_dfs]).reset_index(drop=True)\n",
    "y_test = pd.concat([y for _, y in test_dfs]).reset_index(drop=True)\n"
   ]
  },
  {
   "cell_type": "code",
   "execution_count": null,
   "metadata": {},
   "outputs": [
    {
     "name": "stdout",
     "output_type": "stream",
     "text": [
      "\n",
      "🏆 Najlepsze konfiguracje:\n",
      "Accuracy: 53.26% | Tested: 4290 | Params: {'max_depth': 10, 'min_samples_split': 2, 'n_estimators': 200}\n",
      "Accuracy: 53.22% | Tested: 4280 | Params: {'max_depth': 10, 'min_samples_split': 2, 'n_estimators': 100}\n",
      "Accuracy: 53.14% | Tested: 4204 | Params: {'max_depth': 20, 'min_samples_split': 5, 'n_estimators': 200}\n",
      "Accuracy: 53.05% | Tested: 4096 | Params: {'max_depth': None, 'min_samples_split': 2, 'n_estimators': 100}\n",
      "Accuracy: 52.93% | Tested: 4198 | Params: {'max_depth': 20, 'min_samples_split': 2, 'n_estimators': 200}\n"
     ]
    }
   ],
   "source": [
    "def evaluate_predictions(y_true, y_pred, skip_draw_predictions=True):\n",
    "    correct = 0\n",
    "    total = 0\n",
    "\n",
    "    for true_label, pred_label in zip(y_true, y_pred):\n",
    "        if skip_draw_predictions and pred_label == 'team_0':\n",
    "            continue # draw perdition\n",
    "\n",
    "        total += 1\n",
    "        if true_label == pred_label:\n",
    "            correct += 1\n",
    "\n",
    "    if total == 0:\n",
    "        return [0, total]\n",
    "    \n",
    "    accuracy = correct / total\n",
    "    return [accuracy, total]\n",
    "\n",
    "param_grid = {\n",
    "    'n_estimators': [100, 200],\n",
    "    'max_depth': [None, 10, 20],\n",
    "    'min_samples_split': [2, 5],\n",
    "}\n",
    "grid = list(ParameterGrid(param_grid))\n",
    "results = []\n",
    "\n",
    "\n",
    "numerical_features = X_train.select_dtypes(include=['int64', 'float64']).columns.tolist()\n",
    "categorical_features = ['league']\n",
    "\n",
    "numerical_transformer = Pipeline(steps=[\n",
    "    ('scaler', StandardScaler())\n",
    "])\n",
    "\n",
    "categorical_transformer = Pipeline(steps=[\n",
    "    ('onehot', OneHotEncoder(handle_unknown='ignore'))\n",
    "])\n",
    "\n",
    "preprocessor = ColumnTransformer(transformers=[\n",
    "    ('num', numerical_transformer, numerical_features),\n",
    "    ('cat', categorical_transformer, categorical_features)\n",
    "])\n",
    "\n",
    "\n",
    "for params in grid:\n",
    "    clf = RandomForestClassifier(random_state=42, **params)\n",
    "\n",
    "    model = Pipeline(steps=[\n",
    "        ('preprocessor', preprocessor),\n",
    "        ('classifier', clf)\n",
    "    ])\n",
    "    \n",
    "    model.fit(X_train, y_train.values.ravel())\n",
    "    y_pred = model.predict(X_test)\n",
    "\n",
    "    acc, total = evaluate_predictions(y_test.values.ravel(), y_pred, skip_draw_predictions=True)\n",
    "    \n",
    "    results.append({\n",
    "        'params': params,\n",
    "        'accuracy': acc,\n",
    "        'evaluated': total\n",
    "    })\n",
    "\n",
    "results = sorted(results, key=lambda x: x['accuracy'], reverse=True)\n",
    "\n",
    "print(\"\\nBest configuration:\")\n",
    "for r in results[:5]:\n",
    "    print(f\"Accuracy: {r['accuracy']:.2%} | Tested: {r['evaluated']} | Params: {r['params']}\")\n",
    "    "
   ]
  },
  {
   "cell_type": "markdown",
   "metadata": {},
   "source": [
    "### Save model"
   ]
  },
  {
   "cell_type": "code",
   "execution_count": null,
   "metadata": {},
   "outputs": [
    {
     "data": {
      "text/plain": [
       "['../models/XGB_classifier.pkl']"
      ]
     },
     "execution_count": 308,
     "metadata": {},
     "output_type": "execute_result"
    }
   ],
   "source": [
    "joblib.dump(model, '../models/RF_classifier.pkl')"
   ]
  },
  {
   "cell_type": "markdown",
   "metadata": {},
   "source": [
    "## Evaluation"
   ]
  },
  {
   "cell_type": "markdown",
   "metadata": {},
   "source": [
    "### Model evaluation - regression models"
   ]
  },
  {
   "cell_type": "code",
   "execution_count": null,
   "metadata": {},
   "outputs": [],
   "source": [
    "model_df = pd.read_csv('model_data.csv')\n",
    "\n",
    "model_df.drop(['1_formation', '2_formation', '3_formation', '4_formation', 'team_1', 'team_2'], axis=1, inplace=True)"
   ]
  },
  {
   "cell_type": "code",
   "execution_count": null,
   "metadata": {},
   "outputs": [],
   "source": [
    "train_dfs = []\n",
    "test_dfs = []\n",
    "\n",
    "for league in model_df['league'].unique():\n",
    "    league_df = model_df[model_df['league'] == league]\n",
    "    \n",
    "    X_league = league_df.drop(columns=['goals_team_1', 'goals_team_2'])\n",
    "    y_league = league_df[['goals_team_1', 'goals_team_2']]\n",
    "    \n",
    "    X_train, X_test, y_train, y_test = train_test_split(\n",
    "        X_league, y_league, test_size=0.3, random_state=42\n",
    "    )\n",
    "    \n",
    "    train_dfs.append((X_train, y_train))\n",
    "    test_dfs.append((X_test, y_test))\n",
    "\n",
    "X_train = pd.concat([x for x, _ in train_dfs]).reset_index(drop=True)\n",
    "y_train = pd.concat([y for _, y in train_dfs]).reset_index(drop=True)\n",
    "\n",
    "X_test = pd.concat([x for x, _ in test_dfs]).reset_index(drop=True)\n",
    "y_test = pd.concat([y for _, y in test_dfs]).reset_index(drop=True)\n",
    "\n",
    "y_pred = model.predict(X_test)"
   ]
  },
  {
   "cell_type": "code",
   "execution_count": null,
   "metadata": {},
   "outputs": [
    {
     "name": "stdout",
     "output_type": "stream",
     "text": [
      "MAE: 0.989, RMSE: 1.269, R2: -0.040\n"
     ]
    }
   ],
   "source": [
    "mae = mean_absolute_error(y_test, y_pred)\n",
    "mse = mean_squared_error(y_test, y_pred)\n",
    "rmse = np.sqrt(mse)\n",
    "r2 = r2_score(y_test, y_pred)\n",
    "\n",
    "print(f\"MAE: {mae:.3f}, RMSE: {rmse:.3f}, R2: {r2:.3f}\")"
   ]
  },
  {
   "cell_type": "code",
   "execution_count": null,
   "metadata": {},
   "outputs": [
    {
     "name": "stdout",
     "output_type": "stream",
     "text": [
      "              precision    recall  f1-score   support\n",
      "\n",
      "      team_0       0.29      0.30      0.30      1142\n",
      "      team_1       0.56      0.61      0.58      1795\n",
      "      team_2       0.50      0.43      0.46      1365\n",
      "\n",
      "    accuracy                           0.47      4302\n",
      "   macro avg       0.45      0.45      0.45      4302\n",
      "weighted avg       0.47      0.47      0.47      4302\n",
      "\n"
     ]
    }
   ],
   "source": [
    "# Przekształcanie wyników do klas:\n",
    "def goal_preds_to_label(g1, g2, threshold = 0):\n",
    "    if g1 > g2 + threshold:\n",
    "        return 'team_1'\n",
    "    elif g1 + threshold < g2:\n",
    "        return 'team_2'\n",
    "    else:\n",
    "        return 'team_0'\n",
    "\n",
    "y_true_labels = [goal_preds_to_label(a, b, 0.4) for a, b in y_test.values]\n",
    "y_pred_labels = [goal_preds_to_label(a, b, 0.4) for a, b in y_pred]\n",
    "\n",
    "print(classification_report(y_true_labels, y_pred_labels))"
   ]
  },
  {
   "cell_type": "code",
   "execution_count": null,
   "metadata": {},
   "outputs": [
    {
     "name": "stdout",
     "output_type": "stream",
     "text": [
      "✅ Best threshold: 1.0\n",
      "🎯 Accuracy: 56.30%\n",
      "\n",
      "📊 Classification report:\n",
      "\n",
      "              precision    recall  f1-score   support\n",
      "\n",
      "      team_0       0.68      0.66      0.67      2714\n",
      "      team_1       0.39      0.45      0.42       974\n",
      "      team_2       0.35      0.32      0.33       614\n",
      "\n",
      "    accuracy                           0.56      4302\n",
      "   macro avg       0.47      0.48      0.47      4302\n",
      "weighted avg       0.57      0.56      0.56      4302\n",
      "\n"
     ]
    }
   ],
   "source": [
    "def goal_preds_to_label(g1, g2, threshold=0):\n",
    "    if g1 > g2 + threshold:\n",
    "        return 'team_1'\n",
    "    elif g1 + threshold < g2:\n",
    "        return 'team_2'\n",
    "    else:\n",
    "        return 'team_0'\n",
    "\n",
    "best_threshold = None\n",
    "best_accuracy = 0\n",
    "best_y_true = None\n",
    "best_y_pred = None\n",
    "\n",
    "threshold_values = [round(x, 2) for x in np.arange(0.0, 1.05, 0.05)]\n",
    "\n",
    "for threshold in threshold_values:\n",
    "    y_true_labels = [goal_preds_to_label(a, b, threshold) for a, b in y_test.values]\n",
    "    y_pred_labels = [goal_preds_to_label(a, b, threshold) for a, b in y_pred]\n",
    "\n",
    "    acc = accuracy_score(y_true_labels, y_pred_labels)\n",
    "\n",
    "    if acc > best_accuracy:\n",
    "        best_accuracy = acc\n",
    "        best_threshold = threshold\n",
    "        best_y_true = y_true_labels\n",
    "        best_y_pred = y_pred_labels\n",
    "\n",
    "print(f\"✅ Best threshold: {best_threshold}\")\n",
    "print(f\"🎯 Accuracy: {best_accuracy:.2%}\")\n",
    "print(\"\\n📊 Classification report:\\n\")\n",
    "print(classification_report(best_y_true, best_y_pred))\n"
   ]
  },
  {
   "cell_type": "code",
   "execution_count": null,
   "metadata": {},
   "outputs": [
    {
     "data": {
      "text/plain": [
       "<sklearn.metrics._plot.confusion_matrix.ConfusionMatrixDisplay at 0x1deb761cdf0>"
      ]
     },
     "execution_count": 227,
     "metadata": {},
     "output_type": "execute_result"
    },
    {
     "data": {
      "image/png": "[encoded data removed]",
      "text/plain": [
       "<Figure size 640x480 with 2 Axes>"
      ]
     },
     "metadata": {},
     "output_type": "display_data"
    }
   ],
   "source": [
    "cm = confusion_matrix(y_true_labels, y_pred_labels)\n",
    "disp = ConfusionMatrixDisplay(confusion_matrix=cm)\n",
    "disp.plot(cmap='Blues') "
   ]
  },
  {
   "cell_type": "code",
   "execution_count": null,
   "metadata": {},
   "outputs": [
    {
     "data": {
      "image/png": "[encoded data removed]",
      "text/plain": [
       "<Figure size 640x480 with 1 Axes>"
      ]
     },
     "metadata": {},
     "output_type": "display_data"
    }
   ],
   "source": [
    "sns.histplot(y_test['goals_team_1'], color='blue', label='true', kde=True)\n",
    "sns.histplot(y_pred[:, 0], color='red', label='predicted', kde=True)\n",
    "plt.title(\"Team 1 goals: true vs predicted\")\n",
    "plt.legend()\n",
    "plt.show()"
   ]
  },
  {
   "cell_type": "code",
   "execution_count": null,
   "metadata": {},
   "outputs": [
    {
     "data": {
      "image/png": "[encoded data removed]",
      "text/plain": [
       "<Figure size 640x480 with 1 Axes>"
      ]
     },
     "metadata": {},
     "output_type": "display_data"
    }
   ],
   "source": [
    "plt.scatter(y_test['goals_team_1'], y_pred[:, 0], alpha=0.3)\n",
    "plt.xlabel(\"True goals\")\n",
    "plt.ylabel(\"Predicted goals\")\n",
    "plt.title(\"Team 1 goals: true vs predicted\")\n",
    "plt.show()"
   ]
  },
  {
   "cell_type": "markdown",
   "metadata": {},
   "source": [
    "### Model evaluation - classfier models"
   ]
  },
  {
   "cell_type": "code",
   "execution_count": 246,
   "metadata": {},
   "outputs": [],
   "source": [
    "model_df = pd.read_csv('model_data.csv')\n",
    "\n",
    "def get_winner(row):\n",
    "    if row['goals_team_1'] > row['goals_team_2']:\n",
    "        return 'team_1'\n",
    "    elif row['goals_team_1'] < row['goals_team_2']:\n",
    "        return 'team_2'\n",
    "    else:\n",
    "        return 'team_0'\n",
    "\n",
    "model_df['winner'] = model_df.apply(get_winner, axis=1)\n",
    "\n",
    "model_df.drop(['1_formation', '2_formation', '3_formation', '4_formation', 'team_1', 'team_2', 'goals_team_1', 'goals_team_2'], axis=1, inplace=True)"
   ]
  },
  {
   "cell_type": "code",
   "execution_count": 247,
   "metadata": {},
   "outputs": [],
   "source": [
    "train_dfs = []\n",
    "test_dfs = []\n",
    "\n",
    "for league in model_df['league'].unique():\n",
    "    league_df = model_df[model_df['league'] == league]\n",
    "    \n",
    "    X_league = league_df.drop(columns=['winner'])\n",
    "    y_league = league_df[['winner']]\n",
    "    \n",
    "    X_train, X_test, y_train, y_test = train_test_split(\n",
    "        X_league, y_league, test_size=0.3, random_state=42\n",
    "    )\n",
    "    \n",
    "    train_dfs.append((X_train, y_train))\n",
    "    test_dfs.append((X_test, y_test))\n",
    "\n",
    "X_train = pd.concat([x for x, _ in train_dfs]).reset_index(drop=True)\n",
    "y_train = pd.concat([y for _, y in train_dfs]).reset_index(drop=True)\n",
    "\n",
    "X_test = pd.concat([x for x, _ in test_dfs]).reset_index(drop=True)\n",
    "y_test = pd.concat([y for _, y in test_dfs]).reset_index(drop=True)\n"
   ]
  },
  {
   "cell_type": "code",
   "execution_count": 254,
   "metadata": {},
   "outputs": [
    {
     "name": "stdout",
     "output_type": "stream",
     "text": [
      " Accuracy: 0.563\n",
      " Precision: 0.568\n",
      " Recall: 0.563\n",
      " F1 Score: 0.565\n"
     ]
    }
   ],
   "source": [
    "accuracy = accuracy_score(best_y_true, best_y_pred)\n",
    "precision = precision_score(best_y_true, best_y_pred, average='weighted')\n",
    "recall = recall_score(best_y_true, best_y_pred, average='weighted')\n",
    "f1 = f1_score(best_y_true, best_y_pred, average='weighted')\n",
    "\n",
    "print(f\" Accuracy: {accuracy:.3f}\")\n",
    "print(f\" Precision: {precision:.3f}\")\n",
    "print(f\" Recall: {recall:.3f}\")\n",
    "print(f\" F1 Score: {f1:.3f}\")"
   ]
  },
  {
   "cell_type": "code",
   "execution_count": 253,
   "metadata": {},
   "outputs": [
    {
     "data": {
      "text/plain": [
       "<sklearn.metrics._plot.confusion_matrix.ConfusionMatrixDisplay at 0x1de8578a7d0>"
      ]
     },
     "execution_count": 253,
     "metadata": {},
     "output_type": "execute_result"
    },
    {
     "data": {
      "image/png": "[encoded data removed]",
      "text/plain": [
       "<Figure size 640x480 with 2 Axes>"
      ]
     },
     "metadata": {},
     "output_type": "display_data"
    }
   ],
   "source": [
    "cm = confusion_matrix(y_true_labels, y_pred_labels)\n",
    "disp = ConfusionMatrixDisplay(confusion_matrix=cm)\n",
    "disp.plot(cmap='Blues') "
   ]
  },
  {
   "cell_type": "markdown",
   "metadata": {},
   "source": [
    "# 6 Final Betting Strategy and Profitability Analysis"
   ]
  },
  {
   "cell_type": "markdown",
   "metadata": {},
   "source": [
    "This final step builds upon the previously developed models and focuses on creating betting strategies and evaluating their profitability, now incorporating taxation. Accuracy alone is insufficient; to assess profitability, we must also consider betting odds, match dates, coupon compositions, and models that are trained and tested based on entire seasons rather than random splits—thus simulating real-world scenarios. However, before progressing to this stage, it is essential to complete the `5 Models` section, including feature engineering and revising the model-building methodology."
   ]
  }
 ],
 "metadata": {
  "kernelspec": {
   "display_name": "Python 3",
   "language": "python",
   "name": "python3"
  },
  "language_info": {
   "codemirror_mode": {
    "name": "ipython",
    "version": 3
   },
   "file_extension": ".py",
   "mimetype": "text/x-python",
   "name": "python",
   "nbconvert_exporter": "python",
   "pygments_lexer": "ipython3",
   "version": "3.10.11"
  }
 },
 "nbformat": 4,
 "nbformat_minor": 2
}
